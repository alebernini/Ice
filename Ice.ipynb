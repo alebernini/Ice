{
 "cells": [
  {
   "cell_type": "markdown",
   "metadata": {},
   "source": [
    "# Bibliotecas"
   ]
  },
  {
   "cell_type": "code",
   "execution_count": 8,
   "metadata": {},
   "outputs": [],
   "source": [
    "import pandas as pd\n",
    "import numpy as np\n",
    "import matplotlib.pyplot as plt"
   ]
  },
  {
   "cell_type": "markdown",
   "metadata": {},
   "source": [
    "## Base de Dados"
   ]
  },
  {
   "cell_type": "code",
   "execution_count": 9,
   "metadata": {},
   "outputs": [],
   "source": [
    "df = pd.read_csv('/datasets/games.csv')"
   ]
  },
  {
   "cell_type": "markdown",
   "metadata": {},
   "source": [
    "## Checagem Preliminar dos Dados"
   ]
  },
  {
   "cell_type": "code",
   "execution_count": 10,
   "metadata": {},
   "outputs": [],
   "source": [
    "#year_of_release está como tipo 'float64' e deveria ser tipo 'int'\n",
    "#user_score está como tipo 'object' e poderia ser tipo 'int'/'float'\n",
    "#Avaliar valores faltantes na análise e alterar os títulos para minúsculos"
   ]
  },
  {
   "cell_type": "code",
   "execution_count": 11,
   "metadata": {},
   "outputs": [
    {
     "name": "stdout",
     "output_type": "stream",
     "text": [
      "<class 'pandas.core.frame.DataFrame'>\n",
      "RangeIndex: 16715 entries, 0 to 16714\n",
      "Data columns (total 11 columns):\n",
      " #   Column           Non-Null Count  Dtype  \n",
      "---  ------           --------------  -----  \n",
      " 0   Name             16713 non-null  object \n",
      " 1   Platform         16715 non-null  object \n",
      " 2   Year_of_Release  16446 non-null  float64\n",
      " 3   Genre            16713 non-null  object \n",
      " 4   NA_sales         16715 non-null  float64\n",
      " 5   EU_sales         16715 non-null  float64\n",
      " 6   JP_sales         16715 non-null  float64\n",
      " 7   Other_sales      16715 non-null  float64\n",
      " 8   Critic_Score     8137 non-null   float64\n",
      " 9   User_Score       10014 non-null  object \n",
      " 10  Rating           9949 non-null   object \n",
      "dtypes: float64(6), object(5)\n",
      "memory usage: 1.4+ MB\n"
     ]
    }
   ],
   "source": [
    "df.info()"
   ]
  },
  {
   "cell_type": "code",
   "execution_count": 12,
   "metadata": {},
   "outputs": [
    {
     "data": {
      "text/html": [
       "<div>\n",
       "<style scoped>\n",
       "    .dataframe tbody tr th:only-of-type {\n",
       "        vertical-align: middle;\n",
       "    }\n",
       "\n",
       "    .dataframe tbody tr th {\n",
       "        vertical-align: top;\n",
       "    }\n",
       "\n",
       "    .dataframe thead th {\n",
       "        text-align: right;\n",
       "    }\n",
       "</style>\n",
       "<table border=\"1\" class=\"dataframe\">\n",
       "  <thead>\n",
       "    <tr style=\"text-align: right;\">\n",
       "      <th></th>\n",
       "      <th>Name</th>\n",
       "      <th>Platform</th>\n",
       "      <th>Year_of_Release</th>\n",
       "      <th>Genre</th>\n",
       "      <th>NA_sales</th>\n",
       "      <th>EU_sales</th>\n",
       "      <th>JP_sales</th>\n",
       "      <th>Other_sales</th>\n",
       "      <th>Critic_Score</th>\n",
       "      <th>User_Score</th>\n",
       "      <th>Rating</th>\n",
       "    </tr>\n",
       "  </thead>\n",
       "  <tbody>\n",
       "    <tr>\n",
       "      <th>0</th>\n",
       "      <td>Wii Sports</td>\n",
       "      <td>Wii</td>\n",
       "      <td>2006.0</td>\n",
       "      <td>Sports</td>\n",
       "      <td>41.36</td>\n",
       "      <td>28.96</td>\n",
       "      <td>3.77</td>\n",
       "      <td>8.45</td>\n",
       "      <td>76.0</td>\n",
       "      <td>8</td>\n",
       "      <td>E</td>\n",
       "    </tr>\n",
       "    <tr>\n",
       "      <th>1</th>\n",
       "      <td>Super Mario Bros.</td>\n",
       "      <td>NES</td>\n",
       "      <td>1985.0</td>\n",
       "      <td>Platform</td>\n",
       "      <td>29.08</td>\n",
       "      <td>3.58</td>\n",
       "      <td>6.81</td>\n",
       "      <td>0.77</td>\n",
       "      <td>NaN</td>\n",
       "      <td>NaN</td>\n",
       "      <td>NaN</td>\n",
       "    </tr>\n",
       "    <tr>\n",
       "      <th>2</th>\n",
       "      <td>Mario Kart Wii</td>\n",
       "      <td>Wii</td>\n",
       "      <td>2008.0</td>\n",
       "      <td>Racing</td>\n",
       "      <td>15.68</td>\n",
       "      <td>12.76</td>\n",
       "      <td>3.79</td>\n",
       "      <td>3.29</td>\n",
       "      <td>82.0</td>\n",
       "      <td>8.3</td>\n",
       "      <td>E</td>\n",
       "    </tr>\n",
       "    <tr>\n",
       "      <th>3</th>\n",
       "      <td>Wii Sports Resort</td>\n",
       "      <td>Wii</td>\n",
       "      <td>2009.0</td>\n",
       "      <td>Sports</td>\n",
       "      <td>15.61</td>\n",
       "      <td>10.93</td>\n",
       "      <td>3.28</td>\n",
       "      <td>2.95</td>\n",
       "      <td>80.0</td>\n",
       "      <td>8</td>\n",
       "      <td>E</td>\n",
       "    </tr>\n",
       "    <tr>\n",
       "      <th>4</th>\n",
       "      <td>Pokemon Red/Pokemon Blue</td>\n",
       "      <td>GB</td>\n",
       "      <td>1996.0</td>\n",
       "      <td>Role-Playing</td>\n",
       "      <td>11.27</td>\n",
       "      <td>8.89</td>\n",
       "      <td>10.22</td>\n",
       "      <td>1.00</td>\n",
       "      <td>NaN</td>\n",
       "      <td>NaN</td>\n",
       "      <td>NaN</td>\n",
       "    </tr>\n",
       "  </tbody>\n",
       "</table>\n",
       "</div>"
      ],
      "text/plain": [
       "                       Name Platform  Year_of_Release         Genre  NA_sales  \\\n",
       "0                Wii Sports      Wii           2006.0        Sports     41.36   \n",
       "1         Super Mario Bros.      NES           1985.0      Platform     29.08   \n",
       "2            Mario Kart Wii      Wii           2008.0        Racing     15.68   \n",
       "3         Wii Sports Resort      Wii           2009.0        Sports     15.61   \n",
       "4  Pokemon Red/Pokemon Blue       GB           1996.0  Role-Playing     11.27   \n",
       "\n",
       "   EU_sales  JP_sales  Other_sales  Critic_Score User_Score Rating  \n",
       "0     28.96      3.77         8.45          76.0          8      E  \n",
       "1      3.58      6.81         0.77           NaN        NaN    NaN  \n",
       "2     12.76      3.79         3.29          82.0        8.3      E  \n",
       "3     10.93      3.28         2.95          80.0          8      E  \n",
       "4      8.89     10.22         1.00           NaN        NaN    NaN  "
      ]
     },
     "execution_count": 12,
     "metadata": {},
     "output_type": "execute_result"
    }
   ],
   "source": [
    "df.head() "
   ]
  },
  {
   "cell_type": "markdown",
   "metadata": {},
   "source": [
    "## Preparação dos Dados"
   ]
  },
  {
   "cell_type": "markdown",
   "metadata": {},
   "source": [
    "### Substituir os nomes das colunas (transformar tudo em minúsculos)\n",
    "\n",
    "\n",
    "\n",
    "\n",
    "\n",
    "\n"
   ]
  },
  {
   "cell_type": "code",
   "execution_count": 13,
   "metadata": {},
   "outputs": [
    {
     "name": "stdout",
     "output_type": "stream",
     "text": [
      "Index(['name', 'platform', 'year_of_release', 'genre', 'na_sales', 'eu_sales',\n",
      "       'jp_sales', 'other_sales', 'critic_score', 'user_score', 'rating'],\n",
      "      dtype='object')\n"
     ]
    }
   ],
   "source": [
    "# tranformando tudo em minúsculo\n",
    "\n",
    "df.columns = df.columns.str.lower()\n",
    "print(df.columns)"
   ]
  },
  {
   "cell_type": "code",
   "execution_count": 14,
   "metadata": {},
   "outputs": [
    {
     "data": {
      "text/html": [
       "<div>\n",
       "<style scoped>\n",
       "    .dataframe tbody tr th:only-of-type {\n",
       "        vertical-align: middle;\n",
       "    }\n",
       "\n",
       "    .dataframe tbody tr th {\n",
       "        vertical-align: top;\n",
       "    }\n",
       "\n",
       "    .dataframe thead th {\n",
       "        text-align: right;\n",
       "    }\n",
       "</style>\n",
       "<table border=\"1\" class=\"dataframe\">\n",
       "  <thead>\n",
       "    <tr style=\"text-align: right;\">\n",
       "      <th></th>\n",
       "      <th>name</th>\n",
       "      <th>platform</th>\n",
       "      <th>year_of_release</th>\n",
       "      <th>genre</th>\n",
       "      <th>na_sales</th>\n",
       "      <th>eu_sales</th>\n",
       "      <th>jp_sales</th>\n",
       "      <th>other_sales</th>\n",
       "      <th>critic_score</th>\n",
       "      <th>user_score</th>\n",
       "      <th>rating</th>\n",
       "    </tr>\n",
       "  </thead>\n",
       "  <tbody>\n",
       "    <tr>\n",
       "      <th>0</th>\n",
       "      <td>Wii Sports</td>\n",
       "      <td>Wii</td>\n",
       "      <td>2006.0</td>\n",
       "      <td>Sports</td>\n",
       "      <td>41.36</td>\n",
       "      <td>28.96</td>\n",
       "      <td>3.77</td>\n",
       "      <td>8.45</td>\n",
       "      <td>76.0</td>\n",
       "      <td>8</td>\n",
       "      <td>E</td>\n",
       "    </tr>\n",
       "    <tr>\n",
       "      <th>1</th>\n",
       "      <td>Super Mario Bros.</td>\n",
       "      <td>NES</td>\n",
       "      <td>1985.0</td>\n",
       "      <td>Platform</td>\n",
       "      <td>29.08</td>\n",
       "      <td>3.58</td>\n",
       "      <td>6.81</td>\n",
       "      <td>0.77</td>\n",
       "      <td>NaN</td>\n",
       "      <td>NaN</td>\n",
       "      <td>NaN</td>\n",
       "    </tr>\n",
       "    <tr>\n",
       "      <th>2</th>\n",
       "      <td>Mario Kart Wii</td>\n",
       "      <td>Wii</td>\n",
       "      <td>2008.0</td>\n",
       "      <td>Racing</td>\n",
       "      <td>15.68</td>\n",
       "      <td>12.76</td>\n",
       "      <td>3.79</td>\n",
       "      <td>3.29</td>\n",
       "      <td>82.0</td>\n",
       "      <td>8.3</td>\n",
       "      <td>E</td>\n",
       "    </tr>\n",
       "    <tr>\n",
       "      <th>3</th>\n",
       "      <td>Wii Sports Resort</td>\n",
       "      <td>Wii</td>\n",
       "      <td>2009.0</td>\n",
       "      <td>Sports</td>\n",
       "      <td>15.61</td>\n",
       "      <td>10.93</td>\n",
       "      <td>3.28</td>\n",
       "      <td>2.95</td>\n",
       "      <td>80.0</td>\n",
       "      <td>8</td>\n",
       "      <td>E</td>\n",
       "    </tr>\n",
       "    <tr>\n",
       "      <th>4</th>\n",
       "      <td>Pokemon Red/Pokemon Blue</td>\n",
       "      <td>GB</td>\n",
       "      <td>1996.0</td>\n",
       "      <td>Role-Playing</td>\n",
       "      <td>11.27</td>\n",
       "      <td>8.89</td>\n",
       "      <td>10.22</td>\n",
       "      <td>1.00</td>\n",
       "      <td>NaN</td>\n",
       "      <td>NaN</td>\n",
       "      <td>NaN</td>\n",
       "    </tr>\n",
       "  </tbody>\n",
       "</table>\n",
       "</div>"
      ],
      "text/plain": [
       "                       name platform  year_of_release         genre  na_sales  \\\n",
       "0                Wii Sports      Wii           2006.0        Sports     41.36   \n",
       "1         Super Mario Bros.      NES           1985.0      Platform     29.08   \n",
       "2            Mario Kart Wii      Wii           2008.0        Racing     15.68   \n",
       "3         Wii Sports Resort      Wii           2009.0        Sports     15.61   \n",
       "4  Pokemon Red/Pokemon Blue       GB           1996.0  Role-Playing     11.27   \n",
       "\n",
       "   eu_sales  jp_sales  other_sales  critic_score user_score rating  \n",
       "0     28.96      3.77         8.45          76.0          8      E  \n",
       "1      3.58      6.81         0.77           NaN        NaN    NaN  \n",
       "2     12.76      3.79         3.29          82.0        8.3      E  \n",
       "3     10.93      3.28         2.95          80.0          8      E  \n",
       "4      8.89     10.22         1.00           NaN        NaN    NaN  "
      ]
     },
     "execution_count": 14,
     "metadata": {},
     "output_type": "execute_result"
    }
   ],
   "source": [
    "df.head()"
   ]
  },
  {
   "cell_type": "code",
   "execution_count": 15,
   "metadata": {},
   "outputs": [
    {
     "data": {
      "text/plain": [
       "0          8\n",
       "1        NaN\n",
       "2        8.3\n",
       "3          8\n",
       "4        NaN\n",
       "        ... \n",
       "16710    NaN\n",
       "16711    NaN\n",
       "16712    NaN\n",
       "16713    NaN\n",
       "16714    NaN\n",
       "Name: user_score, Length: 16715, dtype: object"
      ]
     },
     "execution_count": 15,
     "metadata": {},
     "output_type": "execute_result"
    }
   ],
   "source": [
    "df['user_score']"
   ]
  },
  {
   "cell_type": "code",
   "execution_count": 16,
   "metadata": {},
   "outputs": [
    {
     "data": {
      "text/plain": [
       "0          8\n",
       "1          0\n",
       "2        8.3\n",
       "3          8\n",
       "4          0\n",
       "        ... \n",
       "16710      0\n",
       "16711      0\n",
       "16712      0\n",
       "16713      0\n",
       "16714      0\n",
       "Name: user_score, Length: 16715, dtype: object"
      ]
     },
     "execution_count": 16,
     "metadata": {},
     "output_type": "execute_result"
    }
   ],
   "source": [
    "df['user_score'] = df['user_score'].fillna(0)\n",
    "df['user_score']"
   ]
  },
  {
   "cell_type": "code",
   "execution_count": 18,
   "metadata": {},
   "outputs": [
    {
     "data": {
      "text/plain": [
       "0      6701\n",
       "tbd    2424\n",
       "7.8     324\n",
       "8       290\n",
       "8.2     282\n",
       "       ... \n",
       "1.1       2\n",
       "1.3       2\n",
       "0.2       2\n",
       "0         1\n",
       "9.7       1\n",
       "Name: user_score, Length: 97, dtype: int64"
      ]
     },
     "execution_count": 18,
     "metadata": {},
     "output_type": "execute_result"
    }
   ],
   "source": [
    "df['user_score'].value_counts()"
   ]
  },
  {
   "cell_type": "code",
   "execution_count": 20,
   "metadata": {},
   "outputs": [
    {
     "data": {
      "text/plain": [
       "0      6701\n",
       "tbd    2424\n",
       "7.8     324\n",
       "8       290\n",
       "8.2     282\n",
       "       ... \n",
       "1.1       2\n",
       "1.3       2\n",
       "0.2       2\n",
       "0         1\n",
       "9.7       1\n",
       "Name: user_score, Length: 97, dtype: int64"
      ]
     },
     "execution_count": 20,
     "metadata": {},
     "output_type": "execute_result"
    }
   ],
   "source": [
    "df['user_score'].value_counts().dropna(False)"
   ]
  },
  {
   "cell_type": "code",
   "execution_count": 21,
   "metadata": {},
   "outputs": [
    {
     "name": "stdout",
     "output_type": "stream",
     "text": [
      "float64\n"
     ]
    }
   ],
   "source": [
    "# substituir todas as ocorrências do valor 'tdb' na coluna 'user_score' por np.nan, marcando-as como valores ausentes (nulos).\n",
    "\n",
    "df['user_score'].replace('tbd', np.nan)\n",
    "df['user_score'] = pd.to_numeric(df['user_score'], errors='coerce')\n",
    "print(df['user_score'].dtype)"
   ]
  },
  {
   "cell_type": "code",
   "execution_count": 22,
   "metadata": {},
   "outputs": [
    {
     "name": "stdout",
     "output_type": "stream",
     "text": [
      "<class 'pandas.core.frame.DataFrame'>\n",
      "RangeIndex: 16715 entries, 0 to 16714\n",
      "Data columns (total 11 columns):\n",
      " #   Column           Non-Null Count  Dtype  \n",
      "---  ------           --------------  -----  \n",
      " 0   name             16713 non-null  object \n",
      " 1   platform         16715 non-null  object \n",
      " 2   year_of_release  16446 non-null  float64\n",
      " 3   genre            16713 non-null  object \n",
      " 4   na_sales         16715 non-null  float64\n",
      " 5   eu_sales         16715 non-null  float64\n",
      " 6   jp_sales         16715 non-null  float64\n",
      " 7   other_sales      16715 non-null  float64\n",
      " 8   critic_score     8137 non-null   float64\n",
      " 9   user_score       14291 non-null  float64\n",
      " 10  rating           9949 non-null   object \n",
      "dtypes: float64(7), object(4)\n",
      "memory usage: 1.4+ MB\n"
     ]
    }
   ],
   "source": [
    "df.info()"
   ]
  },
  {
   "cell_type": "code",
   "execution_count": 23,
   "metadata": {},
   "outputs": [],
   "source": [
    "# excluído o código df['user_score'] = df['user_score'].fillna(0)"
   ]
  },
  {
   "cell_type": "code",
   "execution_count": 24,
   "metadata": {},
   "outputs": [
    {
     "data": {
      "text/plain": [
       "name                object\n",
       "platform            object\n",
       "year_of_release    float64\n",
       "genre               object\n",
       "na_sales           float64\n",
       "eu_sales           float64\n",
       "jp_sales           float64\n",
       "other_sales        float64\n",
       "critic_score       float64\n",
       "user_score         float64\n",
       "rating              object\n",
       "dtype: object"
      ]
     },
     "execution_count": 24,
     "metadata": {},
     "output_type": "execute_result"
    }
   ],
   "source": [
    "df.dtypes"
   ]
  },
  {
   "cell_type": "code",
   "execution_count": 25,
   "metadata": {},
   "outputs": [
    {
     "data": {
      "text/html": [
       "<div>\n",
       "<style scoped>\n",
       "    .dataframe tbody tr th:only-of-type {\n",
       "        vertical-align: middle;\n",
       "    }\n",
       "\n",
       "    .dataframe tbody tr th {\n",
       "        vertical-align: top;\n",
       "    }\n",
       "\n",
       "    .dataframe thead th {\n",
       "        text-align: right;\n",
       "    }\n",
       "</style>\n",
       "<table border=\"1\" class=\"dataframe\">\n",
       "  <thead>\n",
       "    <tr style=\"text-align: right;\">\n",
       "      <th></th>\n",
       "      <th>name</th>\n",
       "      <th>platform</th>\n",
       "      <th>year_of_release</th>\n",
       "      <th>genre</th>\n",
       "      <th>na_sales</th>\n",
       "      <th>eu_sales</th>\n",
       "      <th>jp_sales</th>\n",
       "      <th>other_sales</th>\n",
       "      <th>critic_score</th>\n",
       "      <th>user_score</th>\n",
       "      <th>rating</th>\n",
       "    </tr>\n",
       "  </thead>\n",
       "  <tbody>\n",
       "    <tr>\n",
       "      <th>183</th>\n",
       "      <td>Madden NFL 2004</td>\n",
       "      <td>PS2</td>\n",
       "      <td>NaN</td>\n",
       "      <td>Sports</td>\n",
       "      <td>4.26</td>\n",
       "      <td>0.26</td>\n",
       "      <td>0.01</td>\n",
       "      <td>0.71</td>\n",
       "      <td>94.0</td>\n",
       "      <td>8.5</td>\n",
       "      <td>E</td>\n",
       "    </tr>\n",
       "    <tr>\n",
       "      <th>377</th>\n",
       "      <td>FIFA Soccer 2004</td>\n",
       "      <td>PS2</td>\n",
       "      <td>NaN</td>\n",
       "      <td>Sports</td>\n",
       "      <td>0.59</td>\n",
       "      <td>2.36</td>\n",
       "      <td>0.04</td>\n",
       "      <td>0.51</td>\n",
       "      <td>84.0</td>\n",
       "      <td>6.4</td>\n",
       "      <td>E</td>\n",
       "    </tr>\n",
       "    <tr>\n",
       "      <th>456</th>\n",
       "      <td>LEGO Batman: The Videogame</td>\n",
       "      <td>Wii</td>\n",
       "      <td>NaN</td>\n",
       "      <td>Action</td>\n",
       "      <td>1.80</td>\n",
       "      <td>0.97</td>\n",
       "      <td>0.00</td>\n",
       "      <td>0.29</td>\n",
       "      <td>74.0</td>\n",
       "      <td>7.9</td>\n",
       "      <td>E10+</td>\n",
       "    </tr>\n",
       "    <tr>\n",
       "      <th>475</th>\n",
       "      <td>wwe Smackdown vs. Raw 2006</td>\n",
       "      <td>PS2</td>\n",
       "      <td>NaN</td>\n",
       "      <td>Fighting</td>\n",
       "      <td>1.57</td>\n",
       "      <td>1.02</td>\n",
       "      <td>0.00</td>\n",
       "      <td>0.41</td>\n",
       "      <td>NaN</td>\n",
       "      <td>0.0</td>\n",
       "      <td>NaN</td>\n",
       "    </tr>\n",
       "    <tr>\n",
       "      <th>609</th>\n",
       "      <td>Space Invaders</td>\n",
       "      <td>2600</td>\n",
       "      <td>NaN</td>\n",
       "      <td>Shooter</td>\n",
       "      <td>2.36</td>\n",
       "      <td>0.14</td>\n",
       "      <td>0.00</td>\n",
       "      <td>0.03</td>\n",
       "      <td>NaN</td>\n",
       "      <td>0.0</td>\n",
       "      <td>NaN</td>\n",
       "    </tr>\n",
       "    <tr>\n",
       "      <th>...</th>\n",
       "      <td>...</td>\n",
       "      <td>...</td>\n",
       "      <td>...</td>\n",
       "      <td>...</td>\n",
       "      <td>...</td>\n",
       "      <td>...</td>\n",
       "      <td>...</td>\n",
       "      <td>...</td>\n",
       "      <td>...</td>\n",
       "      <td>...</td>\n",
       "      <td>...</td>\n",
       "    </tr>\n",
       "    <tr>\n",
       "      <th>16373</th>\n",
       "      <td>PDC World Championship Darts 2008</td>\n",
       "      <td>PSP</td>\n",
       "      <td>NaN</td>\n",
       "      <td>Sports</td>\n",
       "      <td>0.01</td>\n",
       "      <td>0.00</td>\n",
       "      <td>0.00</td>\n",
       "      <td>0.00</td>\n",
       "      <td>43.0</td>\n",
       "      <td>NaN</td>\n",
       "      <td>E10+</td>\n",
       "    </tr>\n",
       "    <tr>\n",
       "      <th>16405</th>\n",
       "      <td>Freaky Flyers</td>\n",
       "      <td>GC</td>\n",
       "      <td>NaN</td>\n",
       "      <td>Racing</td>\n",
       "      <td>0.01</td>\n",
       "      <td>0.00</td>\n",
       "      <td>0.00</td>\n",
       "      <td>0.00</td>\n",
       "      <td>69.0</td>\n",
       "      <td>6.5</td>\n",
       "      <td>T</td>\n",
       "    </tr>\n",
       "    <tr>\n",
       "      <th>16448</th>\n",
       "      <td>Inversion</td>\n",
       "      <td>PC</td>\n",
       "      <td>NaN</td>\n",
       "      <td>Shooter</td>\n",
       "      <td>0.01</td>\n",
       "      <td>0.00</td>\n",
       "      <td>0.00</td>\n",
       "      <td>0.00</td>\n",
       "      <td>59.0</td>\n",
       "      <td>6.7</td>\n",
       "      <td>M</td>\n",
       "    </tr>\n",
       "    <tr>\n",
       "      <th>16458</th>\n",
       "      <td>Hakuouki: Shinsengumi Kitan</td>\n",
       "      <td>PS3</td>\n",
       "      <td>NaN</td>\n",
       "      <td>Adventure</td>\n",
       "      <td>0.01</td>\n",
       "      <td>0.00</td>\n",
       "      <td>0.00</td>\n",
       "      <td>0.00</td>\n",
       "      <td>NaN</td>\n",
       "      <td>0.0</td>\n",
       "      <td>NaN</td>\n",
       "    </tr>\n",
       "    <tr>\n",
       "      <th>16522</th>\n",
       "      <td>Virtua Quest</td>\n",
       "      <td>GC</td>\n",
       "      <td>NaN</td>\n",
       "      <td>Role-Playing</td>\n",
       "      <td>0.01</td>\n",
       "      <td>0.00</td>\n",
       "      <td>0.00</td>\n",
       "      <td>0.00</td>\n",
       "      <td>55.0</td>\n",
       "      <td>5.5</td>\n",
       "      <td>T</td>\n",
       "    </tr>\n",
       "  </tbody>\n",
       "</table>\n",
       "<p>269 rows × 11 columns</p>\n",
       "</div>"
      ],
      "text/plain": [
       "                                    name platform  year_of_release  \\\n",
       "183                      Madden NFL 2004      PS2              NaN   \n",
       "377                     FIFA Soccer 2004      PS2              NaN   \n",
       "456           LEGO Batman: The Videogame      Wii              NaN   \n",
       "475           wwe Smackdown vs. Raw 2006      PS2              NaN   \n",
       "609                       Space Invaders     2600              NaN   \n",
       "...                                  ...      ...              ...   \n",
       "16373  PDC World Championship Darts 2008      PSP              NaN   \n",
       "16405                      Freaky Flyers       GC              NaN   \n",
       "16448                          Inversion       PC              NaN   \n",
       "16458        Hakuouki: Shinsengumi Kitan      PS3              NaN   \n",
       "16522                       Virtua Quest       GC              NaN   \n",
       "\n",
       "              genre  na_sales  eu_sales  jp_sales  other_sales  critic_score  \\\n",
       "183          Sports      4.26      0.26      0.01         0.71          94.0   \n",
       "377          Sports      0.59      2.36      0.04         0.51          84.0   \n",
       "456          Action      1.80      0.97      0.00         0.29          74.0   \n",
       "475        Fighting      1.57      1.02      0.00         0.41           NaN   \n",
       "609         Shooter      2.36      0.14      0.00         0.03           NaN   \n",
       "...             ...       ...       ...       ...          ...           ...   \n",
       "16373        Sports      0.01      0.00      0.00         0.00          43.0   \n",
       "16405        Racing      0.01      0.00      0.00         0.00          69.0   \n",
       "16448       Shooter      0.01      0.00      0.00         0.00          59.0   \n",
       "16458     Adventure      0.01      0.00      0.00         0.00           NaN   \n",
       "16522  Role-Playing      0.01      0.00      0.00         0.00          55.0   \n",
       "\n",
       "       user_score rating  \n",
       "183           8.5      E  \n",
       "377           6.4      E  \n",
       "456           7.9   E10+  \n",
       "475           0.0    NaN  \n",
       "609           0.0    NaN  \n",
       "...           ...    ...  \n",
       "16373         NaN   E10+  \n",
       "16405         6.5      T  \n",
       "16448         6.7      M  \n",
       "16458         0.0    NaN  \n",
       "16522         5.5      T  \n",
       "\n",
       "[269 rows x 11 columns]"
      ]
     },
     "execution_count": 25,
     "metadata": {},
     "output_type": "execute_result"
    }
   ],
   "source": [
    "df[df['year_of_release'].isna()]"
   ]
  },
  {
   "cell_type": "code",
   "execution_count": 26,
   "metadata": {},
   "outputs": [
    {
     "data": {
      "text/plain": [
       "2008.0    1427\n",
       "2009.0    1426\n",
       "2010.0    1255\n",
       "2007.0    1197\n",
       "2011.0    1136\n",
       "2006.0    1006\n",
       "2005.0     939\n",
       "2002.0     829\n",
       "2003.0     775\n",
       "2004.0     762\n",
       "2012.0     653\n",
       "2015.0     606\n",
       "2014.0     581\n",
       "2013.0     544\n",
       "2016.0     502\n",
       "2001.0     482\n",
       "1998.0     379\n",
       "2000.0     350\n",
       "1999.0     338\n",
       "1997.0     289\n",
       "NaN        269\n",
       "1996.0     263\n",
       "1995.0     219\n",
       "1994.0     121\n",
       "1993.0      62\n",
       "1981.0      46\n",
       "1992.0      43\n",
       "1991.0      41\n",
       "1982.0      36\n",
       "1986.0      21\n",
       "1983.0      17\n",
       "1989.0      17\n",
       "1990.0      16\n",
       "1987.0      16\n",
       "1988.0      15\n",
       "1984.0      14\n",
       "1985.0      14\n",
       "1980.0       9\n",
       "Name: year_of_release, dtype: int64"
      ]
     },
     "execution_count": 26,
     "metadata": {},
     "output_type": "execute_result"
    }
   ],
   "source": [
    "df['year_of_release'].value_counts(dropna=False)"
   ]
  },
  {
   "cell_type": "markdown",
   "metadata": {},
   "source": [
    "### Calcule o total de vendas (a soma das vendas em todas as regiões) para cada jogo e coloque esses valores em uma coluna separada"
   ]
  },
  {
   "cell_type": "code",
   "execution_count": 27,
   "metadata": {},
   "outputs": [
    {
     "data": {
      "text/plain": [
       "Index(['name', 'platform', 'year_of_release', 'genre', 'na_sales', 'eu_sales',\n",
       "       'jp_sales', 'other_sales', 'critic_score', 'user_score', 'rating'],\n",
       "      dtype='object')"
      ]
     },
     "execution_count": 27,
     "metadata": {},
     "output_type": "execute_result"
    }
   ],
   "source": [
    "df.columns"
   ]
  },
  {
   "cell_type": "code",
   "execution_count": 28,
   "metadata": {},
   "outputs": [],
   "source": [
    "df['total_sales'] = df[['na_sales', 'eu_sales',\n",
    "       'jp_sales', 'other_sales']].sum(axis=1)"
   ]
  },
  {
   "cell_type": "code",
   "execution_count": 29,
   "metadata": {},
   "outputs": [
    {
     "data": {
      "text/html": [
       "<div>\n",
       "<style scoped>\n",
       "    .dataframe tbody tr th:only-of-type {\n",
       "        vertical-align: middle;\n",
       "    }\n",
       "\n",
       "    .dataframe tbody tr th {\n",
       "        vertical-align: top;\n",
       "    }\n",
       "\n",
       "    .dataframe thead th {\n",
       "        text-align: right;\n",
       "    }\n",
       "</style>\n",
       "<table border=\"1\" class=\"dataframe\">\n",
       "  <thead>\n",
       "    <tr style=\"text-align: right;\">\n",
       "      <th></th>\n",
       "      <th>name</th>\n",
       "      <th>platform</th>\n",
       "      <th>year_of_release</th>\n",
       "      <th>genre</th>\n",
       "      <th>na_sales</th>\n",
       "      <th>eu_sales</th>\n",
       "      <th>jp_sales</th>\n",
       "      <th>other_sales</th>\n",
       "      <th>critic_score</th>\n",
       "      <th>user_score</th>\n",
       "      <th>rating</th>\n",
       "      <th>total_sales</th>\n",
       "    </tr>\n",
       "  </thead>\n",
       "  <tbody>\n",
       "    <tr>\n",
       "      <th>0</th>\n",
       "      <td>Wii Sports</td>\n",
       "      <td>Wii</td>\n",
       "      <td>2006.0</td>\n",
       "      <td>Sports</td>\n",
       "      <td>41.36</td>\n",
       "      <td>28.96</td>\n",
       "      <td>3.77</td>\n",
       "      <td>8.45</td>\n",
       "      <td>76.0</td>\n",
       "      <td>8.0</td>\n",
       "      <td>E</td>\n",
       "      <td>82.54</td>\n",
       "    </tr>\n",
       "    <tr>\n",
       "      <th>1</th>\n",
       "      <td>Super Mario Bros.</td>\n",
       "      <td>NES</td>\n",
       "      <td>1985.0</td>\n",
       "      <td>Platform</td>\n",
       "      <td>29.08</td>\n",
       "      <td>3.58</td>\n",
       "      <td>6.81</td>\n",
       "      <td>0.77</td>\n",
       "      <td>NaN</td>\n",
       "      <td>0.0</td>\n",
       "      <td>NaN</td>\n",
       "      <td>40.24</td>\n",
       "    </tr>\n",
       "    <tr>\n",
       "      <th>2</th>\n",
       "      <td>Mario Kart Wii</td>\n",
       "      <td>Wii</td>\n",
       "      <td>2008.0</td>\n",
       "      <td>Racing</td>\n",
       "      <td>15.68</td>\n",
       "      <td>12.76</td>\n",
       "      <td>3.79</td>\n",
       "      <td>3.29</td>\n",
       "      <td>82.0</td>\n",
       "      <td>8.3</td>\n",
       "      <td>E</td>\n",
       "      <td>35.52</td>\n",
       "    </tr>\n",
       "    <tr>\n",
       "      <th>3</th>\n",
       "      <td>Wii Sports Resort</td>\n",
       "      <td>Wii</td>\n",
       "      <td>2009.0</td>\n",
       "      <td>Sports</td>\n",
       "      <td>15.61</td>\n",
       "      <td>10.93</td>\n",
       "      <td>3.28</td>\n",
       "      <td>2.95</td>\n",
       "      <td>80.0</td>\n",
       "      <td>8.0</td>\n",
       "      <td>E</td>\n",
       "      <td>32.77</td>\n",
       "    </tr>\n",
       "    <tr>\n",
       "      <th>4</th>\n",
       "      <td>Pokemon Red/Pokemon Blue</td>\n",
       "      <td>GB</td>\n",
       "      <td>1996.0</td>\n",
       "      <td>Role-Playing</td>\n",
       "      <td>11.27</td>\n",
       "      <td>8.89</td>\n",
       "      <td>10.22</td>\n",
       "      <td>1.00</td>\n",
       "      <td>NaN</td>\n",
       "      <td>0.0</td>\n",
       "      <td>NaN</td>\n",
       "      <td>31.38</td>\n",
       "    </tr>\n",
       "  </tbody>\n",
       "</table>\n",
       "</div>"
      ],
      "text/plain": [
       "                       name platform  year_of_release         genre  na_sales  \\\n",
       "0                Wii Sports      Wii           2006.0        Sports     41.36   \n",
       "1         Super Mario Bros.      NES           1985.0      Platform     29.08   \n",
       "2            Mario Kart Wii      Wii           2008.0        Racing     15.68   \n",
       "3         Wii Sports Resort      Wii           2009.0        Sports     15.61   \n",
       "4  Pokemon Red/Pokemon Blue       GB           1996.0  Role-Playing     11.27   \n",
       "\n",
       "   eu_sales  jp_sales  other_sales  critic_score  user_score rating  \\\n",
       "0     28.96      3.77         8.45          76.0         8.0      E   \n",
       "1      3.58      6.81         0.77           NaN         0.0    NaN   \n",
       "2     12.76      3.79         3.29          82.0         8.3      E   \n",
       "3     10.93      3.28         2.95          80.0         8.0      E   \n",
       "4      8.89     10.22         1.00           NaN         0.0    NaN   \n",
       "\n",
       "   total_sales  \n",
       "0        82.54  \n",
       "1        40.24  \n",
       "2        35.52  \n",
       "3        32.77  \n",
       "4        31.38  "
      ]
     },
     "execution_count": 29,
     "metadata": {},
     "output_type": "execute_result"
    }
   ],
   "source": [
    "df.head()"
   ]
  },
  {
   "cell_type": "markdown",
   "metadata": {},
   "source": [
    "## Análise de Dados"
   ]
  },
  {
   "cell_type": "markdown",
   "metadata": {},
   "source": [
    "### Jogos lançados em anos diferentes "
   ]
  },
  {
   "cell_type": "code",
   "execution_count": 30,
   "metadata": {},
   "outputs": [
    {
     "name": "stdout",
     "output_type": "stream",
     "text": [
      "1980.0       9\n",
      "1981.0      46\n",
      "1982.0      36\n",
      "1983.0      17\n",
      "1984.0      14\n",
      "1985.0      14\n",
      "1986.0      21\n",
      "1987.0      16\n",
      "1988.0      15\n",
      "1989.0      17\n",
      "1990.0      16\n",
      "1991.0      41\n",
      "1992.0      43\n",
      "1993.0      62\n",
      "1994.0     121\n",
      "1995.0     219\n",
      "1996.0     263\n",
      "1997.0     289\n",
      "1998.0     379\n",
      "1999.0     338\n",
      "2000.0     350\n",
      "2001.0     482\n",
      "2002.0     829\n",
      "2003.0     775\n",
      "2004.0     762\n",
      "2005.0     939\n",
      "2006.0    1006\n",
      "2007.0    1197\n",
      "2008.0    1427\n",
      "2009.0    1426\n",
      "2010.0    1255\n",
      "2011.0    1136\n",
      "2012.0     653\n",
      "2013.0     544\n",
      "2014.0     581\n",
      "2015.0     606\n",
      "2016.0     502\n",
      "Name: year_of_release, dtype: int64\n"
     ]
    }
   ],
   "source": [
    "releases_per_year = df['year_of_release'].value_counts().sort_index()\n",
    "print(releases_per_year)"
   ]
  },
  {
   "cell_type": "code",
   "execution_count": 31,
   "metadata": {},
   "outputs": [],
   "source": [
    "df['year_of_release'] = pd.to_numeric(df['year_of_release'], errors='coerce')\n",
    "df = df.dropna(subset=['year_of_release'])"
   ]
  },
  {
   "cell_type": "code",
   "execution_count": 32,
   "metadata": {},
   "outputs": [
    {
     "data": {
      "image/png": "[encoded data removed]",
      "text/plain": [
       "<Figure size 1000x600 with 1 Axes>"
      ]
     },
     "metadata": {},
     "output_type": "display_data"
    },
    {
     "name": "stdout",
     "output_type": "stream",
     "text": [
      "count      37.000000\n",
      "mean      444.486486\n",
      "std       451.557159\n",
      "min         9.000000\n",
      "25%        36.000000\n",
      "50%       338.000000\n",
      "75%       762.000000\n",
      "max      1427.000000\n",
      "Name: year_of_release, dtype: float64\n"
     ]
    }
   ],
   "source": [
    "import matplotlib.pyplot as plt\n",
    "releases_per_year = df['year_of_release'].value_counts().sort_index()\n",
    "\n",
    "plt.figure(figsize=(10,6))\n",
    "\n",
    "plt.plot(releases_per_year.index.to_numpy(), releases_per_year.values, marker='o')\n",
    "plt.title('Quantity of Games Released per Year')\n",
    "plt.xlabel('Year')\n",
    "plt.ylabel('Qty of Games')\n",
    "plt.grid(True)\n",
    "plt.show()\n",
    "\n",
    "print(releases_per_year.describe())\n"
   ]
  },
  {
   "cell_type": "markdown",
   "metadata": {},
   "source": [
    "#A maior concentração de lançamento de jogos ocorreu no período entre 2005 e 2010 com uma quantidade aproximada de 1427 jogos. A empresa vem cresecendo em lançamento desde 1980. No entanto, a partir de 2008 começou um declínio de lançamentos ano a ano."
   ]
  },
  {
   "cell_type": "markdown",
   "metadata": {},
   "source": [
    "###  Variação das vendas por plataformas e distribuição por ano"
   ]
  },
  {
   "cell_type": "code",
   "execution_count": 33,
   "metadata": {},
   "outputs": [
    {
     "name": "stdout",
     "output_type": "stream",
     "text": [
      "platform\n",
      "2600      86.48\n",
      "3DO        0.10\n",
      "3DS      257.81\n",
      "DC        15.95\n",
      "DS       802.78\n",
      "GB       254.43\n",
      "GBA      312.88\n",
      "GC       196.73\n",
      "GEN       30.77\n",
      "GG         0.04\n",
      "N64      218.01\n",
      "NES      251.05\n",
      "NG         1.44\n",
      "PC       255.76\n",
      "PCFX       0.03\n",
      "PS       727.58\n",
      "PS2     1233.56\n",
      "PS3      931.34\n",
      "PS4      314.14\n",
      "PSP      289.53\n",
      "PSV       53.81\n",
      "SAT       33.59\n",
      "SCD        1.86\n",
      "SNES     200.04\n",
      "TG16       0.16\n",
      "WS         1.42\n",
      "Wii      891.18\n",
      "WiiU      82.19\n",
      "X360     961.24\n",
      "XB       251.57\n",
      "XOne     159.32\n",
      "dtype: float64\n"
     ]
    }
   ],
   "source": [
    "sales_per_platform_per_year = df.groupby(['platform'])[['na_sales', 'eu_sales', 'jp_sales', 'other_sales']].sum().sum(axis=1)\n",
    "print(sales_per_platform_per_year)"
   ]
  },
  {
   "cell_type": "code",
   "execution_count": 34,
   "metadata": {},
   "outputs": [
    {
     "data": {
      "image/png": "[encoded data removed]",
      "text/plain": [
       "<Figure size 1000x600 with 1 Axes>"
      ]
     },
     "metadata": {},
     "output_type": "display_data"
    }
   ],
   "source": [
    "big_platforms = sales_per_platform_per_year.nlargest(5)\n",
    "df_big_platforms = df[df['platform'].isin(big_platforms.index)]\n",
    "\n",
    "plt.figure(figsize=(10, 6))\n",
    "\n",
    "for platform in big_platforms.index:\n",
    "    sales_annual = df_big_platforms[df_big_platforms['platform'] == platform].groupby('year_of_release')[['na_sales','eu_sales','jp_sales','other_sales']].sum().sum(axis=1)\n",
    "    plt.plot(sales_annual.index, sales_annual.values, marker='o', label=platform)\n",
    "    \n",
    "plt.title('Var of Sales per Platform (by year)')\n",
    "plt.xlabel('Year')\n",
    "plt.ylabel('Sales')\n",
    "plt.grid(True)\n",
    "plt.legend()  \n",
    "plt.show()"
   ]
  },
  {
   "cell_type": "markdown",
   "metadata": {},
   "source": [
    "### Plataformas que costumavam ser populares"
   ]
  },
  {
   "cell_type": "code",
   "execution_count": 35,
   "metadata": {},
   "outputs": [
    {
     "name": "stdout",
     "output_type": "stream",
     "text": [
      "                        name platform  year_of_release  total_sales\n",
      "0                 Wii Sports      Wii           2006.0        82.54\n",
      "1          Super Mario Bros.      NES           1985.0        40.24\n",
      "2             Mario Kart Wii      Wii           2008.0        35.52\n",
      "3          Wii Sports Resort      Wii           2009.0        32.77\n",
      "4   Pokemon Red/Pokemon Blue       GB           1996.0        31.38\n",
      "5                     Tetris       GB           1989.0        30.26\n",
      "6      New Super Mario Bros.       DS           2006.0        29.80\n",
      "7                   Wii Play      Wii           2006.0        28.91\n",
      "8  New Super Mario Bros. Wii      Wii           2009.0        28.32\n",
      "9                  Duck Hunt      NES           1984.0        28.31\n"
     ]
    }
   ],
   "source": [
    "df = df.dropna(subset=['total_sales'])\n",
    "df_sorted = df.sort_values(by='total_sales', ascending=False)\n",
    "print(df_sorted[['name', 'platform', 'year_of_release', 'total_sales']].head(10))"
   ]
  },
  {
   "cell_type": "code",
   "execution_count": 36,
   "metadata": {},
   "outputs": [],
   "source": [
    "# utilizei como critério uma lista de dez plataformas mais populares pelo total de vendas, incluindo o ano de lançamento. "
   ]
  },
  {
   "cell_type": "markdown",
   "metadata": {},
   "source": [
    "### Determine para qual período você deve pegar dados. Para fazê-lo, olhe para suas respostas para as perguntas anteriores. Os dados te deveriam permitir construir um modelo para 2017."
   ]
  },
  {
   "cell_type": "code",
   "execution_count": 37,
   "metadata": {},
   "outputs": [],
   "source": [
    "# Considerando o gráfico no item 4.1, a maior relevância parece ser a partir do ano 2000.b"
   ]
  },
  {
   "cell_type": "markdown",
   "metadata": {},
   "source": [
    "### Plataformas que estão liderando em vendas"
   ]
  },
  {
   "cell_type": "code",
   "execution_count": 38,
   "metadata": {},
   "outputs": [
    {
     "name": "stdout",
     "output_type": "stream",
     "text": [
      "platform  year_of_release\n",
      "PS2       2004.0             211.81\n",
      "Wii       2009.0             206.97\n",
      "PS2       2002.0             205.38\n",
      "          2003.0             184.31\n",
      "Wii       2008.0             171.32\n",
      "X360      2010.0             170.03\n",
      "PS        1998.0             169.49\n",
      "PS2       2001.0             166.43\n",
      "          2005.0             160.66\n",
      "PS3       2011.0             156.78\n",
      "dtype: float64\n"
     ]
    }
   ],
   "source": [
    "sales_per_platform_per_year = df.groupby(['platform', 'year_of_release'])[['na_sales', 'eu_sales', 'jp_sales', 'other_sales']].sum().sum(axis=1)\n",
    "print(sales_per_platform_per_year.nlargest(10))"
   ]
  },
  {
   "cell_type": "code",
   "execution_count": 39,
   "metadata": {},
   "outputs": [],
   "source": [
    "# acima as plataformas que lideram as vendar (por ano)"
   ]
  },
  {
   "cell_type": "markdown",
   "metadata": {},
   "source": [
    "### Diagrama de caixa para as vendas globais de todos os jogos, divididos por plataforma  "
   ]
  },
  {
   "cell_type": "code",
   "execution_count": 40,
   "metadata": {},
   "outputs": [
    {
     "data": {
      "text/plain": [
       "<Figure size 1200x600 with 0 Axes>"
      ]
     },
     "metadata": {},
     "output_type": "display_data"
    },
    {
     "data": {
      "image/png": "[encoded data removed]",
      "text/plain": [
       "<Figure size 640x480 with 1 Axes>"
      ]
     },
     "metadata": {},
     "output_type": "display_data"
    }
   ],
   "source": [
    "df['total_sales'] = df[['na_sales', 'eu_sales', 'jp_sales', 'other_sales']].sum(axis=1)\n",
    "  \n",
    "plt.figure(figsize=(12,6))\n",
    "df.boxplot(column='total_sales', by='platform', grid=False, rot=90)\n",
    "plt.title('Global Sales per Platform')\n",
    "plt.xlabel('Plataforma')\n",
    "plt.ylabel('Global Sales ($)')\n",
    "plt.suptitle('')  \n",
    "plt.show()"
   ]
  },
  {
   "cell_type": "code",
   "execution_count": 41,
   "metadata": {},
   "outputs": [],
   "source": [
    "# o gráfico acima demonstra as vendas globais por plataforma, sendo que o Wii e Nes são as que tiveram melhores resultados."
   ]
  },
  {
   "cell_type": "markdown",
   "metadata": {},
   "source": [
    "###  Avaliações de usuários e profissionais que afetam as vendas de uma plataforma popular. Construa um gráfico de dispersão e calcule a correlação entre revisões e vendas. "
   ]
  },
  {
   "cell_type": "code",
   "execution_count": 42,
   "metadata": {},
   "outputs": [
    {
     "data": {
      "image/png": "[encoded data removed]",
      "text/plain": [
       "<Figure size 640x480 with 1 Axes>"
      ]
     },
     "metadata": {},
     "output_type": "display_data"
    }
   ],
   "source": [
    "df['total_sales'] = df[['na_sales', 'eu_sales','jp_sales', 'other_sales']].sum(axis=1)\n",
    "\n",
    "df_ps4 = df[df['platform'] == 'PS4']\n",
    "\n",
    "# Plotar gráfico de dispersão de User_Score vs. Global_sales\n",
    "plt.scatter(df_ps4['user_score'], df_ps4['total_sales'], alpha=0.5)\n",
    "plt.title('Correlation between users and sales (PS4)')\n",
    "plt.xlabel('User Score')\n",
    "plt.ylabel('Global Sales')\n",
    "plt.grid(True)\n",
    "plt.show()"
   ]
  },
  {
   "cell_type": "markdown",
   "metadata": {},
   "source": [
    "### Distribuição geral de jogos por gênero"
   ]
  },
  {
   "cell_type": "code",
   "execution_count": 43,
   "metadata": {},
   "outputs": [],
   "source": [
    "distribution_genre = df['genre'].value_counts()"
   ]
  },
  {
   "cell_type": "code",
   "execution_count": 44,
   "metadata": {},
   "outputs": [
    {
     "data": {
      "image/png": "[encoded data removed]",
      "text/plain": [
       "<Figure size 1200x600 with 1 Axes>"
      ]
     },
     "metadata": {},
     "output_type": "display_data"
    }
   ],
   "source": [
    "plt.figure(figsize=(12,6))\n",
    "distribution_genre.plot(kind='bar', color='skyblue')\n",
    "plt.title('Distribution by Genre')\n",
    "plt.xlabel('Genre')\n",
    "plt.ylabel('Qty of Games')\n",
    "plt.show()"
   ]
  },
  {
   "cell_type": "code",
   "execution_count": 45,
   "metadata": {},
   "outputs": [],
   "source": [
    "# É possível notar que os gêneros mais requeridos são os de ação e o menos procurado o puzzle."
   ]
  },
  {
   "cell_type": "markdown",
   "metadata": {},
   "source": [
    "## Crie um perfil de usuário para cada região\n",
    "Para cada região (AN, UE, JP), determine:\n",
    ". As cinco plataformas principais. Descreva as variações das suas quotas de mercado de região para região.\n",
    ". Os cinco principais gêneros. Explique a diferença.\n",
    ". As classificações do ESRB afetam as vendas em regiões individuais?"
   ]
  },
  {
   "cell_type": "code",
   "execution_count": 46,
   "metadata": {},
   "outputs": [],
   "source": [
    "region_sales = df.groupby('platform')['na_sales', 'eu_sales', 'jp_sales'].sum()"
   ]
  },
  {
   "cell_type": "code",
   "execution_count": 47,
   "metadata": {},
   "outputs": [
    {
     "name": "stdout",
     "output_type": "stream",
     "text": [
      "platform\n",
      "X360    595.74\n",
      "PS2     572.92\n",
      "Wii     486.87\n",
      "Name: na_sales, dtype: float64 platform\n",
      "PS2     332.63\n",
      "PS3     327.21\n",
      "X360    268.32\n",
      "Name: eu_sales, dtype: float64 platform\n",
      "DS     175.02\n",
      "PS     139.78\n",
      "PS2    137.54\n",
      "Name: jp_sales, dtype: float64\n"
     ]
    }
   ],
   "source": [
    "top_regions_na = region_sales['na_sales'].nlargest(3)\n",
    "top_regions_eu = region_sales['eu_sales'].nlargest(3)\n",
    "top_regions_jp = region_sales['jp_sales'].nlargest(3)\n",
    "print(top_regions_na, top_regions_eu, top_regions_jp)"
   ]
  },
  {
   "cell_type": "code",
   "execution_count": 48,
   "metadata": {},
   "outputs": [
    {
     "name": "stdout",
     "output_type": "stream",
     "text": [
      "platform\n",
      "2600     1.859919\n",
      "3DO      0.000000\n",
      "3DS      1.902975\n",
      "DC       0.125023\n",
      "DS       8.756447\n",
      "GB       2.616504\n",
      "GBA      4.239271\n",
      "GC       3.037852\n",
      "GEN      0.484666\n",
      "GG       0.000000\n",
      "N64      3.198333\n",
      "NES      2.899705\n",
      "NG       0.000000\n",
      "PC       2.149107\n",
      "PCFX     0.000000\n",
      "PS       7.706760\n",
      "PS2     13.191195\n",
      "PS3      8.982547\n",
      "PS4      2.503684\n",
      "PSP      2.469838\n",
      "PSV      0.287115\n",
      "SAT      0.016578\n",
      "SCD      0.023024\n",
      "SNES     1.409790\n",
      "TG16     0.000000\n",
      "WS       0.000000\n",
      "Wii     11.209937\n",
      "WiiU     0.877233\n",
      "X360    13.716614\n",
      "XB       4.191840\n",
      "XOne     2.144041\n",
      "Name: na_market_share, dtype: float64\n"
     ]
    }
   ],
   "source": [
    "region_sales['na_market_share'] = (region_sales['na_sales'] / region_sales['na_sales'].sum()) * 100\n",
    "print(region_sales['na_market_share'])"
   ]
  },
  {
   "cell_type": "code",
   "execution_count": 49,
   "metadata": {},
   "outputs": [
    {
     "name": "stdout",
     "output_type": "stream",
     "text": [
      "platform\n",
      "2600     0.202482\n",
      "3DO      0.000000\n",
      "3DS      2.552693\n",
      "DC       0.070411\n",
      "DS       7.849730\n",
      "GB       1.979410\n",
      "GBA      3.107645\n",
      "GC       1.596527\n",
      "GEN      0.252061\n",
      "GG       0.000000\n",
      "N64      1.709434\n",
      "NES      0.881173\n",
      "NG       0.000000\n",
      "PC       5.848238\n",
      "PCFX     0.000000\n",
      "PS       8.848809\n",
      "PS2     13.858371\n",
      "PS3     13.632557\n",
      "PS4      5.878236\n",
      "PSP      2.733927\n",
      "PSV      0.544536\n",
      "SAT      0.022498\n",
      "SCD      0.014999\n",
      "SNES     0.793264\n",
      "TG16     0.000000\n",
      "WS       0.000000\n",
      "Wii     10.762392\n",
      "WiiU     1.046992\n",
      "X360    11.179022\n",
      "XB       2.485199\n",
      "XOne     2.149395\n",
      "Name: eu_market_share, dtype: float64\n"
     ]
    }
   ],
   "source": [
    "region_sales['eu_market_share'] = (region_sales['eu_sales'] / region_sales['eu_sales'].sum()) * 100\n",
    "print(region_sales['eu_market_share'])"
   ]
  },
  {
   "cell_type": "code",
   "execution_count": 50,
   "metadata": {},
   "outputs": [
    {
     "name": "stdout",
     "output_type": "stream",
     "text": [
      "platform\n",
      "2600     0.000000\n",
      "3DO      0.007748\n",
      "3DS      7.795951\n",
      "DC       0.663221\n",
      "DS      13.560399\n",
      "GB       6.595024\n",
      "GBA      3.607429\n",
      "GC       1.653405\n",
      "GEN      0.209194\n",
      "GG       0.003099\n",
      "N64      2.615696\n",
      "NES      7.643317\n",
      "NG       0.111570\n",
      "PC       0.013171\n",
      "PCFX     0.002324\n",
      "PS      10.830034\n",
      "PS2     10.656481\n",
      "PS3      6.152618\n",
      "PS4      1.236567\n",
      "PSP      5.879117\n",
      "PSV      1.692144\n",
      "SAT      2.499477\n",
      "SCD      0.034866\n",
      "SNES     9.030194\n",
      "TG16     0.012397\n",
      "WS       0.110020\n",
      "Wii      5.290276\n",
      "WiiU     1.008004\n",
      "X360     0.952993\n",
      "XB       0.106921\n",
      "XOne     0.026343\n",
      "Name: jp_market_share, dtype: float64\n"
     ]
    }
   ],
   "source": [
    "region_sales['jp_market_share'] = (region_sales['jp_sales'] / region_sales['jp_sales'].sum()) * 100\n",
    "print(region_sales['jp_market_share'])"
   ]
  },
  {
   "cell_type": "code",
   "execution_count": 51,
   "metadata": {},
   "outputs": [],
   "source": [
    "# Podemos notar por algumas diferenças de games entre as regiões norte-americanas (na), eu (europa) e jp(japão). Na região 'Na' temos que os principais games são X360, PS2 e Wii, possivelmente pelo investimento massivo da Microsoft e Nintendo regionalmente. Já na região 'Eu' o que prevalece é o PS2, PS3 E O X360, com atuação forte da Sony.  Ja para a região 'Jp' os 3 maiores são DS, DC e PS2. O Japão é famoso pelo gosto maior em jogos RGP, diferentemente dos EUA que gostam mais de Xbox. "
   ]
  },
  {
   "cell_type": "markdown",
   "metadata": {},
   "source": [
    "## Teste as seguintes hipóteses:\n",
    "\n",
    "— As classificações médias dos usuários das plataformas Xbox One e PC são as mesmas.\n",
    "\n",
    "— As classificações médias de usuários para os gêneros Action (ação) e Sports (esportes) são diferentes.\n",
    "\n",
    "Defina o valor do limiar alfa você mesmo.\n",
    "\n",
    "Explique:\n",
    "\n",
    "— Como você formula as hipóteses alternativas e nulas.\n",
    "\n",
    "— Quais critérios você usou para testar as hipóteses, e por quê"
   ]
  },
  {
   "cell_type": "code",
   "execution_count": 52,
   "metadata": {},
   "outputs": [],
   "source": [
    "# definição de alfa = 0.05\n",
    "# hipótese nula (ho) = As classificações médias dos usuários das plataformas Xbox One e PC são as mesmas\n",
    "# hipótese alternativa (h1) = As classificações médias dos usuários das plataformas Xbox One e PC são diferentes\n",
    "\n",
    "# hipótese nula (ho) = As classificações médias dos usuários para os gêneros Action (ação) e Sports (esportes) são iguais\n",
    "# hipótese alternativa (h1) = As classificações médias dos usuários para os gêneros Action (ação) e Sports (esportes) são diferentes\n",
    "\n",
    "# cálculo do valor-p (hipótese nula verdadeira); se valor-p < alfa, então rejeitamos a  hipótese nula"
   ]
  },
  {
   "cell_type": "code",
   "execution_count": 53,
   "metadata": {},
   "outputs": [],
   "source": [
    "import pandas as pd\n",
    "import scipy.stats as st"
   ]
  },
  {
   "cell_type": "code",
   "execution_count": 54,
   "metadata": {},
   "outputs": [
    {
     "name": "stdout",
     "output_type": "stream",
     "text": [
      "valor-p:  0.00013349751690568348\n",
      "Rejeitamos a hipótese nula\n"
     ]
    }
   ],
   "source": [
    "alpha= 0.05\n",
    "\n",
    "df['user_score'] = pd.to_numeric(df['user_score'], errors='coerce')\n",
    "df['platform'] = df['platform'].str.lower()\n",
    "\n",
    "score_of_xboxone = df[df['platform'] == 'xone']['user_score'].dropna()\n",
    "score_of_pc = df[df['platform'] == 'pc']['user_score'].dropna()\n",
    "\n",
    "\n",
    "results = st.ttest_ind(score_of_xboxone, score_of_pc, equal_var=False)\n",
    "print('valor-p: ', results.pvalue)\n",
    "\n",
    "if results.pvalue < alpha:\n",
    "    print('Rejeitamos a hipótese nula')\n",
    "else:\n",
    "    print('Não podemos rejeitar a hipótese nula')"
   ]
  },
  {
   "cell_type": "code",
   "execution_count": 55,
   "metadata": {},
   "outputs": [
    {
     "name": "stdout",
     "output_type": "stream",
     "text": [
      "valor-p:  0.0008355224522757965\n",
      "Rejeitamos a hipótese nula\n"
     ]
    }
   ],
   "source": [
    "import pandas as pd\n",
    "import scipy.stats as st\n",
    "\n",
    "sports = df[df['genre'] == 'Sports']['user_score'].dropna()\n",
    "action = df[df['genre'] == 'Action']['user_score'].dropna()\n",
    "\n",
    "alpha= 0.05\n",
    "\n",
    "results = st.ttest_ind(sports, action, equal_var=False)\n",
    "print('valor-p: ', results.pvalue)\n",
    "\n",
    "if results.pvalue < alpha:\n",
    "    print('Rejeitamos a hipótese nula')\n",
    "else:\n",
    "    print('Não podemos rejeitar a hipótese nula')"
   ]
  },
  {
   "cell_type": "code",
   "execution_count": 48,
   "metadata": {},
   "outputs": [
    {
     "data": {
      "text/plain": [
       "['2600',\n",
       " '3do',\n",
       " '3ds',\n",
       " 'dc',\n",
       " 'ds',\n",
       " 'gb',\n",
       " 'gba',\n",
       " 'gc',\n",
       " 'gen',\n",
       " 'gg',\n",
       " 'n64',\n",
       " 'nes',\n",
       " 'ng',\n",
       " 'pc',\n",
       " 'pcfx',\n",
       " 'ps',\n",
       " 'ps2',\n",
       " 'ps3',\n",
       " 'ps4',\n",
       " 'psp',\n",
       " 'psv',\n",
       " 'sat',\n",
       " 'scd',\n",
       " 'snes',\n",
       " 'tg16',\n",
       " 'wii',\n",
       " 'wiiu',\n",
       " 'ws',\n",
       " 'x360',\n",
       " 'xb',\n",
       " 'xone']"
      ]
     },
     "execution_count": 48,
     "metadata": {},
     "output_type": "execute_result"
    }
   ],
   "source": [
    "sorted(df['platform'].unique())"
   ]
  },
  {
   "cell_type": "code",
   "execution_count": 49,
   "metadata": {},
   "outputs": [
    {
     "data": {
      "text/plain": [
       "99       0.0\n",
       "165      7.9\n",
       "179      5.4\n",
       "242      6.4\n",
       "270      6.2\n",
       "        ... \n",
       "16597    6.0\n",
       "16630    8.2\n",
       "16643    6.6\n",
       "16645    0.0\n",
       "16660    6.7\n",
       "Name: user_score, Length: 236, dtype: float64"
      ]
     },
     "execution_count": 49,
     "metadata": {},
     "output_type": "execute_result"
    }
   ],
   "source": [
    "score_of_xboxone"
   ]
  },
  {
   "cell_type": "code",
   "execution_count": 50,
   "metadata": {},
   "outputs": [
    {
     "data": {
      "text/plain": [
       "85       7.6\n",
       "138      7.3\n",
       "192      4.0\n",
       "195      0.0\n",
       "218      8.2\n",
       "        ... \n",
       "16690    0.0\n",
       "16692    7.6\n",
       "16696    5.8\n",
       "16702    7.2\n",
       "16705    5.8\n",
       "Name: user_score, Length: 908, dtype: float64"
      ]
     },
     "execution_count": 50,
     "metadata": {},
     "output_type": "execute_result"
    }
   ],
   "source": [
    "score_of_pc"
   ]
  },
  {
   "cell_type": "code",
   "execution_count": null,
   "metadata": {},
   "outputs": [],
   "source": [
    "df['d']"
   ]
  },
  {
   "cell_type": "code",
   "execution_count": 56,
   "metadata": {},
   "outputs": [],
   "source": [
    "sports = df[df['genre'] == 'Sports']['user_score'].dropna()\n",
    "action = df[df['genre'] == 'Action']['user_score'].dropna()"
   ]
  },
  {
   "cell_type": "markdown",
   "metadata": {},
   "source": [
    "## Conclusão Geral"
   ]
  },
  {
   "cell_type": "markdown",
   "metadata": {},
   "source": [
    "As vendas aumentaram após os anos 2000, havendo uma queda expressiva após 2010. O total de vendas maior no período analisado demonstra que o maior total de vendas está em Wii Sports. Embora este último seja do gênero Sports, há uma preferência do público por games de Ação. Os mercados regionais tem preferências diferentes de plataformas, o que pode ser proporcionado pela cultura local e também a forte presença de empresas de games e sua nacionalidade."
   ]
  }
 ],
 "metadata": {
  "ExecuteTimeLog": [
   {
    "duration": 8,
    "start_time": "2024-10-15T20:12:23.511Z"
   },
   {
    "duration": 4,
    "start_time": "2024-10-15T20:13:06.696Z"
   },
   {
    "duration": 331,
    "start_time": "2024-10-15T20:13:34.618Z"
   },
   {
    "duration": 4,
    "start_time": "2024-10-15T20:13:42.870Z"
   },
   {
    "duration": 35,
    "start_time": "2024-10-15T20:18:25.247Z"
   },
   {
    "duration": 15,
    "start_time": "2024-10-15T20:34:54.415Z"
   },
   {
    "duration": 3,
    "start_time": "2024-10-15T20:37:15.394Z"
   },
   {
    "duration": 2,
    "start_time": "2024-10-15T20:39:30.628Z"
   },
   {
    "duration": 15,
    "start_time": "2024-10-15T20:44:46.883Z"
   },
   {
    "duration": 2,
    "start_time": "2024-10-15T20:48:18.954Z"
   },
   {
    "duration": 2,
    "start_time": "2024-10-15T20:50:48.588Z"
   },
   {
    "duration": 25,
    "start_time": "2024-10-15T20:51:47.860Z"
   },
   {
    "duration": 3,
    "start_time": "2024-10-15T20:51:58.332Z"
   },
   {
    "duration": 5,
    "start_time": "2024-10-15T20:55:13.294Z"
   },
   {
    "duration": 2,
    "start_time": "2024-10-15T20:56:11.741Z"
   },
   {
    "duration": 2,
    "start_time": "2024-10-15T20:56:14.476Z"
   },
   {
    "duration": 3,
    "start_time": "2024-10-15T20:56:20.411Z"
   },
   {
    "duration": 2,
    "start_time": "2024-10-15T20:56:22.392Z"
   },
   {
    "duration": 3,
    "start_time": "2024-10-15T20:56:29.557Z"
   },
   {
    "duration": 537,
    "start_time": "2024-10-15T21:02:26.573Z"
   },
   {
    "duration": 38,
    "start_time": "2024-10-15T21:02:43.396Z"
   },
   {
    "duration": 40,
    "start_time": "2024-10-15T21:06:11.591Z"
   },
   {
    "duration": 51,
    "start_time": "2024-10-15T21:06:58.386Z"
   },
   {
    "duration": 5,
    "start_time": "2024-10-15T21:08:52.770Z"
   },
   {
    "duration": 3,
    "start_time": "2024-10-15T21:09:18.611Z"
   },
   {
    "duration": 4,
    "start_time": "2024-10-15T21:09:45.096Z"
   },
   {
    "duration": 3,
    "start_time": "2024-10-15T21:10:09.853Z"
   },
   {
    "duration": 3,
    "start_time": "2024-10-15T21:10:23.633Z"
   },
   {
    "duration": 13,
    "start_time": "2024-10-15T21:11:54.396Z"
   },
   {
    "duration": 10,
    "start_time": "2024-10-15T21:12:48.240Z"
   },
   {
    "duration": 10,
    "start_time": "2024-10-15T21:12:53.671Z"
   },
   {
    "duration": 6,
    "start_time": "2024-10-15T21:17:33.985Z"
   },
   {
    "duration": 16,
    "start_time": "2024-10-15T21:18:06.543Z"
   },
   {
    "duration": 14,
    "start_time": "2024-10-15T21:18:12.458Z"
   },
   {
    "duration": 11,
    "start_time": "2024-10-15T21:18:31.993Z"
   },
   {
    "duration": 605,
    "start_time": "2024-10-15T21:18:55.658Z"
   },
   {
    "duration": 12,
    "start_time": "2024-10-15T21:19:12.708Z"
   },
   {
    "duration": 8,
    "start_time": "2024-10-15T21:19:32.152Z"
   },
   {
    "duration": 6,
    "start_time": "2024-10-15T21:26:14.050Z"
   },
   {
    "duration": 5,
    "start_time": "2024-10-15T21:28:17.190Z"
   },
   {
    "duration": 4,
    "start_time": "2024-10-15T21:29:41.433Z"
   },
   {
    "duration": 6,
    "start_time": "2024-10-15T21:30:30.110Z"
   },
   {
    "duration": 5,
    "start_time": "2024-10-15T21:30:32.899Z"
   },
   {
    "duration": 7,
    "start_time": "2024-10-15T21:30:38.128Z"
   },
   {
    "duration": 6,
    "start_time": "2024-10-15T21:32:41.013Z"
   },
   {
    "duration": 7,
    "start_time": "2024-10-15T21:32:46.467Z"
   },
   {
    "duration": 6,
    "start_time": "2024-10-15T21:34:38.894Z"
   },
   {
    "duration": 6,
    "start_time": "2024-10-15T21:34:55.805Z"
   },
   {
    "duration": 7,
    "start_time": "2024-10-15T21:35:59.385Z"
   },
   {
    "duration": 14,
    "start_time": "2024-10-15T21:36:16.354Z"
   },
   {
    "duration": 17,
    "start_time": "2024-10-15T21:36:25.506Z"
   },
   {
    "duration": 4,
    "start_time": "2024-10-15T21:36:41.356Z"
   },
   {
    "duration": 6,
    "start_time": "2024-10-15T21:36:49.913Z"
   },
   {
    "duration": 7,
    "start_time": "2024-10-15T21:37:29.117Z"
   },
   {
    "duration": 6,
    "start_time": "2024-10-15T21:38:00.554Z"
   },
   {
    "duration": 8,
    "start_time": "2024-10-15T21:38:07.269Z"
   },
   {
    "duration": 451,
    "start_time": "2024-10-15T21:39:37.699Z"
   },
   {
    "duration": 14,
    "start_time": "2024-10-15T21:40:10.616Z"
   },
   {
    "duration": 2,
    "start_time": "2024-10-15T21:40:38.652Z"
   },
   {
    "duration": 2,
    "start_time": "2024-10-15T21:40:58.401Z"
   },
   {
    "duration": 28,
    "start_time": "2024-10-15T21:41:02.872Z"
   },
   {
    "duration": 6,
    "start_time": "2024-10-15T21:42:16.416Z"
   },
   {
    "duration": 7,
    "start_time": "2024-10-15T21:42:23.154Z"
   },
   {
    "duration": 47,
    "start_time": "2024-10-15T21:42:26.456Z"
   },
   {
    "duration": 2,
    "start_time": "2024-10-15T21:42:44.036Z"
   },
   {
    "duration": 2,
    "start_time": "2024-10-15T21:42:45.994Z"
   },
   {
    "duration": 25,
    "start_time": "2024-10-15T21:42:48.277Z"
   },
   {
    "duration": 11,
    "start_time": "2024-10-15T21:42:51.308Z"
   },
   {
    "duration": 10,
    "start_time": "2024-10-15T21:42:57.518Z"
   },
   {
    "duration": 3,
    "start_time": "2024-10-15T21:43:01.075Z"
   },
   {
    "duration": 4,
    "start_time": "2024-10-15T21:43:02.992Z"
   },
   {
    "duration": 6,
    "start_time": "2024-10-15T21:43:05.637Z"
   },
   {
    "duration": 6,
    "start_time": "2024-10-15T21:43:12.653Z"
   },
   {
    "duration": 7,
    "start_time": "2024-10-15T21:43:16.893Z"
   },
   {
    "duration": 46,
    "start_time": "2024-10-15T21:43:28.250Z"
   },
   {
    "duration": 47,
    "start_time": "2024-10-15T21:43:43.662Z"
   },
   {
    "duration": 7,
    "start_time": "2024-10-15T21:44:18.657Z"
   },
   {
    "duration": 5,
    "start_time": "2024-10-15T21:45:18.783Z"
   },
   {
    "duration": 6,
    "start_time": "2024-10-15T21:45:24.206Z"
   },
   {
    "duration": 7,
    "start_time": "2024-10-15T21:45:55.188Z"
   },
   {
    "duration": 4,
    "start_time": "2024-10-15T21:47:59.634Z"
   },
   {
    "duration": 6,
    "start_time": "2024-10-15T21:48:06.731Z"
   },
   {
    "duration": 48,
    "start_time": "2024-10-15T21:48:28.304Z"
   },
   {
    "duration": 86,
    "start_time": "2024-10-15T21:51:47.549Z"
   },
   {
    "duration": 4,
    "start_time": "2024-10-15T21:52:03.504Z"
   },
   {
    "duration": 7,
    "start_time": "2024-10-15T21:52:07.538Z"
   },
   {
    "duration": 13,
    "start_time": "2024-10-15T21:52:29.431Z"
   },
   {
    "duration": 4,
    "start_time": "2024-10-15T21:52:38.368Z"
   },
   {
    "duration": 5,
    "start_time": "2024-10-15T21:52:46.019Z"
   },
   {
    "duration": 4,
    "start_time": "2024-10-15T21:52:52.439Z"
   },
   {
    "duration": 9,
    "start_time": "2024-10-15T21:53:11.228Z"
   },
   {
    "duration": 4,
    "start_time": "2024-10-15T21:53:39.378Z"
   },
   {
    "duration": 11,
    "start_time": "2024-10-15T21:54:00.314Z"
   },
   {
    "duration": 13,
    "start_time": "2024-10-15T21:54:17.849Z"
   },
   {
    "duration": 3,
    "start_time": "2024-10-15T21:54:28.343Z"
   },
   {
    "duration": 14,
    "start_time": "2024-10-15T21:55:16.516Z"
   },
   {
    "duration": 5,
    "start_time": "2024-10-15T21:55:19.892Z"
   },
   {
    "duration": 11,
    "start_time": "2024-10-15T21:55:32.856Z"
   },
   {
    "duration": 12,
    "start_time": "2024-10-15T21:55:39.315Z"
   },
   {
    "duration": 12,
    "start_time": "2024-10-15T21:55:43.442Z"
   },
   {
    "duration": 13,
    "start_time": "2024-10-15T21:55:52.059Z"
   },
   {
    "duration": 13,
    "start_time": "2024-10-15T21:56:02.160Z"
   },
   {
    "duration": 12,
    "start_time": "2024-10-15T21:56:06.752Z"
   },
   {
    "duration": 12,
    "start_time": "2024-10-15T21:56:15.822Z"
   },
   {
    "duration": 9,
    "start_time": "2024-10-15T21:56:28.252Z"
   },
   {
    "duration": 5,
    "start_time": "2024-10-15T21:56:31.486Z"
   },
   {
    "duration": 10,
    "start_time": "2024-10-15T21:58:57.216Z"
   },
   {
    "duration": 5,
    "start_time": "2024-10-15T21:59:05.580Z"
   },
   {
    "duration": 132,
    "start_time": "2024-10-15T21:59:28.902Z"
   },
   {
    "duration": 42,
    "start_time": "2024-10-15T21:59:31.253Z"
   },
   {
    "duration": 16,
    "start_time": "2024-10-15T21:59:37.194Z"
   },
   {
    "duration": 32,
    "start_time": "2024-10-15T22:01:37.196Z"
   },
   {
    "duration": 6,
    "start_time": "2024-10-15T22:12:51.207Z"
   },
   {
    "duration": 49,
    "start_time": "2024-10-15T22:13:31.937Z"
   },
   {
    "duration": 5,
    "start_time": "2024-10-15T22:13:50.354Z"
   },
   {
    "duration": 7,
    "start_time": "2024-10-15T22:15:15.265Z"
   },
   {
    "duration": 6,
    "start_time": "2024-10-15T22:15:27.453Z"
   },
   {
    "duration": 47,
    "start_time": "2024-10-15T22:18:46.663Z"
   },
   {
    "duration": 5,
    "start_time": "2024-10-15T22:18:55.129Z"
   },
   {
    "duration": 6,
    "start_time": "2024-10-15T22:26:04.417Z"
   },
   {
    "duration": 14,
    "start_time": "2024-10-15T22:26:15.777Z"
   },
   {
    "duration": 179,
    "start_time": "2024-10-15T22:28:56.678Z"
   },
   {
    "duration": 15,
    "start_time": "2024-10-15T22:29:09.511Z"
   },
   {
    "duration": 14,
    "start_time": "2024-10-15T22:29:31.829Z"
   },
   {
    "duration": 32,
    "start_time": "2024-10-15T22:30:50.732Z"
   },
   {
    "duration": 3,
    "start_time": "2024-10-15T22:31:23.906Z"
   },
   {
    "duration": 4,
    "start_time": "2024-10-15T22:31:27.478Z"
   },
   {
    "duration": 39,
    "start_time": "2024-10-15T22:33:06.451Z"
   },
   {
    "duration": 3,
    "start_time": "2024-10-15T22:33:52.921Z"
   },
   {
    "duration": 6,
    "start_time": "2024-10-15T22:34:05.882Z"
   },
   {
    "duration": 13,
    "start_time": "2024-10-15T22:34:23.029Z"
   },
   {
    "duration": 35,
    "start_time": "2024-10-15T22:34:32.454Z"
   },
   {
    "duration": 12,
    "start_time": "2024-10-15T22:34:55.768Z"
   },
   {
    "duration": 13,
    "start_time": "2024-10-15T22:35:11.327Z"
   },
   {
    "duration": 32,
    "start_time": "2024-10-15T22:35:14.488Z"
   },
   {
    "duration": 30,
    "start_time": "2024-10-15T22:35:46.492Z"
   },
   {
    "duration": 6,
    "start_time": "2024-10-15T22:36:21.544Z"
   },
   {
    "duration": 5,
    "start_time": "2024-10-15T22:36:29.531Z"
   },
   {
    "duration": 5,
    "start_time": "2024-10-15T22:37:39.429Z"
   },
   {
    "duration": 5,
    "start_time": "2024-10-15T22:42:06.360Z"
   },
   {
    "duration": 5,
    "start_time": "2024-10-15T22:42:22.458Z"
   },
   {
    "duration": 48,
    "start_time": "2024-10-15T22:46:06.154Z"
   },
   {
    "duration": 4,
    "start_time": "2024-10-15T22:51:15.203Z"
   },
   {
    "duration": 47,
    "start_time": "2024-10-15T22:52:53.819Z"
   },
   {
    "duration": 4,
    "start_time": "2024-10-15T22:53:32.275Z"
   },
   {
    "duration": 41,
    "start_time": "2024-10-15T22:54:04.418Z"
   },
   {
    "duration": 5,
    "start_time": "2024-10-15T22:54:18.726Z"
   },
   {
    "duration": 5,
    "start_time": "2024-10-15T22:54:22.981Z"
   },
   {
    "duration": 14,
    "start_time": "2024-10-15T22:54:54.679Z"
   },
   {
    "duration": 3,
    "start_time": "2024-10-15T23:12:59.610Z"
   },
   {
    "duration": 4,
    "start_time": "2024-10-15T23:13:04.025Z"
   },
   {
    "duration": 2128,
    "start_time": "2024-10-16T16:33:26.351Z"
   },
   {
    "duration": 35,
    "start_time": "2024-10-16T16:33:32.421Z"
   },
   {
    "duration": 14,
    "start_time": "2024-10-16T16:33:35.298Z"
   },
   {
    "duration": 12,
    "start_time": "2024-10-16T16:33:39.406Z"
   },
   {
    "duration": 3,
    "start_time": "2024-10-16T16:33:42.520Z"
   },
   {
    "duration": 6,
    "start_time": "2024-10-16T16:33:47.369Z"
   },
   {
    "duration": 5,
    "start_time": "2024-10-16T16:33:52.368Z"
   },
   {
    "duration": 7,
    "start_time": "2024-10-16T16:33:57.536Z"
   },
   {
    "duration": 4,
    "start_time": "2024-10-16T16:34:01.045Z"
   },
   {
    "duration": 55,
    "start_time": "2024-10-16T16:34:03.370Z"
   },
   {
    "duration": 3,
    "start_time": "2024-10-16T16:36:00.206Z"
   },
   {
    "duration": 24,
    "start_time": "2024-10-16T16:36:02.500Z"
   },
   {
    "duration": 11,
    "start_time": "2024-10-16T16:36:04.252Z"
   },
   {
    "duration": 10,
    "start_time": "2024-10-16T16:36:09.088Z"
   },
   {
    "duration": 4,
    "start_time": "2024-10-16T16:36:28.014Z"
   },
   {
    "duration": 4,
    "start_time": "2024-10-16T16:36:29.863Z"
   },
   {
    "duration": 7,
    "start_time": "2024-10-16T16:36:32.933Z"
   },
   {
    "duration": 5,
    "start_time": "2024-10-16T16:36:36.653Z"
   },
   {
    "duration": 6,
    "start_time": "2024-10-16T16:36:40.359Z"
   },
   {
    "duration": 6,
    "start_time": "2024-10-16T16:36:44.567Z"
   },
   {
    "duration": 15,
    "start_time": "2024-10-16T16:36:51.709Z"
   },
   {
    "duration": 6,
    "start_time": "2024-10-16T16:36:55.878Z"
   },
   {
    "duration": 5,
    "start_time": "2024-10-16T16:37:01.189Z"
   },
   {
    "duration": 5,
    "start_time": "2024-10-16T16:37:03.468Z"
   },
   {
    "duration": 4,
    "start_time": "2024-10-16T16:37:13.794Z"
   },
   {
    "duration": 4,
    "start_time": "2024-10-16T16:37:17.067Z"
   },
   {
    "duration": 11,
    "start_time": "2024-10-16T16:37:19.221Z"
   },
   {
    "duration": 39,
    "start_time": "2024-10-16T16:40:11.581Z"
   },
   {
    "duration": 4,
    "start_time": "2024-10-16T16:40:26.858Z"
   },
   {
    "duration": 4,
    "start_time": "2024-10-16T16:40:52.150Z"
   },
   {
    "duration": 39,
    "start_time": "2024-10-16T16:42:25.700Z"
   },
   {
    "duration": 39,
    "start_time": "2024-10-16T16:42:35.741Z"
   },
   {
    "duration": 3,
    "start_time": "2024-10-16T16:42:44.449Z"
   },
   {
    "duration": 40,
    "start_time": "2024-10-16T16:43:42.256Z"
   },
   {
    "duration": 56,
    "start_time": "2024-10-16T16:43:59.027Z"
   },
   {
    "duration": 13,
    "start_time": "2024-10-16T16:45:35.305Z"
   },
   {
    "duration": 22,
    "start_time": "2024-10-16T16:45:58.149Z"
   },
   {
    "duration": 6,
    "start_time": "2024-10-16T16:46:29.142Z"
   },
   {
    "duration": 7,
    "start_time": "2024-10-16T16:46:37.755Z"
   },
   {
    "duration": 4,
    "start_time": "2024-10-16T16:47:56.495Z"
   },
   {
    "duration": 4,
    "start_time": "2024-10-16T16:48:01.228Z"
   },
   {
    "duration": 4,
    "start_time": "2024-10-16T16:48:25.252Z"
   },
   {
    "duration": 3,
    "start_time": "2024-10-16T16:48:36.337Z"
   },
   {
    "duration": 3,
    "start_time": "2024-10-16T16:49:19.710Z"
   },
   {
    "duration": 7,
    "start_time": "2024-10-16T16:50:03.919Z"
   },
   {
    "duration": 6,
    "start_time": "2024-10-16T16:50:11.243Z"
   },
   {
    "duration": 4,
    "start_time": "2024-10-16T16:51:30.847Z"
   },
   {
    "duration": 4,
    "start_time": "2024-10-16T16:51:34.753Z"
   },
   {
    "duration": 3,
    "start_time": "2024-10-16T16:53:06.063Z"
   },
   {
    "duration": 11,
    "start_time": "2024-10-16T16:53:27.612Z"
   },
   {
    "duration": 11,
    "start_time": "2024-10-16T16:53:33.003Z"
   },
   {
    "duration": 4,
    "start_time": "2024-10-16T16:53:58.339Z"
   },
   {
    "duration": 4,
    "start_time": "2024-10-16T16:54:44.670Z"
   },
   {
    "duration": 148,
    "start_time": "2024-10-16T16:56:47.825Z"
   },
   {
    "duration": 2,
    "start_time": "2024-10-16T17:05:23.757Z"
   },
   {
    "duration": 2,
    "start_time": "2024-10-16T17:05:25.987Z"
   },
   {
    "duration": 2,
    "start_time": "2024-10-16T17:06:01.908Z"
   },
   {
    "duration": 2,
    "start_time": "2024-10-16T17:06:04.675Z"
   },
   {
    "duration": 7,
    "start_time": "2024-10-16T17:07:57.984Z"
   },
   {
    "duration": 17,
    "start_time": "2024-10-16T17:09:02.221Z"
   },
   {
    "duration": 19,
    "start_time": "2024-10-16T17:10:23.872Z"
   },
   {
    "duration": 18,
    "start_time": "2024-10-16T17:10:34.632Z"
   },
   {
    "duration": 7,
    "start_time": "2024-10-16T17:13:28.968Z"
   },
   {
    "duration": 7,
    "start_time": "2024-10-16T17:13:32.415Z"
   },
   {
    "duration": 3,
    "start_time": "2024-10-16T17:15:29.256Z"
   },
   {
    "duration": 5,
    "start_time": "2024-10-16T17:16:29.019Z"
   },
   {
    "duration": 4,
    "start_time": "2024-10-16T17:16:31.053Z"
   },
   {
    "duration": 118,
    "start_time": "2024-10-16T17:19:51.282Z"
   },
   {
    "duration": 266,
    "start_time": "2024-10-16T17:20:18.276Z"
   },
   {
    "duration": 46,
    "start_time": "2024-10-16T17:22:56.505Z"
   },
   {
    "duration": 43,
    "start_time": "2024-10-16T17:23:23.875Z"
   },
   {
    "duration": 4,
    "start_time": "2024-10-16T17:24:36.715Z"
   },
   {
    "duration": 18,
    "start_time": "2024-10-16T17:25:55.948Z"
   },
   {
    "duration": 201,
    "start_time": "2024-10-16T17:26:32.176Z"
   },
   {
    "duration": 196,
    "start_time": "2024-10-16T17:26:40.397Z"
   },
   {
    "duration": 215,
    "start_time": "2024-10-16T17:27:32.775Z"
   },
   {
    "duration": 206,
    "start_time": "2024-10-16T17:27:45.904Z"
   },
   {
    "duration": 423,
    "start_time": "2024-10-16T17:31:50.046Z"
   },
   {
    "duration": 4,
    "start_time": "2024-10-16T17:32:28.589Z"
   },
   {
    "duration": 4,
    "start_time": "2024-10-16T17:32:50.735Z"
   },
   {
    "duration": 13,
    "start_time": "2024-10-16T17:34:02.305Z"
   },
   {
    "duration": 12,
    "start_time": "2024-10-16T17:34:47.000Z"
   },
   {
    "duration": 14,
    "start_time": "2024-10-16T17:35:26.102Z"
   },
   {
    "duration": 13,
    "start_time": "2024-10-16T17:37:51.761Z"
   },
   {
    "duration": 13,
    "start_time": "2024-10-16T17:37:55.023Z"
   },
   {
    "duration": 13,
    "start_time": "2024-10-16T17:38:09.605Z"
   },
   {
    "duration": 12,
    "start_time": "2024-10-16T17:38:31.476Z"
   },
   {
    "duration": 3,
    "start_time": "2024-10-16T17:38:48.157Z"
   },
   {
    "duration": 12,
    "start_time": "2024-10-16T17:39:11.011Z"
   },
   {
    "duration": 65,
    "start_time": "2024-10-16T17:40:49.668Z"
   },
   {
    "duration": 43,
    "start_time": "2024-10-16T17:41:09.800Z"
   },
   {
    "duration": 45,
    "start_time": "2024-10-16T17:41:22.875Z"
   },
   {
    "duration": 12,
    "start_time": "2024-10-16T17:41:35.445Z"
   },
   {
    "duration": 38,
    "start_time": "2024-10-16T17:41:48.960Z"
   },
   {
    "duration": 42,
    "start_time": "2024-10-16T17:41:53.432Z"
   },
   {
    "duration": 44,
    "start_time": "2024-10-16T17:42:16.483Z"
   },
   {
    "duration": 3,
    "start_time": "2024-10-16T17:42:29.746Z"
   },
   {
    "duration": 32,
    "start_time": "2024-10-16T17:42:29.752Z"
   },
   {
    "duration": 12,
    "start_time": "2024-10-16T17:42:29.787Z"
   },
   {
    "duration": 4,
    "start_time": "2024-10-16T17:42:29.800Z"
   },
   {
    "duration": 0,
    "start_time": "2024-10-16T17:42:29.806Z"
   },
   {
    "duration": 0,
    "start_time": "2024-10-16T17:42:29.807Z"
   },
   {
    "duration": 0,
    "start_time": "2024-10-16T17:42:29.809Z"
   },
   {
    "duration": 0,
    "start_time": "2024-10-16T17:42:29.811Z"
   },
   {
    "duration": 0,
    "start_time": "2024-10-16T17:42:29.812Z"
   },
   {
    "duration": 0,
    "start_time": "2024-10-16T17:42:29.813Z"
   },
   {
    "duration": 0,
    "start_time": "2024-10-16T17:42:29.815Z"
   },
   {
    "duration": 0,
    "start_time": "2024-10-16T17:42:29.816Z"
   },
   {
    "duration": 0,
    "start_time": "2024-10-16T17:42:29.818Z"
   },
   {
    "duration": 0,
    "start_time": "2024-10-16T17:42:29.819Z"
   },
   {
    "duration": 0,
    "start_time": "2024-10-16T17:42:29.821Z"
   },
   {
    "duration": 0,
    "start_time": "2024-10-16T17:42:29.822Z"
   },
   {
    "duration": 0,
    "start_time": "2024-10-16T17:42:29.824Z"
   },
   {
    "duration": 0,
    "start_time": "2024-10-16T17:42:29.826Z"
   },
   {
    "duration": 0,
    "start_time": "2024-10-16T17:42:29.827Z"
   },
   {
    "duration": 0,
    "start_time": "2024-10-16T17:42:29.829Z"
   },
   {
    "duration": 0,
    "start_time": "2024-10-16T17:42:29.830Z"
   },
   {
    "duration": 0,
    "start_time": "2024-10-16T17:42:29.832Z"
   },
   {
    "duration": 0,
    "start_time": "2024-10-16T17:42:29.834Z"
   },
   {
    "duration": 247,
    "start_time": "2024-10-16T17:42:29.859Z"
   },
   {
    "duration": 142,
    "start_time": "2024-10-16T17:42:30.108Z"
   },
   {
    "duration": 0,
    "start_time": "2024-10-16T17:42:30.252Z"
   },
   {
    "duration": 0,
    "start_time": "2024-10-16T17:42:30.253Z"
   },
   {
    "duration": 39,
    "start_time": "2024-10-16T17:42:59.522Z"
   },
   {
    "duration": 11,
    "start_time": "2024-10-16T17:43:52.246Z"
   },
   {
    "duration": 3,
    "start_time": "2024-10-16T17:44:09.069Z"
   },
   {
    "duration": 3,
    "start_time": "2024-10-16T17:44:14.202Z"
   },
   {
    "duration": 23,
    "start_time": "2024-10-16T17:44:15.905Z"
   },
   {
    "duration": 11,
    "start_time": "2024-10-16T17:44:18.613Z"
   },
   {
    "duration": 2,
    "start_time": "2024-10-16T17:44:39.981Z"
   },
   {
    "duration": 10,
    "start_time": "2024-10-16T17:44:42.274Z"
   },
   {
    "duration": 4,
    "start_time": "2024-10-16T17:44:46.855Z"
   },
   {
    "duration": 7,
    "start_time": "2024-10-16T17:44:51.098Z"
   },
   {
    "duration": 7,
    "start_time": "2024-10-16T17:45:05.913Z"
   },
   {
    "duration": 11,
    "start_time": "2024-10-16T17:45:09.673Z"
   },
   {
    "duration": 4,
    "start_time": "2024-10-16T17:45:37.757Z"
   },
   {
    "duration": 11,
    "start_time": "2024-10-16T17:45:40.969Z"
   },
   {
    "duration": 8,
    "start_time": "2024-10-16T17:46:01.838Z"
   },
   {
    "duration": 17,
    "start_time": "2024-10-16T17:46:06.032Z"
   },
   {
    "duration": 4,
    "start_time": "2024-10-16T17:46:13.991Z"
   },
   {
    "duration": 198,
    "start_time": "2024-10-16T17:46:16.580Z"
   },
   {
    "duration": 198,
    "start_time": "2024-10-16T17:46:29.227Z"
   },
   {
    "duration": 43,
    "start_time": "2024-10-16T17:46:57.232Z"
   },
   {
    "duration": 11,
    "start_time": "2024-10-16T17:48:01.948Z"
   },
   {
    "duration": 44,
    "start_time": "2024-10-16T17:48:12.092Z"
   },
   {
    "duration": 7,
    "start_time": "2024-10-16T17:50:20.855Z"
   },
   {
    "duration": 3,
    "start_time": "2024-10-16T17:51:38.456Z"
   },
   {
    "duration": 4,
    "start_time": "2024-10-16T17:56:04.741Z"
   },
   {
    "duration": 4,
    "start_time": "2024-10-16T17:56:07.217Z"
   },
   {
    "duration": 12,
    "start_time": "2024-10-16T17:56:21.697Z"
   },
   {
    "duration": 12,
    "start_time": "2024-10-16T17:56:41.461Z"
   },
   {
    "duration": 8,
    "start_time": "2024-10-16T17:59:13.546Z"
   },
   {
    "duration": 10,
    "start_time": "2024-10-16T18:00:42.536Z"
   },
   {
    "duration": 22,
    "start_time": "2024-10-16T18:07:38.534Z"
   },
   {
    "duration": 6,
    "start_time": "2024-10-16T18:07:41.542Z"
   },
   {
    "duration": 20,
    "start_time": "2024-10-16T18:07:43.991Z"
   },
   {
    "duration": 14,
    "start_time": "2024-10-16T18:08:23.328Z"
   },
   {
    "duration": 12,
    "start_time": "2024-10-16T18:08:40.865Z"
   },
   {
    "duration": 14,
    "start_time": "2024-10-16T18:09:01.200Z"
   },
   {
    "duration": 13,
    "start_time": "2024-10-16T18:09:06.670Z"
   },
   {
    "duration": 17,
    "start_time": "2024-10-16T18:09:28.456Z"
   },
   {
    "duration": 15,
    "start_time": "2024-10-16T18:09:37.909Z"
   },
   {
    "duration": 13,
    "start_time": "2024-10-16T18:10:00.559Z"
   },
   {
    "duration": 13,
    "start_time": "2024-10-16T18:11:54.643Z"
   },
   {
    "duration": 13,
    "start_time": "2024-10-16T18:12:46.688Z"
   },
   {
    "duration": 16,
    "start_time": "2024-10-16T18:13:21.974Z"
   },
   {
    "duration": 15,
    "start_time": "2024-10-16T18:13:52.190Z"
   },
   {
    "duration": 17,
    "start_time": "2024-10-16T18:14:29.932Z"
   },
   {
    "duration": 16,
    "start_time": "2024-10-16T18:15:02.866Z"
   },
   {
    "duration": 17,
    "start_time": "2024-10-16T18:15:38.847Z"
   },
   {
    "duration": 13,
    "start_time": "2024-10-16T18:16:10.402Z"
   },
   {
    "duration": 19,
    "start_time": "2024-10-16T18:16:14.860Z"
   },
   {
    "duration": 18,
    "start_time": "2024-10-16T18:18:23.947Z"
   },
   {
    "duration": 5,
    "start_time": "2024-10-16T18:18:41.938Z"
   },
   {
    "duration": 4,
    "start_time": "2024-10-16T18:18:53.194Z"
   },
   {
    "duration": 17,
    "start_time": "2024-10-16T18:19:24.469Z"
   },
   {
    "duration": 349,
    "start_time": "2024-10-16T18:21:25.482Z"
   },
   {
    "duration": 16,
    "start_time": "2024-10-16T18:29:01.033Z"
   },
   {
    "duration": 3,
    "start_time": "2024-10-16T18:30:05.691Z"
   },
   {
    "duration": 15,
    "start_time": "2024-10-16T18:31:50.637Z"
   },
   {
    "duration": 76,
    "start_time": "2024-10-16T18:32:21.319Z"
   },
   {
    "duration": 4,
    "start_time": "2024-10-16T18:32:51.553Z"
   },
   {
    "duration": 5,
    "start_time": "2024-10-16T18:33:19.892Z"
   },
   {
    "duration": 38,
    "start_time": "2024-10-16T18:34:45.978Z"
   },
   {
    "duration": 36,
    "start_time": "2024-10-16T18:35:01.016Z"
   },
   {
    "duration": 40,
    "start_time": "2024-10-16T18:36:44.335Z"
   },
   {
    "duration": 40,
    "start_time": "2024-10-16T18:38:00.152Z"
   },
   {
    "duration": 11,
    "start_time": "2024-10-16T18:40:13.444Z"
   },
   {
    "duration": 5,
    "start_time": "2024-10-16T18:40:25.296Z"
   },
   {
    "duration": 202,
    "start_time": "2024-10-16T18:41:28.900Z"
   },
   {
    "duration": 6,
    "start_time": "2024-10-16T20:59:52.639Z"
   },
   {
    "duration": 5,
    "start_time": "2024-10-16T20:59:55.127Z"
   },
   {
    "duration": 198,
    "start_time": "2024-10-16T21:02:02.898Z"
   },
   {
    "duration": 39,
    "start_time": "2024-10-16T21:02:29.155Z"
   },
   {
    "duration": 3,
    "start_time": "2024-10-16T21:03:10.472Z"
   },
   {
    "duration": 14,
    "start_time": "2024-10-16T21:03:52.198Z"
   },
   {
    "duration": 5,
    "start_time": "2024-10-16T21:04:41.917Z"
   },
   {
    "duration": 4,
    "start_time": "2024-10-16T21:07:15.660Z"
   },
   {
    "duration": 3,
    "start_time": "2024-10-16T21:08:35.069Z"
   },
   {
    "duration": 5,
    "start_time": "2024-10-16T21:08:50.879Z"
   },
   {
    "duration": 15,
    "start_time": "2024-10-16T21:09:02.723Z"
   },
   {
    "duration": 5,
    "start_time": "2024-10-16T21:09:13.219Z"
   },
   {
    "duration": 14,
    "start_time": "2024-10-16T21:09:23.689Z"
   },
   {
    "duration": 4,
    "start_time": "2024-10-16T21:10:03.023Z"
   },
   {
    "duration": 5,
    "start_time": "2024-10-16T21:11:44.905Z"
   },
   {
    "duration": 17,
    "start_time": "2024-10-16T21:11:58.298Z"
   },
   {
    "duration": 4,
    "start_time": "2024-10-16T21:13:54.043Z"
   },
   {
    "duration": 42,
    "start_time": "2024-10-16T21:14:19.955Z"
   },
   {
    "duration": 5,
    "start_time": "2024-10-16T21:14:44.113Z"
   },
   {
    "duration": 6,
    "start_time": "2024-10-16T21:16:13.412Z"
   },
   {
    "duration": 8,
    "start_time": "2024-10-16T21:16:18.266Z"
   },
   {
    "duration": 5,
    "start_time": "2024-10-16T21:16:22.510Z"
   },
   {
    "duration": 4,
    "start_time": "2024-10-16T21:16:26.580Z"
   },
   {
    "duration": 6,
    "start_time": "2024-10-16T21:17:00.940Z"
   },
   {
    "duration": 3,
    "start_time": "2024-10-16T21:27:13.398Z"
   },
   {
    "duration": 336,
    "start_time": "2024-10-16T21:37:18.706Z"
   },
   {
    "duration": 4,
    "start_time": "2024-10-16T21:38:46.484Z"
   },
   {
    "duration": 5,
    "start_time": "2024-10-16T21:39:04.735Z"
   },
   {
    "duration": 4,
    "start_time": "2024-10-16T21:39:23.345Z"
   },
   {
    "duration": 6,
    "start_time": "2024-10-16T21:39:42.818Z"
   },
   {
    "duration": 5,
    "start_time": "2024-10-16T21:42:47.038Z"
   },
   {
    "duration": 44,
    "start_time": "2024-10-16T21:43:09.745Z"
   },
   {
    "duration": 19,
    "start_time": "2024-10-16T21:44:49.968Z"
   },
   {
    "duration": 7,
    "start_time": "2024-10-16T21:46:19.332Z"
   },
   {
    "duration": 19,
    "start_time": "2024-10-16T21:46:32.586Z"
   },
   {
    "duration": 4,
    "start_time": "2024-10-16T21:47:43.562Z"
   },
   {
    "duration": 7,
    "start_time": "2024-10-16T21:47:46.433Z"
   },
   {
    "duration": 6,
    "start_time": "2024-10-16T21:50:49.965Z"
   },
   {
    "duration": 5,
    "start_time": "2024-10-16T21:50:53.458Z"
   },
   {
    "duration": 6,
    "start_time": "2024-10-16T21:50:59.699Z"
   },
   {
    "duration": 7,
    "start_time": "2024-10-16T21:53:25.895Z"
   },
   {
    "duration": 6,
    "start_time": "2024-10-16T21:54:17.901Z"
   },
   {
    "duration": 5,
    "start_time": "2024-10-16T21:54:50.488Z"
   },
   {
    "duration": 7,
    "start_time": "2024-10-16T21:54:59.970Z"
   },
   {
    "duration": 6,
    "start_time": "2024-10-16T21:55:07.764Z"
   },
   {
    "duration": 6,
    "start_time": "2024-10-16T21:55:13.851Z"
   },
   {
    "duration": 4,
    "start_time": "2024-10-16T21:55:18.625Z"
   },
   {
    "duration": 48,
    "start_time": "2024-10-16T21:55:21.539Z"
   },
   {
    "duration": 5,
    "start_time": "2024-10-16T21:55:36.954Z"
   },
   {
    "duration": 19,
    "start_time": "2024-10-16T21:55:59.805Z"
   },
   {
    "duration": 7,
    "start_time": "2024-10-16T21:56:10.347Z"
   },
   {
    "duration": 7,
    "start_time": "2024-10-16T21:56:15.523Z"
   },
   {
    "duration": 4,
    "start_time": "2024-10-16T21:56:19.012Z"
   },
   {
    "duration": 11,
    "start_time": "2024-10-16T21:56:21.149Z"
   },
   {
    "duration": 4,
    "start_time": "2024-10-16T21:56:36.102Z"
   },
   {
    "duration": 168,
    "start_time": "2024-10-16T21:59:33.103Z"
   },
   {
    "duration": 12,
    "start_time": "2024-10-16T21:59:55.817Z"
   },
   {
    "duration": 12,
    "start_time": "2024-10-16T22:01:39.468Z"
   },
   {
    "duration": 2,
    "start_time": "2024-10-16T22:02:03.717Z"
   },
   {
    "duration": 9,
    "start_time": "2024-10-16T22:02:07.946Z"
   },
   {
    "duration": 11,
    "start_time": "2024-10-16T22:04:16.244Z"
   },
   {
    "duration": 6,
    "start_time": "2024-10-16T22:06:04.975Z"
   },
   {
    "duration": 9,
    "start_time": "2024-10-16T22:06:31.420Z"
   },
   {
    "duration": 7,
    "start_time": "2024-10-16T22:06:38.342Z"
   },
   {
    "duration": 6,
    "start_time": "2024-10-16T22:06:50.728Z"
   },
   {
    "duration": 6,
    "start_time": "2024-10-16T22:06:55.951Z"
   },
   {
    "duration": 4,
    "start_time": "2024-10-16T22:07:06.787Z"
   },
   {
    "duration": 43,
    "start_time": "2024-10-16T22:07:30.359Z"
   },
   {
    "duration": 44,
    "start_time": "2024-10-16T22:08:30.718Z"
   },
   {
    "duration": 40,
    "start_time": "2024-10-16T22:08:31.617Z"
   },
   {
    "duration": 45,
    "start_time": "2024-10-16T22:08:59.690Z"
   },
   {
    "duration": 42,
    "start_time": "2024-10-16T22:09:03.523Z"
   },
   {
    "duration": 41,
    "start_time": "2024-10-16T22:09:40.250Z"
   },
   {
    "duration": 44,
    "start_time": "2024-10-16T22:10:17.513Z"
   },
   {
    "duration": 45,
    "start_time": "2024-10-16T22:10:33.077Z"
   },
   {
    "duration": 105,
    "start_time": "2024-10-16T22:11:57.461Z"
   },
   {
    "duration": 12,
    "start_time": "2024-10-16T22:12:16.195Z"
   },
   {
    "duration": 2,
    "start_time": "2024-10-16T22:12:28.829Z"
   },
   {
    "duration": 26,
    "start_time": "2024-10-16T22:12:28.833Z"
   },
   {
    "duration": 11,
    "start_time": "2024-10-16T22:12:28.861Z"
   },
   {
    "duration": 3,
    "start_time": "2024-10-16T22:12:28.873Z"
   },
   {
    "duration": 10,
    "start_time": "2024-10-16T22:12:28.878Z"
   },
   {
    "duration": 3,
    "start_time": "2024-10-16T22:12:28.890Z"
   },
   {
    "duration": 4,
    "start_time": "2024-10-16T22:12:28.912Z"
   },
   {
    "duration": 2,
    "start_time": "2024-10-16T22:12:28.918Z"
   },
   {
    "duration": 7,
    "start_time": "2024-10-16T22:12:28.922Z"
   },
   {
    "duration": 7,
    "start_time": "2024-10-16T22:12:28.931Z"
   },
   {
    "duration": 6,
    "start_time": "2024-10-16T22:12:28.941Z"
   },
   {
    "duration": 5,
    "start_time": "2024-10-16T22:12:28.948Z"
   },
   {
    "duration": 60,
    "start_time": "2024-10-16T22:12:28.955Z"
   },
   {
    "duration": 4,
    "start_time": "2024-10-16T22:12:29.017Z"
   },
   {
    "duration": 46,
    "start_time": "2024-10-16T22:12:29.024Z"
   },
   {
    "duration": 0,
    "start_time": "2024-10-16T22:12:29.072Z"
   },
   {
    "duration": 0,
    "start_time": "2024-10-16T22:12:29.073Z"
   },
   {
    "duration": 0,
    "start_time": "2024-10-16T22:12:29.074Z"
   },
   {
    "duration": 0,
    "start_time": "2024-10-16T22:12:29.075Z"
   },
   {
    "duration": 0,
    "start_time": "2024-10-16T22:12:29.076Z"
   },
   {
    "duration": 0,
    "start_time": "2024-10-16T22:12:29.076Z"
   },
   {
    "duration": 0,
    "start_time": "2024-10-16T22:12:29.078Z"
   },
   {
    "duration": 0,
    "start_time": "2024-10-16T22:12:29.079Z"
   },
   {
    "duration": 0,
    "start_time": "2024-10-16T22:12:29.080Z"
   },
   {
    "duration": 0,
    "start_time": "2024-10-16T22:12:29.081Z"
   },
   {
    "duration": 0,
    "start_time": "2024-10-16T22:12:29.082Z"
   },
   {
    "duration": 0,
    "start_time": "2024-10-16T22:12:29.083Z"
   },
   {
    "duration": 0,
    "start_time": "2024-10-16T22:12:29.085Z"
   },
   {
    "duration": 0,
    "start_time": "2024-10-16T22:12:29.112Z"
   },
   {
    "duration": 0,
    "start_time": "2024-10-16T22:12:29.113Z"
   },
   {
    "duration": 0,
    "start_time": "2024-10-16T22:12:29.114Z"
   },
   {
    "duration": 0,
    "start_time": "2024-10-16T22:12:29.115Z"
   },
   {
    "duration": 0,
    "start_time": "2024-10-16T22:12:29.116Z"
   },
   {
    "duration": 0,
    "start_time": "2024-10-16T22:12:29.117Z"
   },
   {
    "duration": 0,
    "start_time": "2024-10-16T22:12:29.118Z"
   },
   {
    "duration": 0,
    "start_time": "2024-10-16T22:12:29.119Z"
   },
   {
    "duration": 0,
    "start_time": "2024-10-16T22:12:29.120Z"
   },
   {
    "duration": 0,
    "start_time": "2024-10-16T22:12:29.122Z"
   },
   {
    "duration": 0,
    "start_time": "2024-10-16T22:12:29.124Z"
   },
   {
    "duration": 0,
    "start_time": "2024-10-16T22:12:29.126Z"
   },
   {
    "duration": 0,
    "start_time": "2024-10-16T22:12:29.127Z"
   },
   {
    "duration": 0,
    "start_time": "2024-10-16T22:12:29.128Z"
   },
   {
    "duration": 0,
    "start_time": "2024-10-16T22:12:29.129Z"
   },
   {
    "duration": 0,
    "start_time": "2024-10-16T22:12:29.130Z"
   },
   {
    "duration": 0,
    "start_time": "2024-10-16T22:12:29.131Z"
   },
   {
    "duration": 0,
    "start_time": "2024-10-16T22:12:29.133Z"
   },
   {
    "duration": 0,
    "start_time": "2024-10-16T22:12:29.134Z"
   },
   {
    "duration": 0,
    "start_time": "2024-10-16T22:12:29.135Z"
   },
   {
    "duration": 0,
    "start_time": "2024-10-16T22:12:29.137Z"
   },
   {
    "duration": 0,
    "start_time": "2024-10-16T22:12:29.138Z"
   },
   {
    "duration": 4,
    "start_time": "2024-10-16T22:13:28.134Z"
   },
   {
    "duration": 5,
    "start_time": "2024-10-16T22:13:39.754Z"
   },
   {
    "duration": 2,
    "start_time": "2024-10-16T22:13:47.968Z"
   },
   {
    "duration": 6,
    "start_time": "2024-10-16T22:14:12.788Z"
   },
   {
    "duration": 9,
    "start_time": "2024-10-16T22:14:19.367Z"
   },
   {
    "duration": 7,
    "start_time": "2024-10-16T22:14:23.797Z"
   },
   {
    "duration": 6,
    "start_time": "2024-10-16T22:14:27.534Z"
   },
   {
    "duration": 11,
    "start_time": "2024-10-16T22:14:32.807Z"
   },
   {
    "duration": 4,
    "start_time": "2024-10-16T22:14:36.715Z"
   },
   {
    "duration": 47,
    "start_time": "2024-10-16T22:14:46.608Z"
   },
   {
    "duration": 5,
    "start_time": "2024-10-16T22:15:25.933Z"
   },
   {
    "duration": 16,
    "start_time": "2024-10-16T22:15:30.550Z"
   },
   {
    "duration": 7,
    "start_time": "2024-10-16T22:15:35.931Z"
   },
   {
    "duration": 6,
    "start_time": "2024-10-16T22:15:41.594Z"
   },
   {
    "duration": 3,
    "start_time": "2024-10-16T22:15:45.517Z"
   },
   {
    "duration": 10,
    "start_time": "2024-10-16T22:15:47.904Z"
   },
   {
    "duration": 4,
    "start_time": "2024-10-16T22:15:53.318Z"
   },
   {
    "duration": 5,
    "start_time": "2024-10-16T22:15:57.173Z"
   },
   {
    "duration": 11,
    "start_time": "2024-10-16T22:15:59.589Z"
   },
   {
    "duration": 135,
    "start_time": "2024-10-16T22:16:06.220Z"
   },
   {
    "duration": 8,
    "start_time": "2024-10-16T22:16:13.525Z"
   },
   {
    "duration": 11,
    "start_time": "2024-10-16T22:16:15.989Z"
   },
   {
    "duration": 198,
    "start_time": "2024-10-16T22:16:22.146Z"
   },
   {
    "duration": 6,
    "start_time": "2024-10-16T22:16:27.240Z"
   },
   {
    "duration": 9,
    "start_time": "2024-10-16T22:16:33.244Z"
   },
   {
    "duration": 338,
    "start_time": "2024-10-16T22:16:37.942Z"
   },
   {
    "duration": 747,
    "start_time": "2024-10-16T22:16:43.925Z"
   },
   {
    "duration": 164,
    "start_time": "2024-10-16T22:17:35.172Z"
   },
   {
    "duration": 3,
    "start_time": "2024-10-16T22:17:46.900Z"
   },
   {
    "duration": 15,
    "start_time": "2024-10-16T22:17:50.252Z"
   },
   {
    "duration": 15,
    "start_time": "2024-10-16T22:19:40.953Z"
   },
   {
    "duration": 2395,
    "start_time": "2024-10-16T22:42:46.676Z"
   },
   {
    "duration": 56,
    "start_time": "2024-10-16T22:42:49.073Z"
   },
   {
    "duration": 12,
    "start_time": "2024-10-16T22:42:49.130Z"
   },
   {
    "duration": 2,
    "start_time": "2024-10-16T22:42:49.145Z"
   },
   {
    "duration": 14,
    "start_time": "2024-10-16T22:42:49.148Z"
   },
   {
    "duration": 4,
    "start_time": "2024-10-16T22:42:49.163Z"
   },
   {
    "duration": 4,
    "start_time": "2024-10-16T22:42:49.169Z"
   },
   {
    "duration": 3,
    "start_time": "2024-10-16T22:42:49.175Z"
   },
   {
    "duration": 13,
    "start_time": "2024-10-16T22:42:49.179Z"
   },
   {
    "duration": 8,
    "start_time": "2024-10-16T22:42:49.196Z"
   },
   {
    "duration": 10,
    "start_time": "2024-10-16T22:42:49.207Z"
   },
   {
    "duration": 5,
    "start_time": "2024-10-16T22:42:49.219Z"
   },
   {
    "duration": 10,
    "start_time": "2024-10-16T22:42:49.226Z"
   },
   {
    "duration": 3,
    "start_time": "2024-10-16T22:42:49.238Z"
   },
   {
    "duration": 800,
    "start_time": "2024-10-16T22:42:49.243Z"
   },
   {
    "duration": 0,
    "start_time": "2024-10-16T22:42:50.046Z"
   },
   {
    "duration": 0,
    "start_time": "2024-10-16T22:42:50.047Z"
   },
   {
    "duration": 0,
    "start_time": "2024-10-16T22:42:50.048Z"
   },
   {
    "duration": 0,
    "start_time": "2024-10-16T22:42:50.049Z"
   },
   {
    "duration": 0,
    "start_time": "2024-10-16T22:42:50.050Z"
   },
   {
    "duration": 0,
    "start_time": "2024-10-16T22:42:50.051Z"
   },
   {
    "duration": 0,
    "start_time": "2024-10-16T22:42:50.052Z"
   },
   {
    "duration": 0,
    "start_time": "2024-10-16T22:42:50.053Z"
   },
   {
    "duration": 0,
    "start_time": "2024-10-16T22:42:50.054Z"
   },
   {
    "duration": 0,
    "start_time": "2024-10-16T22:42:50.056Z"
   },
   {
    "duration": 0,
    "start_time": "2024-10-16T22:42:50.057Z"
   },
   {
    "duration": 0,
    "start_time": "2024-10-16T22:42:50.059Z"
   },
   {
    "duration": 0,
    "start_time": "2024-10-16T22:42:50.060Z"
   },
   {
    "duration": 0,
    "start_time": "2024-10-16T22:42:50.061Z"
   },
   {
    "duration": 0,
    "start_time": "2024-10-16T22:42:50.086Z"
   },
   {
    "duration": 0,
    "start_time": "2024-10-16T22:42:50.087Z"
   },
   {
    "duration": 0,
    "start_time": "2024-10-16T22:42:50.088Z"
   },
   {
    "duration": 0,
    "start_time": "2024-10-16T22:42:50.089Z"
   },
   {
    "duration": 0,
    "start_time": "2024-10-16T22:42:50.090Z"
   },
   {
    "duration": 0,
    "start_time": "2024-10-16T22:42:50.091Z"
   },
   {
    "duration": 0,
    "start_time": "2024-10-16T22:42:50.091Z"
   },
   {
    "duration": 0,
    "start_time": "2024-10-16T22:42:50.092Z"
   },
   {
    "duration": 0,
    "start_time": "2024-10-16T22:42:50.092Z"
   },
   {
    "duration": 0,
    "start_time": "2024-10-16T22:42:50.093Z"
   },
   {
    "duration": 0,
    "start_time": "2024-10-16T22:42:50.094Z"
   },
   {
    "duration": 0,
    "start_time": "2024-10-16T22:42:50.099Z"
   },
   {
    "duration": 0,
    "start_time": "2024-10-16T22:42:50.100Z"
   },
   {
    "duration": 0,
    "start_time": "2024-10-16T22:42:50.101Z"
   },
   {
    "duration": 0,
    "start_time": "2024-10-16T22:42:50.102Z"
   },
   {
    "duration": 0,
    "start_time": "2024-10-16T22:42:50.103Z"
   },
   {
    "duration": 0,
    "start_time": "2024-10-16T22:42:50.104Z"
   },
   {
    "duration": 0,
    "start_time": "2024-10-16T22:42:50.105Z"
   },
   {
    "duration": 0,
    "start_time": "2024-10-16T22:42:50.107Z"
   },
   {
    "duration": 0,
    "start_time": "2024-10-16T22:42:50.108Z"
   },
   {
    "duration": 0,
    "start_time": "2024-10-16T22:42:50.109Z"
   },
   {
    "duration": 0,
    "start_time": "2024-10-16T22:42:50.110Z"
   },
   {
    "duration": 12,
    "start_time": "2024-10-16T22:43:13.407Z"
   },
   {
    "duration": 2,
    "start_time": "2024-10-16T22:43:13.558Z"
   },
   {
    "duration": 16,
    "start_time": "2024-10-16T22:43:13.712Z"
   },
   {
    "duration": 7,
    "start_time": "2024-10-16T22:43:13.824Z"
   },
   {
    "duration": 16,
    "start_time": "2024-10-16T22:43:14.198Z"
   },
   {
    "duration": 3,
    "start_time": "2024-10-16T22:43:14.467Z"
   },
   {
    "duration": 11,
    "start_time": "2024-10-16T22:43:15.007Z"
   },
   {
    "duration": 4,
    "start_time": "2024-10-16T22:43:16.207Z"
   },
   {
    "duration": 4,
    "start_time": "2024-10-16T22:43:16.360Z"
   },
   {
    "duration": 18,
    "start_time": "2024-10-16T22:43:16.798Z"
   },
   {
    "duration": 17,
    "start_time": "2024-10-16T22:43:17.551Z"
   },
   {
    "duration": 8,
    "start_time": "2024-10-16T22:43:17.938Z"
   },
   {
    "duration": 11,
    "start_time": "2024-10-16T22:43:18.065Z"
   },
   {
    "duration": 18,
    "start_time": "2024-10-16T22:43:18.207Z"
   },
   {
    "duration": 5,
    "start_time": "2024-10-16T22:43:18.523Z"
   },
   {
    "duration": 8,
    "start_time": "2024-10-16T22:43:18.702Z"
   },
   {
    "duration": 16,
    "start_time": "2024-10-16T22:43:19.194Z"
   },
   {
    "duration": 9,
    "start_time": "2024-10-16T22:43:19.522Z"
   },
   {
    "duration": 2,
    "start_time": "2024-10-16T22:43:19.703Z"
   },
   {
    "duration": 7,
    "start_time": "2024-10-16T22:43:19.982Z"
   },
   {
    "duration": 351,
    "start_time": "2024-10-16T22:43:20.131Z"
   },
   {
    "duration": 7,
    "start_time": "2024-10-16T22:43:20.494Z"
   },
   {
    "duration": 791,
    "start_time": "2024-10-16T22:43:20.545Z"
   },
   {
    "duration": 0,
    "start_time": "2024-10-16T22:43:21.338Z"
   },
   {
    "duration": 0,
    "start_time": "2024-10-16T22:43:21.339Z"
   },
   {
    "duration": 0,
    "start_time": "2024-10-16T22:43:21.340Z"
   },
   {
    "duration": 0,
    "start_time": "2024-10-16T22:43:21.341Z"
   },
   {
    "duration": 0,
    "start_time": "2024-10-16T22:43:21.342Z"
   },
   {
    "duration": 0,
    "start_time": "2024-10-16T22:43:21.343Z"
   },
   {
    "duration": 12,
    "start_time": "2024-10-16T22:43:21.367Z"
   },
   {
    "duration": 12,
    "start_time": "2024-10-16T22:43:21.413Z"
   },
   {
    "duration": 2,
    "start_time": "2024-10-16T22:43:21.515Z"
   },
   {
    "duration": 2,
    "start_time": "2024-10-16T22:43:21.960Z"
   },
   {
    "duration": 366,
    "start_time": "2024-10-16T22:43:22.376Z"
   },
   {
    "duration": 16,
    "start_time": "2024-10-16T22:43:22.855Z"
   },
   {
    "duration": 4,
    "start_time": "2024-10-16T22:43:50.554Z"
   },
   {
    "duration": 5,
    "start_time": "2024-10-16T22:43:56.379Z"
   },
   {
    "duration": 194,
    "start_time": "2024-10-17T22:14:05.593Z"
   },
   {
    "duration": 2613,
    "start_time": "2024-10-17T22:14:20.598Z"
   },
   {
    "duration": 45,
    "start_time": "2024-10-17T22:14:26.068Z"
   },
   {
    "duration": 16,
    "start_time": "2024-10-17T22:14:29.610Z"
   },
   {
    "duration": 33,
    "start_time": "2024-10-17T22:14:37.825Z"
   },
   {
    "duration": 5,
    "start_time": "2024-10-17T22:14:39.072Z"
   },
   {
    "duration": 13,
    "start_time": "2024-10-17T22:14:41.327Z"
   },
   {
    "duration": 4,
    "start_time": "2024-10-17T22:14:52.209Z"
   },
   {
    "duration": 4,
    "start_time": "2024-10-17T22:15:01.719Z"
   },
   {
    "duration": 4,
    "start_time": "2024-10-17T22:15:13.911Z"
   },
   {
    "duration": 15,
    "start_time": "2024-10-17T22:17:07.191Z"
   },
   {
    "duration": 11,
    "start_time": "2024-10-17T22:20:26.489Z"
   },
   {
    "duration": 6,
    "start_time": "2024-10-17T22:20:29.978Z"
   },
   {
    "duration": 805,
    "start_time": "2024-10-17T22:20:42.949Z"
   },
   {
    "duration": 14,
    "start_time": "2024-10-17T22:22:27.144Z"
   },
   {
    "duration": 7,
    "start_time": "2024-10-17T22:22:36.461Z"
   },
   {
    "duration": 4,
    "start_time": "2024-10-17T22:22:40.917Z"
   },
   {
    "duration": 4,
    "start_time": "2024-10-17T22:22:42.900Z"
   },
   {
    "duration": 11,
    "start_time": "2024-10-17T22:22:52.855Z"
   },
   {
    "duration": 5,
    "start_time": "2024-10-17T22:23:02.949Z"
   },
   {
    "duration": 151,
    "start_time": "2024-10-17T22:28:06.159Z"
   },
   {
    "duration": 29,
    "start_time": "2024-10-17T22:28:41.321Z"
   },
   {
    "duration": 28,
    "start_time": "2024-10-17T22:29:06.252Z"
   },
   {
    "duration": 47,
    "start_time": "2024-10-17T22:29:40.743Z"
   },
   {
    "duration": 237,
    "start_time": "2024-10-17T22:30:14.964Z"
   },
   {
    "duration": 43,
    "start_time": "2024-10-17T22:31:27.254Z"
   },
   {
    "duration": 532,
    "start_time": "2024-10-17T22:31:46.314Z"
   },
   {
    "duration": 76,
    "start_time": "2024-10-17T22:31:49.818Z"
   },
   {
    "duration": 15,
    "start_time": "2024-10-17T22:32:38.956Z"
   },
   {
    "duration": 152,
    "start_time": "2024-10-17T22:33:53.236Z"
   },
   {
    "duration": 66,
    "start_time": "2024-10-17T22:34:14.225Z"
   },
   {
    "duration": 8,
    "start_time": "2024-10-17T22:34:29.334Z"
   },
   {
    "duration": 189,
    "start_time": "2024-10-17T22:34:32.280Z"
   },
   {
    "duration": 16,
    "start_time": "2024-10-17T22:34:41.552Z"
   },
   {
    "duration": 7,
    "start_time": "2024-10-17T22:34:45.407Z"
   },
   {
    "duration": 7,
    "start_time": "2024-10-17T22:34:48.899Z"
   },
   {
    "duration": 6,
    "start_time": "2024-10-17T22:34:52.183Z"
   },
   {
    "duration": 8,
    "start_time": "2024-10-17T22:34:55.852Z"
   },
   {
    "duration": 337,
    "start_time": "2024-10-17T22:35:08.628Z"
   },
   {
    "duration": 15,
    "start_time": "2024-10-17T22:35:12.810Z"
   },
   {
    "duration": 2257,
    "start_time": "2024-10-18T11:34:08.399Z"
   },
   {
    "duration": 43,
    "start_time": "2024-10-18T11:34:10.659Z"
   },
   {
    "duration": 12,
    "start_time": "2024-10-18T11:34:10.704Z"
   },
   {
    "duration": 6,
    "start_time": "2024-10-18T11:34:10.719Z"
   },
   {
    "duration": 17,
    "start_time": "2024-10-18T11:34:10.726Z"
   },
   {
    "duration": 4,
    "start_time": "2024-10-18T11:34:10.745Z"
   },
   {
    "duration": 4,
    "start_time": "2024-10-18T11:34:10.750Z"
   },
   {
    "duration": 5,
    "start_time": "2024-10-18T11:34:10.755Z"
   },
   {
    "duration": 2,
    "start_time": "2024-10-18T11:34:10.762Z"
   },
   {
    "duration": 6,
    "start_time": "2024-10-18T11:34:10.768Z"
   },
   {
    "duration": 3,
    "start_time": "2024-10-18T11:34:10.776Z"
   },
   {
    "duration": 49,
    "start_time": "2024-10-18T11:34:10.781Z"
   },
   {
    "duration": 8,
    "start_time": "2024-10-18T11:34:10.831Z"
   },
   {
    "duration": 6,
    "start_time": "2024-10-18T11:34:10.840Z"
   },
   {
    "duration": 12,
    "start_time": "2024-10-18T11:34:10.848Z"
   },
   {
    "duration": 2,
    "start_time": "2024-10-18T11:34:10.864Z"
   },
   {
    "duration": 10,
    "start_time": "2024-10-18T11:34:10.867Z"
   },
   {
    "duration": 5,
    "start_time": "2024-10-18T11:34:10.879Z"
   },
   {
    "duration": 3,
    "start_time": "2024-10-18T11:34:10.886Z"
   },
   {
    "duration": 48,
    "start_time": "2024-10-18T11:34:10.890Z"
   },
   {
    "duration": 13,
    "start_time": "2024-10-18T11:34:10.940Z"
   },
   {
    "duration": 10,
    "start_time": "2024-10-18T11:34:10.956Z"
   },
   {
    "duration": 4,
    "start_time": "2024-10-18T11:34:10.969Z"
   },
   {
    "duration": 13,
    "start_time": "2024-10-18T11:34:10.974Z"
   },
   {
    "duration": 6,
    "start_time": "2024-10-18T11:34:10.990Z"
   },
   {
    "duration": 4,
    "start_time": "2024-10-18T11:34:10.998Z"
   },
   {
    "duration": 35,
    "start_time": "2024-10-18T11:34:11.004Z"
   },
   {
    "duration": 272,
    "start_time": "2024-10-18T11:34:11.044Z"
   },
   {
    "duration": 0,
    "start_time": "2024-10-18T11:34:11.325Z"
   },
   {
    "duration": 0,
    "start_time": "2024-10-18T11:34:11.326Z"
   },
   {
    "duration": 0,
    "start_time": "2024-10-18T11:34:11.328Z"
   },
   {
    "duration": 0,
    "start_time": "2024-10-18T11:34:11.329Z"
   },
   {
    "duration": 0,
    "start_time": "2024-10-18T11:34:11.330Z"
   },
   {
    "duration": 0,
    "start_time": "2024-10-18T11:34:11.332Z"
   },
   {
    "duration": 0,
    "start_time": "2024-10-18T11:34:11.333Z"
   },
   {
    "duration": 0,
    "start_time": "2024-10-18T11:34:11.334Z"
   },
   {
    "duration": 0,
    "start_time": "2024-10-18T11:34:11.336Z"
   },
   {
    "duration": 0,
    "start_time": "2024-10-18T11:34:11.337Z"
   },
   {
    "duration": 0,
    "start_time": "2024-10-18T11:34:11.339Z"
   },
   {
    "duration": 0,
    "start_time": "2024-10-18T11:34:11.341Z"
   },
   {
    "duration": 0,
    "start_time": "2024-10-18T11:34:11.342Z"
   },
   {
    "duration": 0,
    "start_time": "2024-10-18T11:34:11.344Z"
   },
   {
    "duration": 0,
    "start_time": "2024-10-18T11:34:11.346Z"
   },
   {
    "duration": 0,
    "start_time": "2024-10-18T11:34:11.347Z"
   },
   {
    "duration": 0,
    "start_time": "2024-10-18T11:34:11.349Z"
   },
   {
    "duration": 0,
    "start_time": "2024-10-18T11:34:11.350Z"
   },
   {
    "duration": 0,
    "start_time": "2024-10-18T11:34:11.352Z"
   },
   {
    "duration": 0,
    "start_time": "2024-10-18T11:34:11.353Z"
   },
   {
    "duration": 0,
    "start_time": "2024-10-18T11:34:11.355Z"
   },
   {
    "duration": 0,
    "start_time": "2024-10-18T11:34:11.357Z"
   },
   {
    "duration": 0,
    "start_time": "2024-10-18T11:34:11.359Z"
   },
   {
    "duration": 0,
    "start_time": "2024-10-18T11:34:11.360Z"
   },
   {
    "duration": 0,
    "start_time": "2024-10-18T11:34:11.362Z"
   },
   {
    "duration": 0,
    "start_time": "2024-10-18T11:34:11.364Z"
   },
   {
    "duration": 1,
    "start_time": "2024-10-18T11:34:11.365Z"
   },
   {
    "duration": 0,
    "start_time": "2024-10-18T11:34:11.367Z"
   },
   {
    "duration": 8,
    "start_time": "2024-10-18T11:34:36.734Z"
   },
   {
    "duration": 13,
    "start_time": "2024-10-18T11:34:36.900Z"
   },
   {
    "duration": 216,
    "start_time": "2024-10-18T11:34:37.042Z"
   },
   {
    "duration": 7,
    "start_time": "2024-10-18T11:34:37.331Z"
   },
   {
    "duration": 3,
    "start_time": "2024-10-18T11:34:37.466Z"
   },
   {
    "duration": 2,
    "start_time": "2024-10-18T11:34:37.886Z"
   },
   {
    "duration": 11,
    "start_time": "2024-10-18T11:34:38.611Z"
   },
   {
    "duration": 4,
    "start_time": "2024-10-18T11:34:38.954Z"
   },
   {
    "duration": 4,
    "start_time": "2024-10-18T11:34:39.264Z"
   },
   {
    "duration": 354,
    "start_time": "2024-10-18T11:34:39.413Z"
   },
   {
    "duration": 2,
    "start_time": "2024-10-18T11:34:39.769Z"
   },
   {
    "duration": 124,
    "start_time": "2024-10-18T11:34:40.163Z"
   },
   {
    "duration": 5,
    "start_time": "2024-10-18T11:34:40.290Z"
   },
   {
    "duration": 172,
    "start_time": "2024-10-18T11:34:40.356Z"
   },
   {
    "duration": 3,
    "start_time": "2024-10-18T11:34:40.530Z"
   },
   {
    "duration": 5,
    "start_time": "2024-10-18T11:34:40.535Z"
   },
   {
    "duration": 6,
    "start_time": "2024-10-18T11:34:40.544Z"
   },
   {
    "duration": 5,
    "start_time": "2024-10-18T11:34:40.581Z"
   },
   {
    "duration": 6,
    "start_time": "2024-10-18T11:34:40.615Z"
   },
   {
    "duration": 5,
    "start_time": "2024-10-18T11:34:40.655Z"
   },
   {
    "duration": 2,
    "start_time": "2024-10-18T11:34:40.750Z"
   },
   {
    "duration": 3,
    "start_time": "2024-10-18T11:34:40.820Z"
   },
   {
    "duration": 400,
    "start_time": "2024-10-18T11:34:40.857Z"
   },
   {
    "duration": 13,
    "start_time": "2024-10-18T11:34:41.259Z"
   },
   {
    "duration": 4,
    "start_time": "2024-10-18T11:34:41.273Z"
   },
   {
    "duration": 4,
    "start_time": "2024-10-18T11:34:41.600Z"
   },
   {
    "duration": 5,
    "start_time": "2024-10-18T11:34:41.783Z"
   },
   {
    "duration": 5,
    "start_time": "2024-10-18T11:35:15.820Z"
   },
   {
    "duration": 5,
    "start_time": "2024-10-18T11:35:22.425Z"
   },
   {
    "duration": 5,
    "start_time": "2024-10-18T11:35:53.261Z"
   },
   {
    "duration": 7,
    "start_time": "2024-10-18T11:37:52.055Z"
   },
   {
    "duration": 159,
    "start_time": "2024-10-18T21:06:23.010Z"
   },
   {
    "duration": 14,
    "start_time": "2024-10-18T21:07:05.306Z"
   },
   {
    "duration": 12,
    "start_time": "2024-10-18T21:07:22.501Z"
   },
   {
    "duration": 2107,
    "start_time": "2024-10-18T21:07:29.704Z"
   },
   {
    "duration": 36,
    "start_time": "2024-10-18T21:07:36.717Z"
   },
   {
    "duration": 12,
    "start_time": "2024-10-18T21:07:41.439Z"
   },
   {
    "duration": 44,
    "start_time": "2024-10-18T21:07:47.243Z"
   },
   {
    "duration": 10,
    "start_time": "2024-10-18T21:07:58.859Z"
   },
   {
    "duration": 13,
    "start_time": "2024-10-18T21:08:09.380Z"
   },
   {
    "duration": 23,
    "start_time": "2024-10-18T21:08:17.543Z"
   },
   {
    "duration": 11,
    "start_time": "2024-10-18T21:08:46.608Z"
   },
   {
    "duration": 4,
    "start_time": "2024-10-18T21:09:00.162Z"
   },
   {
    "duration": 3,
    "start_time": "2024-10-18T21:09:27.235Z"
   },
   {
    "duration": 187,
    "start_time": "2024-10-18T21:09:38.605Z"
   },
   {
    "duration": 28,
    "start_time": "2024-10-18T21:10:33.240Z"
   },
   {
    "duration": 27,
    "start_time": "2024-10-18T21:10:41.276Z"
   },
   {
    "duration": 26,
    "start_time": "2024-10-18T21:11:05.712Z"
   },
   {
    "duration": 26,
    "start_time": "2024-10-18T21:11:14.737Z"
   },
   {
    "duration": 2,
    "start_time": "2024-10-18T21:11:22.811Z"
   },
   {
    "duration": 3,
    "start_time": "2024-10-18T21:11:24.980Z"
   },
   {
    "duration": 2,
    "start_time": "2024-10-18T21:11:27.389Z"
   },
   {
    "duration": 25,
    "start_time": "2024-10-18T21:11:29.332Z"
   },
   {
    "duration": 4,
    "start_time": "2024-10-18T21:11:39.029Z"
   },
   {
    "duration": 401,
    "start_time": "2024-10-18T21:11:42.294Z"
   },
   {
    "duration": 38,
    "start_time": "2024-10-18T21:11:46.405Z"
   },
   {
    "duration": 10,
    "start_time": "2024-10-18T21:12:04.165Z"
   },
   {
    "duration": 11,
    "start_time": "2024-10-18T21:12:08.325Z"
   },
   {
    "duration": 4,
    "start_time": "2024-10-18T21:12:11.509Z"
   },
   {
    "duration": 41,
    "start_time": "2024-10-18T21:12:16.048Z"
   },
   {
    "duration": 49,
    "start_time": "2024-10-18T21:12:23.207Z"
   },
   {
    "duration": 2,
    "start_time": "2024-10-18T21:12:39.415Z"
   },
   {
    "duration": 3,
    "start_time": "2024-10-18T21:12:41.507Z"
   },
   {
    "duration": 3,
    "start_time": "2024-10-18T21:12:44.101Z"
   },
   {
    "duration": 24,
    "start_time": "2024-10-18T21:12:46.347Z"
   },
   {
    "duration": 10,
    "start_time": "2024-10-18T21:12:52.045Z"
   },
   {
    "duration": 11,
    "start_time": "2024-10-18T21:13:01.721Z"
   },
   {
    "duration": 4,
    "start_time": "2024-10-18T21:13:06.519Z"
   },
   {
    "duration": 39,
    "start_time": "2024-10-18T21:13:14.122Z"
   },
   {
    "duration": 36,
    "start_time": "2024-10-18T21:13:39.254Z"
   },
   {
    "duration": 38,
    "start_time": "2024-10-18T21:14:06.542Z"
   },
   {
    "duration": 36,
    "start_time": "2024-10-18T21:14:09.545Z"
   },
   {
    "duration": 36,
    "start_time": "2024-10-18T21:14:15.326Z"
   },
   {
    "duration": 2,
    "start_time": "2024-10-18T21:14:32.980Z"
   },
   {
    "duration": 3,
    "start_time": "2024-10-18T21:14:35.755Z"
   },
   {
    "duration": 2,
    "start_time": "2024-10-18T21:14:38.107Z"
   },
   {
    "duration": 2,
    "start_time": "2024-10-18T21:14:40.648Z"
   },
   {
    "duration": 24,
    "start_time": "2024-10-18T21:14:44.557Z"
   },
   {
    "duration": 12,
    "start_time": "2024-10-18T21:14:50.212Z"
   },
   {
    "duration": 10,
    "start_time": "2024-10-18T21:14:55.352Z"
   },
   {
    "duration": 6,
    "start_time": "2024-10-18T21:15:00.052Z"
   },
   {
    "duration": 4,
    "start_time": "2024-10-18T21:15:02.505Z"
   },
   {
    "duration": 6,
    "start_time": "2024-10-18T21:15:05.811Z"
   },
   {
    "duration": 6,
    "start_time": "2024-10-18T21:15:09.213Z"
   },
   {
    "duration": 33,
    "start_time": "2024-10-18T21:15:44.682Z"
   },
   {
    "duration": 313,
    "start_time": "2024-10-18T21:15:54.878Z"
   },
   {
    "duration": 2,
    "start_time": "2024-10-18T21:15:56.731Z"
   },
   {
    "duration": 2178,
    "start_time": "2024-10-18T23:57:09.794Z"
   },
   {
    "duration": 41,
    "start_time": "2024-10-18T23:57:11.974Z"
   },
   {
    "duration": 3,
    "start_time": "2024-10-18T23:57:12.016Z"
   },
   {
    "duration": 13,
    "start_time": "2024-10-18T23:57:12.022Z"
   },
   {
    "duration": 11,
    "start_time": "2024-10-18T23:57:12.037Z"
   },
   {
    "duration": 4,
    "start_time": "2024-10-18T23:57:12.049Z"
   },
   {
    "duration": 16,
    "start_time": "2024-10-18T23:57:12.055Z"
   },
   {
    "duration": 4,
    "start_time": "2024-10-18T23:57:12.073Z"
   },
   {
    "duration": 2,
    "start_time": "2024-10-18T23:57:12.080Z"
   },
   {
    "duration": 5,
    "start_time": "2024-10-18T23:57:12.085Z"
   },
   {
    "duration": 3,
    "start_time": "2024-10-18T23:57:12.092Z"
   },
   {
    "duration": 9,
    "start_time": "2024-10-18T23:57:12.096Z"
   },
   {
    "duration": 7,
    "start_time": "2024-10-18T23:57:12.106Z"
   },
   {
    "duration": 5,
    "start_time": "2024-10-18T23:57:12.115Z"
   },
   {
    "duration": 52,
    "start_time": "2024-10-18T23:57:12.123Z"
   },
   {
    "duration": 2,
    "start_time": "2024-10-18T23:57:12.177Z"
   },
   {
    "duration": 5,
    "start_time": "2024-10-18T23:57:12.180Z"
   },
   {
    "duration": 4,
    "start_time": "2024-10-18T23:57:12.187Z"
   },
   {
    "duration": 2,
    "start_time": "2024-10-18T23:57:12.193Z"
   },
   {
    "duration": 15,
    "start_time": "2024-10-18T23:57:12.197Z"
   },
   {
    "duration": 5,
    "start_time": "2024-10-18T23:57:12.214Z"
   },
   {
    "duration": 7,
    "start_time": "2024-10-18T23:57:12.221Z"
   },
   {
    "duration": 4,
    "start_time": "2024-10-18T23:57:12.269Z"
   },
   {
    "duration": 10,
    "start_time": "2024-10-18T23:57:12.275Z"
   },
   {
    "duration": 4,
    "start_time": "2024-10-18T23:57:12.286Z"
   },
   {
    "duration": 4,
    "start_time": "2024-10-18T23:57:12.291Z"
   },
   {
    "duration": 15,
    "start_time": "2024-10-18T23:57:12.297Z"
   },
   {
    "duration": 255,
    "start_time": "2024-10-18T23:57:12.316Z"
   },
   {
    "duration": 0,
    "start_time": "2024-10-18T23:57:12.572Z"
   },
   {
    "duration": 0,
    "start_time": "2024-10-18T23:57:12.574Z"
   },
   {
    "duration": 0,
    "start_time": "2024-10-18T23:57:12.575Z"
   },
   {
    "duration": 0,
    "start_time": "2024-10-18T23:57:12.576Z"
   },
   {
    "duration": 0,
    "start_time": "2024-10-18T23:57:12.577Z"
   },
   {
    "duration": 0,
    "start_time": "2024-10-18T23:57:12.579Z"
   },
   {
    "duration": 0,
    "start_time": "2024-10-18T23:57:12.581Z"
   },
   {
    "duration": 0,
    "start_time": "2024-10-18T23:57:12.582Z"
   },
   {
    "duration": 0,
    "start_time": "2024-10-18T23:57:12.584Z"
   },
   {
    "duration": 0,
    "start_time": "2024-10-18T23:57:12.585Z"
   },
   {
    "duration": 0,
    "start_time": "2024-10-18T23:57:12.587Z"
   },
   {
    "duration": 0,
    "start_time": "2024-10-18T23:57:12.588Z"
   },
   {
    "duration": 0,
    "start_time": "2024-10-18T23:57:12.589Z"
   },
   {
    "duration": 0,
    "start_time": "2024-10-18T23:57:12.591Z"
   },
   {
    "duration": 0,
    "start_time": "2024-10-18T23:57:12.592Z"
   },
   {
    "duration": 0,
    "start_time": "2024-10-18T23:57:12.593Z"
   },
   {
    "duration": 0,
    "start_time": "2024-10-18T23:57:12.594Z"
   },
   {
    "duration": 0,
    "start_time": "2024-10-18T23:57:12.595Z"
   },
   {
    "duration": 0,
    "start_time": "2024-10-18T23:57:12.597Z"
   },
   {
    "duration": 0,
    "start_time": "2024-10-18T23:57:12.599Z"
   },
   {
    "duration": 0,
    "start_time": "2024-10-18T23:57:12.601Z"
   },
   {
    "duration": 0,
    "start_time": "2024-10-18T23:57:12.602Z"
   },
   {
    "duration": 0,
    "start_time": "2024-10-18T23:57:12.604Z"
   },
   {
    "duration": 0,
    "start_time": "2024-10-18T23:57:12.605Z"
   },
   {
    "duration": 0,
    "start_time": "2024-10-18T23:57:12.607Z"
   },
   {
    "duration": 0,
    "start_time": "2024-10-18T23:57:12.608Z"
   },
   {
    "duration": 0,
    "start_time": "2024-10-18T23:57:12.609Z"
   },
   {
    "duration": 1,
    "start_time": "2024-10-18T23:57:12.609Z"
   },
   {
    "duration": 2109,
    "start_time": "2024-10-20T19:57:38.890Z"
   },
   {
    "duration": 33,
    "start_time": "2024-10-20T19:57:41.638Z"
   },
   {
    "duration": 13,
    "start_time": "2024-10-20T19:57:45.540Z"
   },
   {
    "duration": 11,
    "start_time": "2024-10-20T19:57:48.448Z"
   },
   {
    "duration": 4,
    "start_time": "2024-10-20T19:57:51.850Z"
   },
   {
    "duration": 3,
    "start_time": "2024-10-20T19:57:54.663Z"
   },
   {
    "duration": 5,
    "start_time": "2024-10-20T19:57:58.800Z"
   },
   {
    "duration": 6,
    "start_time": "2024-10-20T19:58:02.447Z"
   },
   {
    "duration": 14,
    "start_time": "2024-10-20T19:58:07.793Z"
   },
   {
    "duration": 6,
    "start_time": "2024-10-20T19:58:12.595Z"
   },
   {
    "duration": 11,
    "start_time": "2024-10-20T19:58:15.712Z"
   },
   {
    "duration": 16,
    "start_time": "2024-10-20T19:58:25.491Z"
   },
   {
    "duration": 6,
    "start_time": "2024-10-20T19:58:29.367Z"
   },
   {
    "duration": 2,
    "start_time": "2024-10-20T19:59:07.279Z"
   },
   {
    "duration": 720,
    "start_time": "2024-10-20T19:59:24.574Z"
   },
   {
    "duration": 46,
    "start_time": "2024-10-20T19:59:36.107Z"
   },
   {
    "duration": 10,
    "start_time": "2024-10-20T19:59:58.629Z"
   },
   {
    "duration": 10,
    "start_time": "2024-10-20T20:00:01.206Z"
   },
   {
    "duration": 4,
    "start_time": "2024-10-20T20:00:05.924Z"
   },
   {
    "duration": 4,
    "start_time": "2024-10-20T20:00:08.597Z"
   },
   {
    "duration": 5,
    "start_time": "2024-10-20T20:00:12.239Z"
   },
   {
    "duration": 6,
    "start_time": "2024-10-20T20:00:16.142Z"
   },
   {
    "duration": 6,
    "start_time": "2024-10-20T20:00:29.055Z"
   },
   {
    "duration": 7,
    "start_time": "2024-10-20T20:00:35.186Z"
   },
   {
    "duration": 11,
    "start_time": "2024-10-20T20:00:39.044Z"
   },
   {
    "duration": 5,
    "start_time": "2024-10-20T20:00:50.141Z"
   },
   {
    "duration": 16,
    "start_time": "2024-10-20T20:00:53.533Z"
   },
   {
    "duration": 7,
    "start_time": "2024-10-20T20:01:01.687Z"
   },
   {
    "duration": 5,
    "start_time": "2024-10-20T20:01:28.632Z"
   },
   {
    "duration": 46,
    "start_time": "2024-10-20T20:01:35.493Z"
   },
   {
    "duration": 11,
    "start_time": "2024-10-20T20:01:52.530Z"
   },
   {
    "duration": 4,
    "start_time": "2024-10-20T20:01:55.781Z"
   },
   {
    "duration": 5,
    "start_time": "2024-10-20T20:01:59.188Z"
   },
   {
    "duration": 15,
    "start_time": "2024-10-20T20:02:02.307Z"
   },
   {
    "duration": 16,
    "start_time": "2024-10-20T20:02:20.930Z"
   },
   {
    "duration": 4,
    "start_time": "2024-10-20T20:03:02.645Z"
   },
   {
    "duration": 152,
    "start_time": "2024-10-20T20:03:06.380Z"
   },
   {
    "duration": 8,
    "start_time": "2024-10-20T20:03:49.406Z"
   },
   {
    "duration": 12,
    "start_time": "2024-10-20T20:03:52.015Z"
   },
   {
    "duration": 206,
    "start_time": "2024-10-20T20:03:55.561Z"
   },
   {
    "duration": 199,
    "start_time": "2024-10-20T20:06:37.178Z"
   },
   {
    "duration": 214,
    "start_time": "2024-10-20T20:06:59.186Z"
   },
   {
    "duration": 155,
    "start_time": "2024-10-20T20:07:42.524Z"
   },
   {
    "duration": 7,
    "start_time": "2024-10-20T20:10:56.448Z"
   },
   {
    "duration": 294,
    "start_time": "2024-10-20T20:11:03.722Z"
   },
   {
    "duration": 40,
    "start_time": "2024-10-20T20:11:46.925Z"
   },
   {
    "duration": 155,
    "start_time": "2024-10-20T20:11:54.366Z"
   },
   {
    "duration": 15,
    "start_time": "2024-10-20T20:12:03.436Z"
   },
   {
    "duration": 15,
    "start_time": "2024-10-20T20:12:08.736Z"
   },
   {
    "duration": 3,
    "start_time": "2024-10-20T20:12:11.473Z"
   },
   {
    "duration": 23,
    "start_time": "2024-10-20T20:12:11.478Z"
   },
   {
    "duration": 2,
    "start_time": "2024-10-20T20:12:11.503Z"
   },
   {
    "duration": 10,
    "start_time": "2024-10-20T20:12:11.507Z"
   },
   {
    "duration": 10,
    "start_time": "2024-10-20T20:12:11.519Z"
   },
   {
    "duration": 4,
    "start_time": "2024-10-20T20:12:11.530Z"
   },
   {
    "duration": 3,
    "start_time": "2024-10-20T20:12:11.536Z"
   },
   {
    "duration": 5,
    "start_time": "2024-10-20T20:12:11.541Z"
   },
   {
    "duration": 40,
    "start_time": "2024-10-20T20:12:11.547Z"
   },
   {
    "duration": 7,
    "start_time": "2024-10-20T20:12:11.588Z"
   },
   {
    "duration": 3,
    "start_time": "2024-10-20T20:12:11.599Z"
   },
   {
    "duration": 7,
    "start_time": "2024-10-20T20:12:11.604Z"
   },
   {
    "duration": 6,
    "start_time": "2024-10-20T20:12:11.613Z"
   },
   {
    "duration": 5,
    "start_time": "2024-10-20T20:12:11.621Z"
   },
   {
    "duration": 11,
    "start_time": "2024-10-20T20:12:11.627Z"
   },
   {
    "duration": 46,
    "start_time": "2024-10-20T20:12:11.640Z"
   },
   {
    "duration": 5,
    "start_time": "2024-10-20T20:12:11.688Z"
   },
   {
    "duration": 5,
    "start_time": "2024-10-20T20:12:11.695Z"
   },
   {
    "duration": 2,
    "start_time": "2024-10-20T20:12:11.701Z"
   },
   {
    "duration": 18,
    "start_time": "2024-10-20T20:12:11.705Z"
   },
   {
    "duration": 6,
    "start_time": "2024-10-20T20:12:11.726Z"
   },
   {
    "duration": 3,
    "start_time": "2024-10-20T20:12:11.735Z"
   },
   {
    "duration": 0,
    "start_time": "2024-10-20T20:12:11.742Z"
   },
   {
    "duration": 0,
    "start_time": "2024-10-20T20:12:11.743Z"
   },
   {
    "duration": 0,
    "start_time": "2024-10-20T20:12:11.744Z"
   },
   {
    "duration": 0,
    "start_time": "2024-10-20T20:12:11.746Z"
   },
   {
    "duration": 0,
    "start_time": "2024-10-20T20:12:11.746Z"
   },
   {
    "duration": 0,
    "start_time": "2024-10-20T20:12:11.747Z"
   },
   {
    "duration": 0,
    "start_time": "2024-10-20T20:12:11.747Z"
   },
   {
    "duration": 0,
    "start_time": "2024-10-20T20:12:11.748Z"
   },
   {
    "duration": 0,
    "start_time": "2024-10-20T20:12:11.748Z"
   },
   {
    "duration": 0,
    "start_time": "2024-10-20T20:12:11.749Z"
   },
   {
    "duration": 0,
    "start_time": "2024-10-20T20:12:11.749Z"
   },
   {
    "duration": 0,
    "start_time": "2024-10-20T20:12:11.787Z"
   },
   {
    "duration": 0,
    "start_time": "2024-10-20T20:12:11.788Z"
   },
   {
    "duration": 0,
    "start_time": "2024-10-20T20:12:11.789Z"
   },
   {
    "duration": 0,
    "start_time": "2024-10-20T20:12:11.790Z"
   },
   {
    "duration": 0,
    "start_time": "2024-10-20T20:12:11.791Z"
   },
   {
    "duration": 0,
    "start_time": "2024-10-20T20:12:11.792Z"
   },
   {
    "duration": 1,
    "start_time": "2024-10-20T20:12:11.793Z"
   },
   {
    "duration": 0,
    "start_time": "2024-10-20T20:12:11.795Z"
   },
   {
    "duration": 0,
    "start_time": "2024-10-20T20:12:11.796Z"
   },
   {
    "duration": 0,
    "start_time": "2024-10-20T20:12:11.797Z"
   },
   {
    "duration": 0,
    "start_time": "2024-10-20T20:12:11.798Z"
   },
   {
    "duration": 0,
    "start_time": "2024-10-20T20:12:11.800Z"
   },
   {
    "duration": 0,
    "start_time": "2024-10-20T20:12:11.801Z"
   },
   {
    "duration": 0,
    "start_time": "2024-10-20T20:12:11.803Z"
   },
   {
    "duration": 0,
    "start_time": "2024-10-20T20:12:11.804Z"
   },
   {
    "duration": 0,
    "start_time": "2024-10-20T20:12:11.805Z"
   },
   {
    "duration": 0,
    "start_time": "2024-10-20T20:12:11.806Z"
   },
   {
    "duration": 0,
    "start_time": "2024-10-20T20:12:11.807Z"
   },
   {
    "duration": 0,
    "start_time": "2024-10-20T20:12:11.808Z"
   },
   {
    "duration": 0,
    "start_time": "2024-10-20T20:12:11.809Z"
   },
   {
    "duration": 0,
    "start_time": "2024-10-20T20:12:11.810Z"
   },
   {
    "duration": 0,
    "start_time": "2024-10-20T20:12:11.811Z"
   },
   {
    "duration": 0,
    "start_time": "2024-10-20T20:12:11.812Z"
   },
   {
    "duration": 0,
    "start_time": "2024-10-20T20:12:11.813Z"
   },
   {
    "duration": 0,
    "start_time": "2024-10-20T20:12:11.815Z"
   },
   {
    "duration": 29,
    "start_time": "2024-10-20T20:12:26.338Z"
   },
   {
    "duration": 4,
    "start_time": "2024-10-20T20:12:44.553Z"
   },
   {
    "duration": 161,
    "start_time": "2024-10-20T20:12:46.879Z"
   },
   {
    "duration": 3,
    "start_time": "2024-10-20T20:13:07.572Z"
   },
   {
    "duration": 2,
    "start_time": "2024-10-20T20:13:21.291Z"
   },
   {
    "duration": 4,
    "start_time": "2024-10-20T20:13:23.301Z"
   },
   {
    "duration": 2,
    "start_time": "2024-10-20T20:13:25.540Z"
   },
   {
    "duration": 29,
    "start_time": "2024-10-20T20:13:28.112Z"
   },
   {
    "duration": 11,
    "start_time": "2024-10-20T20:13:31.220Z"
   },
   {
    "duration": 16,
    "start_time": "2024-10-20T20:13:34.512Z"
   },
   {
    "duration": 5,
    "start_time": "2024-10-20T20:13:38.742Z"
   },
   {
    "duration": 7,
    "start_time": "2024-10-20T20:13:41.653Z"
   },
   {
    "duration": 6,
    "start_time": "2024-10-20T20:13:46.290Z"
   },
   {
    "duration": 8,
    "start_time": "2024-10-20T20:13:54.680Z"
   },
   {
    "duration": 8,
    "start_time": "2024-10-20T20:14:03.949Z"
   },
   {
    "duration": 8,
    "start_time": "2024-10-20T20:14:06.036Z"
   },
   {
    "duration": 6,
    "start_time": "2024-10-20T20:14:10.241Z"
   },
   {
    "duration": 6,
    "start_time": "2024-10-20T20:14:14.047Z"
   },
   {
    "duration": 11,
    "start_time": "2024-10-20T20:14:18.085Z"
   },
   {
    "duration": 5,
    "start_time": "2024-10-20T20:14:28.526Z"
   },
   {
    "duration": 16,
    "start_time": "2024-10-20T20:14:31.708Z"
   },
   {
    "duration": 6,
    "start_time": "2024-10-20T20:14:43.065Z"
   },
   {
    "duration": 49,
    "start_time": "2024-10-20T20:14:59.208Z"
   },
   {
    "duration": 4,
    "start_time": "2024-10-20T20:17:13.034Z"
   },
   {
    "duration": 4,
    "start_time": "2024-10-20T20:17:38.605Z"
   },
   {
    "duration": 3,
    "start_time": "2024-10-20T20:17:48.653Z"
   },
   {
    "duration": 11,
    "start_time": "2024-10-20T20:18:18.781Z"
   },
   {
    "duration": 4,
    "start_time": "2024-10-20T20:18:28.494Z"
   },
   {
    "duration": 5,
    "start_time": "2024-10-20T20:18:31.896Z"
   },
   {
    "duration": 14,
    "start_time": "2024-10-20T20:18:34.039Z"
   },
   {
    "duration": 4,
    "start_time": "2024-10-20T20:18:41.783Z"
   },
   {
    "duration": 137,
    "start_time": "2024-10-20T20:18:50.376Z"
   },
   {
    "duration": 3,
    "start_time": "2024-10-20T20:19:29.353Z"
   },
   {
    "duration": 12,
    "start_time": "2024-10-20T20:19:33.298Z"
   },
   {
    "duration": 4,
    "start_time": "2024-10-20T20:19:37.758Z"
   },
   {
    "duration": 6,
    "start_time": "2024-10-20T20:19:40.299Z"
   },
   {
    "duration": 12,
    "start_time": "2024-10-20T20:19:46.824Z"
   },
   {
    "duration": 4,
    "start_time": "2024-10-20T20:19:57.125Z"
   },
   {
    "duration": 136,
    "start_time": "2024-10-20T20:20:00.757Z"
   },
   {
    "duration": 3,
    "start_time": "2024-10-20T20:20:58.405Z"
   },
   {
    "duration": 2,
    "start_time": "2024-10-20T20:21:00.029Z"
   },
   {
    "duration": 2,
    "start_time": "2024-10-20T20:21:02.415Z"
   },
   {
    "duration": 22,
    "start_time": "2024-10-20T20:21:04.510Z"
   },
   {
    "duration": 10,
    "start_time": "2024-10-20T20:21:07.362Z"
   },
   {
    "duration": 10,
    "start_time": "2024-10-20T20:21:12.808Z"
   },
   {
    "duration": 4,
    "start_time": "2024-10-20T20:21:21.112Z"
   },
   {
    "duration": 4,
    "start_time": "2024-10-20T20:21:23.301Z"
   },
   {
    "duration": 6,
    "start_time": "2024-10-20T20:21:28.632Z"
   },
   {
    "duration": 6,
    "start_time": "2024-10-20T20:21:32.024Z"
   },
   {
    "duration": 8,
    "start_time": "2024-10-20T20:21:37.170Z"
   },
   {
    "duration": 6,
    "start_time": "2024-10-20T20:21:41.585Z"
   },
   {
    "duration": 6,
    "start_time": "2024-10-20T20:21:44.832Z"
   },
   {
    "duration": 4,
    "start_time": "2024-10-20T20:21:53.607Z"
   },
   {
    "duration": 16,
    "start_time": "2024-10-20T20:21:56.354Z"
   },
   {
    "duration": 6,
    "start_time": "2024-10-20T20:22:02.846Z"
   },
   {
    "duration": 3,
    "start_time": "2024-10-20T20:22:09.731Z"
   },
   {
    "duration": 10,
    "start_time": "2024-10-20T20:22:17.145Z"
   },
   {
    "duration": 4,
    "start_time": "2024-10-20T20:22:20.687Z"
   },
   {
    "duration": 4,
    "start_time": "2024-10-20T20:22:23.176Z"
   },
   {
    "duration": 12,
    "start_time": "2024-10-20T20:22:25.361Z"
   },
   {
    "duration": 4,
    "start_time": "2024-10-20T20:22:29.881Z"
   },
   {
    "duration": 141,
    "start_time": "2024-10-20T20:22:32.582Z"
   },
   {
    "duration": 7,
    "start_time": "2024-10-20T20:23:17.920Z"
   },
   {
    "duration": 4,
    "start_time": "2024-10-20T20:23:23.398Z"
   },
   {
    "duration": 12,
    "start_time": "2024-10-20T20:23:27.310Z"
   },
   {
    "duration": 4,
    "start_time": "2024-10-20T20:23:30.327Z"
   },
   {
    "duration": 12,
    "start_time": "2024-10-20T20:23:32.790Z"
   },
   {
    "duration": 4,
    "start_time": "2024-10-20T20:23:38.142Z"
   },
   {
    "duration": 136,
    "start_time": "2024-10-20T20:23:40.221Z"
   },
   {
    "duration": 7,
    "start_time": "2024-10-20T20:26:07.111Z"
   },
   {
    "duration": 2,
    "start_time": "2024-10-20T20:26:24.077Z"
   },
   {
    "duration": 11,
    "start_time": "2024-10-20T20:26:29.127Z"
   },
   {
    "duration": 5,
    "start_time": "2024-10-20T20:26:33.304Z"
   },
   {
    "duration": 12,
    "start_time": "2024-10-20T20:26:35.769Z"
   },
   {
    "duration": 5,
    "start_time": "2024-10-20T20:26:40.294Z"
   },
   {
    "duration": 148,
    "start_time": "2024-10-20T20:26:43.492Z"
   },
   {
    "duration": 3,
    "start_time": "2024-10-20T20:27:00.955Z"
   },
   {
    "duration": 12,
    "start_time": "2024-10-20T20:27:03.695Z"
   },
   {
    "duration": 4,
    "start_time": "2024-10-20T20:27:07.324Z"
   },
   {
    "duration": 5,
    "start_time": "2024-10-20T20:27:10.252Z"
   },
   {
    "duration": 4,
    "start_time": "2024-10-20T20:27:14.043Z"
   },
   {
    "duration": 242,
    "start_time": "2024-10-20T20:27:16.880Z"
   },
   {
    "duration": 3,
    "start_time": "2024-10-20T20:30:15.799Z"
   },
   {
    "duration": 13,
    "start_time": "2024-10-20T20:32:49.975Z"
   },
   {
    "duration": 3,
    "start_time": "2024-10-20T20:32:56.625Z"
   },
   {
    "duration": 11,
    "start_time": "2024-10-20T20:32:59.709Z"
   },
   {
    "duration": 9,
    "start_time": "2024-10-20T20:33:30.546Z"
   },
   {
    "duration": 11,
    "start_time": "2024-10-20T20:33:43.927Z"
   },
   {
    "duration": 13,
    "start_time": "2024-10-20T20:33:49.815Z"
   },
   {
    "duration": 4,
    "start_time": "2024-10-20T20:34:19.259Z"
   },
   {
    "duration": 3,
    "start_time": "2024-10-20T20:34:36.374Z"
   },
   {
    "duration": 11,
    "start_time": "2024-10-20T20:34:40.327Z"
   },
   {
    "duration": 4,
    "start_time": "2024-10-20T20:34:44.278Z"
   },
   {
    "duration": 4,
    "start_time": "2024-10-20T20:34:46.490Z"
   },
   {
    "duration": 13,
    "start_time": "2024-10-20T20:34:48.461Z"
   },
   {
    "duration": 6,
    "start_time": "2024-10-20T20:34:52.397Z"
   },
   {
    "duration": 767,
    "start_time": "2024-10-20T20:34:55.207Z"
   },
   {
    "duration": 4,
    "start_time": "2024-10-20T20:36:49.783Z"
   },
   {
    "duration": 8,
    "start_time": "2024-10-20T20:37:13.889Z"
   },
   {
    "duration": 7,
    "start_time": "2024-10-20T20:37:26.286Z"
   },
   {
    "duration": 11,
    "start_time": "2024-10-20T20:37:35.893Z"
   },
   {
    "duration": 24,
    "start_time": "2024-10-20T20:37:48.823Z"
   },
   {
    "duration": 8,
    "start_time": "2024-10-20T20:38:19.360Z"
   },
   {
    "duration": 8,
    "start_time": "2024-10-20T20:38:34.807Z"
   },
   {
    "duration": 7,
    "start_time": "2024-10-20T20:38:44.974Z"
   },
   {
    "duration": 3,
    "start_time": "2024-10-20T20:38:48.966Z"
   },
   {
    "duration": 24,
    "start_time": "2024-10-20T20:39:01.398Z"
   },
   {
    "duration": 4,
    "start_time": "2024-10-20T20:39:33.164Z"
   },
   {
    "duration": 5,
    "start_time": "2024-10-20T20:39:35.574Z"
   },
   {
    "duration": 13,
    "start_time": "2024-10-20T20:39:42.232Z"
   },
   {
    "duration": 6,
    "start_time": "2024-10-20T20:39:50.308Z"
   },
   {
    "duration": 147,
    "start_time": "2024-10-20T20:39:54.033Z"
   },
   {
    "duration": 161,
    "start_time": "2024-10-20T20:39:57.183Z"
   },
   {
    "duration": 3,
    "start_time": "2024-10-20T20:43:30.849Z"
   },
   {
    "duration": 6,
    "start_time": "2024-10-20T20:43:46.557Z"
   },
   {
    "duration": 4,
    "start_time": "2024-10-20T20:44:00.108Z"
   },
   {
    "duration": 4,
    "start_time": "2024-10-20T20:44:25.093Z"
   },
   {
    "duration": 143,
    "start_time": "2024-10-20T20:44:27.519Z"
   },
   {
    "duration": 143,
    "start_time": "2024-10-20T20:44:30.726Z"
   },
   {
    "duration": 3,
    "start_time": "2024-10-20T20:44:46.870Z"
   },
   {
    "duration": 7,
    "start_time": "2024-10-20T20:45:10.919Z"
   },
   {
    "duration": 4,
    "start_time": "2024-10-20T20:45:14.565Z"
   },
   {
    "duration": 5,
    "start_time": "2024-10-20T20:45:18.340Z"
   },
   {
    "duration": 13,
    "start_time": "2024-10-20T20:45:20.722Z"
   },
   {
    "duration": 2,
    "start_time": "2024-10-20T20:45:27.883Z"
   },
   {
    "duration": 147,
    "start_time": "2024-10-20T20:45:49.725Z"
   },
   {
    "duration": 144,
    "start_time": "2024-10-20T20:45:52.546Z"
   },
   {
    "duration": 149,
    "start_time": "2024-10-20T20:45:54.478Z"
   },
   {
    "duration": 145,
    "start_time": "2024-10-20T20:46:19.427Z"
   },
   {
    "duration": 154,
    "start_time": "2024-10-20T20:46:42.267Z"
   },
   {
    "duration": 11,
    "start_time": "2024-10-20T20:46:56.899Z"
   },
   {
    "duration": 3,
    "start_time": "2024-10-20T20:47:25.555Z"
   },
   {
    "duration": 5,
    "start_time": "2024-10-20T20:47:31.491Z"
   },
   {
    "duration": 8,
    "start_time": "2024-10-20T20:47:35.490Z"
   },
   {
    "duration": 10,
    "start_time": "2024-10-20T20:47:53.737Z"
   },
   {
    "duration": 6,
    "start_time": "2024-10-20T20:47:59.476Z"
   },
   {
    "duration": 6,
    "start_time": "2024-10-20T20:48:02.238Z"
   },
   {
    "duration": 11,
    "start_time": "2024-10-20T20:48:05.727Z"
   },
   {
    "duration": 6,
    "start_time": "2024-10-20T20:48:21.687Z"
   },
   {
    "duration": 3,
    "start_time": "2024-10-20T20:48:23.884Z"
   },
   {
    "duration": 5,
    "start_time": "2024-10-20T20:48:27.781Z"
   },
   {
    "duration": 6,
    "start_time": "2024-10-20T20:48:36.100Z"
   },
   {
    "duration": 3,
    "start_time": "2024-10-20T20:48:39.963Z"
   },
   {
    "duration": 26,
    "start_time": "2024-10-20T20:48:42.395Z"
   },
   {
    "duration": 6,
    "start_time": "2024-10-20T20:48:50.163Z"
   },
   {
    "duration": 5,
    "start_time": "2024-10-20T20:48:53.114Z"
   },
   {
    "duration": 4,
    "start_time": "2024-10-20T20:48:56.786Z"
   },
   {
    "duration": 13,
    "start_time": "2024-10-20T20:48:59.860Z"
   },
   {
    "duration": 148,
    "start_time": "2024-10-20T20:49:03.303Z"
   },
   {
    "duration": 10,
    "start_time": "2024-10-20T20:49:38.732Z"
   },
   {
    "duration": 24,
    "start_time": "2024-10-20T20:49:58.962Z"
   },
   {
    "duration": 11,
    "start_time": "2024-10-20T20:50:01.330Z"
   },
   {
    "duration": 11,
    "start_time": "2024-10-20T20:50:12.032Z"
   },
   {
    "duration": 4,
    "start_time": "2024-10-20T20:50:33.664Z"
   },
   {
    "duration": 5,
    "start_time": "2024-10-20T20:50:57.682Z"
   },
   {
    "duration": 3,
    "start_time": "2024-10-20T20:51:24.512Z"
   },
   {
    "duration": 507,
    "start_time": "2024-10-20T20:52:16.783Z"
   },
   {
    "duration": 38,
    "start_time": "2024-10-20T20:52:24.908Z"
   },
   {
    "duration": 21,
    "start_time": "2024-10-20T20:52:36.115Z"
   },
   {
    "duration": 42,
    "start_time": "2024-10-20T20:52:42.843Z"
   },
   {
    "duration": 5,
    "start_time": "2024-10-20T20:52:51.658Z"
   },
   {
    "duration": 10,
    "start_time": "2024-10-20T20:53:21.580Z"
   },
   {
    "duration": 11,
    "start_time": "2024-10-20T20:53:26.460Z"
   },
   {
    "duration": 4,
    "start_time": "2024-10-20T20:53:37.818Z"
   },
   {
    "duration": 11,
    "start_time": "2024-10-20T20:53:40.549Z"
   },
   {
    "duration": 5,
    "start_time": "2024-10-20T20:53:58.990Z"
   },
   {
    "duration": 11,
    "start_time": "2024-10-20T20:54:02.201Z"
   },
   {
    "duration": 11,
    "start_time": "2024-10-20T20:54:12.572Z"
   },
   {
    "duration": 12,
    "start_time": "2024-10-20T20:54:17.014Z"
   },
   {
    "duration": 2,
    "start_time": "2024-10-20T20:54:21.928Z"
   },
   {
    "duration": 20,
    "start_time": "2024-10-20T20:54:21.933Z"
   },
   {
    "duration": 2,
    "start_time": "2024-10-20T20:54:21.955Z"
   },
   {
    "duration": 10,
    "start_time": "2024-10-20T20:54:21.959Z"
   },
   {
    "duration": 9,
    "start_time": "2024-10-20T20:54:21.974Z"
   },
   {
    "duration": 3,
    "start_time": "2024-10-20T20:54:21.986Z"
   },
   {
    "duration": 11,
    "start_time": "2024-10-20T20:54:21.991Z"
   },
   {
    "duration": 2,
    "start_time": "2024-10-20T20:54:35.635Z"
   },
   {
    "duration": 10,
    "start_time": "2024-10-20T20:54:38.909Z"
   },
   {
    "duration": 3,
    "start_time": "2024-10-20T20:55:10.520Z"
   },
   {
    "duration": 10,
    "start_time": "2024-10-20T20:55:13.331Z"
   },
   {
    "duration": 3,
    "start_time": "2024-10-20T20:55:50.386Z"
   },
   {
    "duration": 10,
    "start_time": "2024-10-20T20:55:52.704Z"
   },
   {
    "duration": 6,
    "start_time": "2024-10-20T20:56:13.048Z"
   },
   {
    "duration": 6,
    "start_time": "2024-10-20T20:56:19.284Z"
   },
   {
    "duration": 8,
    "start_time": "2024-10-20T20:56:25.640Z"
   },
   {
    "duration": 7,
    "start_time": "2024-10-20T20:56:31.084Z"
   },
   {
    "duration": 6,
    "start_time": "2024-10-20T20:56:48.510Z"
   },
   {
    "duration": 6,
    "start_time": "2024-10-20T20:57:00.271Z"
   },
   {
    "duration": 3,
    "start_time": "2024-10-20T20:57:03.663Z"
   },
   {
    "duration": 5,
    "start_time": "2024-10-20T20:57:45.340Z"
   },
   {
    "duration": 11,
    "start_time": "2024-10-20T20:57:49.797Z"
   },
   {
    "duration": 3,
    "start_time": "2024-10-20T20:58:01.337Z"
   },
   {
    "duration": 4,
    "start_time": "2024-10-20T20:58:03.800Z"
   },
   {
    "duration": 7,
    "start_time": "2024-10-20T20:58:11.392Z"
   },
   {
    "duration": 11,
    "start_time": "2024-10-20T20:58:38.403Z"
   },
   {
    "duration": 3,
    "start_time": "2024-10-20T20:59:57.676Z"
   },
   {
    "duration": 5,
    "start_time": "2024-10-20T21:00:41.637Z"
   },
   {
    "duration": 47,
    "start_time": "2024-10-20T21:01:00.726Z"
   },
   {
    "duration": 3,
    "start_time": "2024-10-20T21:01:18.994Z"
   },
   {
    "duration": 48,
    "start_time": "2024-10-20T21:01:27.141Z"
   },
   {
    "duration": 5,
    "start_time": "2024-10-20T21:01:42.480Z"
   },
   {
    "duration": 5,
    "start_time": "2024-10-20T21:01:46.189Z"
   },
   {
    "duration": 5,
    "start_time": "2024-10-20T21:06:21.634Z"
   },
   {
    "duration": 5,
    "start_time": "2024-10-20T21:06:24.543Z"
   },
   {
    "duration": 7,
    "start_time": "2024-10-20T21:06:33.578Z"
   },
   {
    "duration": 23,
    "start_time": "2024-10-20T21:06:41.421Z"
   },
   {
    "duration": 5,
    "start_time": "2024-10-20T21:06:55.443Z"
   },
   {
    "duration": 3,
    "start_time": "2024-10-20T21:06:58.495Z"
   },
   {
    "duration": 4,
    "start_time": "2024-10-20T21:07:02.197Z"
   },
   {
    "duration": 14,
    "start_time": "2024-10-20T21:07:04.200Z"
   },
   {
    "duration": 144,
    "start_time": "2024-10-20T21:07:10.449Z"
   },
   {
    "duration": 3,
    "start_time": "2024-10-20T21:07:53.527Z"
   },
   {
    "duration": 4,
    "start_time": "2024-10-20T21:08:08.932Z"
   },
   {
    "duration": 4,
    "start_time": "2024-10-20T21:08:14.881Z"
   },
   {
    "duration": 144,
    "start_time": "2024-10-20T21:08:35.746Z"
   },
   {
    "duration": 174,
    "start_time": "2024-10-20T21:09:20.922Z"
   },
   {
    "duration": 3,
    "start_time": "2024-10-20T21:09:27.386Z"
   },
   {
    "duration": 35,
    "start_time": "2024-10-20T21:09:27.392Z"
   },
   {
    "duration": 3,
    "start_time": "2024-10-20T21:09:27.429Z"
   },
   {
    "duration": 14,
    "start_time": "2024-10-20T21:09:27.434Z"
   },
   {
    "duration": 39,
    "start_time": "2024-10-20T21:09:27.451Z"
   },
   {
    "duration": 3,
    "start_time": "2024-10-20T21:09:27.492Z"
   },
   {
    "duration": 17,
    "start_time": "2024-10-20T21:09:27.496Z"
   },
   {
    "duration": 3,
    "start_time": "2024-10-20T21:09:27.515Z"
   },
   {
    "duration": 0,
    "start_time": "2024-10-20T21:09:27.521Z"
   },
   {
    "duration": 0,
    "start_time": "2024-10-20T21:09:27.524Z"
   },
   {
    "duration": 0,
    "start_time": "2024-10-20T21:09:27.525Z"
   },
   {
    "duration": 0,
    "start_time": "2024-10-20T21:09:27.526Z"
   },
   {
    "duration": 0,
    "start_time": "2024-10-20T21:09:27.528Z"
   },
   {
    "duration": 0,
    "start_time": "2024-10-20T21:09:27.529Z"
   },
   {
    "duration": 0,
    "start_time": "2024-10-20T21:09:27.530Z"
   },
   {
    "duration": 0,
    "start_time": "2024-10-20T21:09:27.532Z"
   },
   {
    "duration": 0,
    "start_time": "2024-10-20T21:09:27.533Z"
   },
   {
    "duration": 0,
    "start_time": "2024-10-20T21:09:27.534Z"
   },
   {
    "duration": 0,
    "start_time": "2024-10-20T21:09:27.535Z"
   },
   {
    "duration": 0,
    "start_time": "2024-10-20T21:09:27.537Z"
   },
   {
    "duration": 0,
    "start_time": "2024-10-20T21:09:27.538Z"
   },
   {
    "duration": 0,
    "start_time": "2024-10-20T21:09:27.539Z"
   },
   {
    "duration": 0,
    "start_time": "2024-10-20T21:09:27.541Z"
   },
   {
    "duration": 0,
    "start_time": "2024-10-20T21:09:27.542Z"
   },
   {
    "duration": 26,
    "start_time": "2024-10-20T21:09:27.596Z"
   },
   {
    "duration": 12,
    "start_time": "2024-10-20T21:09:27.624Z"
   },
   {
    "duration": 0,
    "start_time": "2024-10-20T21:09:27.638Z"
   },
   {
    "duration": 0,
    "start_time": "2024-10-20T21:09:27.639Z"
   },
   {
    "duration": 0,
    "start_time": "2024-10-20T21:09:27.641Z"
   },
   {
    "duration": 0,
    "start_time": "2024-10-20T21:09:27.687Z"
   },
   {
    "duration": 3,
    "start_time": "2024-10-20T21:09:42.597Z"
   },
   {
    "duration": 20,
    "start_time": "2024-10-20T21:09:44.526Z"
   },
   {
    "duration": 12,
    "start_time": "2024-10-20T21:09:47.909Z"
   },
   {
    "duration": 15,
    "start_time": "2024-10-20T21:10:02.717Z"
   },
   {
    "duration": 4,
    "start_time": "2024-10-20T21:10:08.156Z"
   },
   {
    "duration": 11,
    "start_time": "2024-10-20T21:10:11.145Z"
   },
   {
    "duration": 5,
    "start_time": "2024-10-20T21:10:23.953Z"
   },
   {
    "duration": 15,
    "start_time": "2024-10-20T21:10:26.605Z"
   },
   {
    "duration": 4,
    "start_time": "2024-10-20T21:10:39.754Z"
   },
   {
    "duration": 3,
    "start_time": "2024-10-20T21:10:46.996Z"
   },
   {
    "duration": 4,
    "start_time": "2024-10-20T21:10:51.315Z"
   },
   {
    "duration": 4,
    "start_time": "2024-10-20T21:10:53.896Z"
   },
   {
    "duration": 4,
    "start_time": "2024-10-20T21:11:10.553Z"
   },
   {
    "duration": 16,
    "start_time": "2024-10-20T21:11:13.586Z"
   },
   {
    "duration": 6,
    "start_time": "2024-10-20T21:11:22.983Z"
   },
   {
    "duration": 2,
    "start_time": "2024-10-20T21:11:39.840Z"
   },
   {
    "duration": 3,
    "start_time": "2024-10-20T21:11:42.174Z"
   },
   {
    "duration": 6,
    "start_time": "2024-10-20T21:11:46.099Z"
   },
   {
    "duration": 9,
    "start_time": "2024-10-20T21:11:58.244Z"
   },
   {
    "duration": 6,
    "start_time": "2024-10-20T21:12:07.145Z"
   },
   {
    "duration": 8,
    "start_time": "2024-10-20T21:12:13.478Z"
   },
   {
    "duration": 13,
    "start_time": "2024-10-20T21:12:16.871Z"
   },
   {
    "duration": 6,
    "start_time": "2024-10-20T21:12:30.823Z"
   },
   {
    "duration": 5,
    "start_time": "2024-10-20T21:12:41.058Z"
   },
   {
    "duration": 5,
    "start_time": "2024-10-20T21:13:08.062Z"
   },
   {
    "duration": 6,
    "start_time": "2024-10-20T21:13:12.000Z"
   },
   {
    "duration": 6,
    "start_time": "2024-10-20T21:13:15.168Z"
   },
   {
    "duration": 4,
    "start_time": "2024-10-20T21:13:22.247Z"
   },
   {
    "duration": 7,
    "start_time": "2024-10-20T21:13:25.461Z"
   },
   {
    "duration": 7,
    "start_time": "2024-10-20T21:13:50.238Z"
   },
   {
    "duration": 4,
    "start_time": "2024-10-20T21:14:00.976Z"
   },
   {
    "duration": 45,
    "start_time": "2024-10-20T21:14:03.971Z"
   },
   {
    "duration": 18,
    "start_time": "2024-10-20T21:14:05.674Z"
   },
   {
    "duration": 8,
    "start_time": "2024-10-20T21:14:06.339Z"
   },
   {
    "duration": 3,
    "start_time": "2024-10-20T21:14:42.499Z"
   },
   {
    "duration": 3,
    "start_time": "2024-10-20T21:14:48.015Z"
   },
   {
    "duration": 5,
    "start_time": "2024-10-20T21:14:51.371Z"
   },
   {
    "duration": 13,
    "start_time": "2024-10-20T21:14:53.218Z"
   },
   {
    "duration": 145,
    "start_time": "2024-10-20T21:15:04.059Z"
   },
   {
    "duration": 198,
    "start_time": "2024-10-20T21:15:10.648Z"
   },
   {
    "duration": 164,
    "start_time": "2024-10-20T21:16:01.279Z"
   },
   {
    "duration": 5,
    "start_time": "2024-10-20T21:17:50.419Z"
   },
   {
    "duration": 4,
    "start_time": "2024-10-20T21:18:18.041Z"
   },
   {
    "duration": 5,
    "start_time": "2024-10-20T21:18:35.283Z"
   },
   {
    "duration": 4,
    "start_time": "2024-10-20T21:18:47.334Z"
   },
   {
    "duration": 6,
    "start_time": "2024-10-20T21:19:42.418Z"
   },
   {
    "duration": 6,
    "start_time": "2024-10-20T21:20:03.374Z"
   },
   {
    "duration": 12,
    "start_time": "2024-10-20T21:20:27.870Z"
   },
   {
    "duration": 5,
    "start_time": "2024-10-20T21:20:41.686Z"
   },
   {
    "duration": 181,
    "start_time": "2024-10-20T21:20:55.145Z"
   },
   {
    "duration": 5,
    "start_time": "2024-10-20T21:21:38.855Z"
   },
   {
    "duration": 146,
    "start_time": "2024-10-20T21:21:46.359Z"
   },
   {
    "duration": 6,
    "start_time": "2024-10-20T21:22:22.290Z"
   },
   {
    "duration": 149,
    "start_time": "2024-10-20T21:22:36.574Z"
   },
   {
    "duration": 3,
    "start_time": "2024-10-20T21:23:22.044Z"
   },
   {
    "duration": 4,
    "start_time": "2024-10-20T21:23:26.773Z"
   },
   {
    "duration": 6,
    "start_time": "2024-10-20T21:24:40.993Z"
   },
   {
    "duration": 147,
    "start_time": "2024-10-20T21:24:49.203Z"
   },
   {
    "duration": 11,
    "start_time": "2024-10-20T21:25:10.483Z"
   },
   {
    "duration": 8,
    "start_time": "2024-10-20T21:25:14.077Z"
   },
   {
    "duration": 159,
    "start_time": "2024-10-20T21:25:18.236Z"
   },
   {
    "duration": 6,
    "start_time": "2024-10-20T21:25:25.245Z"
   },
   {
    "duration": 40,
    "start_time": "2024-10-20T21:25:31.939Z"
   },
   {
    "duration": 158,
    "start_time": "2024-10-20T21:25:54.004Z"
   },
   {
    "duration": 445,
    "start_time": "2024-10-20T21:26:06.555Z"
   },
   {
    "duration": 89,
    "start_time": "2024-10-20T21:26:09.552Z"
   },
   {
    "duration": 42,
    "start_time": "2024-10-20T21:26:25.931Z"
   },
   {
    "duration": 3,
    "start_time": "2024-10-20T21:31:01.238Z"
   },
   {
    "duration": 2,
    "start_time": "2024-10-20T21:31:05.922Z"
   },
   {
    "duration": 21,
    "start_time": "2024-10-20T21:31:08.743Z"
   },
   {
    "duration": 13,
    "start_time": "2024-10-20T21:31:11.567Z"
   },
   {
    "duration": 4,
    "start_time": "2024-10-20T21:32:03.248Z"
   },
   {
    "duration": 10,
    "start_time": "2024-10-20T21:32:11.862Z"
   },
   {
    "duration": 5,
    "start_time": "2024-10-20T21:32:36.514Z"
   },
   {
    "duration": 7,
    "start_time": "2024-10-20T21:32:46.051Z"
   },
   {
    "duration": 9,
    "start_time": "2024-10-20T21:33:11.344Z"
   },
   {
    "duration": 6,
    "start_time": "2024-10-20T21:35:01.625Z"
   },
   {
    "duration": 8,
    "start_time": "2024-10-20T21:35:07.194Z"
   },
   {
    "duration": 6,
    "start_time": "2024-10-20T21:35:12.062Z"
   },
   {
    "duration": 7,
    "start_time": "2024-10-20T21:35:19.361Z"
   },
   {
    "duration": 7,
    "start_time": "2024-10-20T21:35:41.675Z"
   },
   {
    "duration": 11,
    "start_time": "2024-10-20T21:35:47.964Z"
   },
   {
    "duration": 6,
    "start_time": "2024-10-20T21:36:13.436Z"
   },
   {
    "duration": 4,
    "start_time": "2024-10-20T21:36:16.005Z"
   },
   {
    "duration": 7,
    "start_time": "2024-10-20T21:37:10.477Z"
   },
   {
    "duration": 11,
    "start_time": "2024-10-20T21:37:14.989Z"
   },
   {
    "duration": 5,
    "start_time": "2024-10-20T21:40:40.626Z"
   },
   {
    "duration": 5,
    "start_time": "2024-10-20T21:40:51.463Z"
   },
   {
    "duration": 2100,
    "start_time": "2024-10-21T10:50:33.959Z"
   },
   {
    "duration": 2,
    "start_time": "2024-10-21T10:50:36.797Z"
   },
   {
    "duration": 3,
    "start_time": "2024-10-21T10:50:39.002Z"
   },
   {
    "duration": 36,
    "start_time": "2024-10-21T10:50:43.314Z"
   },
   {
    "duration": 12,
    "start_time": "2024-10-21T10:50:47.377Z"
   },
   {
    "duration": 13,
    "start_time": "2024-10-21T10:50:58.181Z"
   },
   {
    "duration": 3,
    "start_time": "2024-10-21T10:51:05.481Z"
   },
   {
    "duration": 4,
    "start_time": "2024-10-21T10:51:11.244Z"
   },
   {
    "duration": 5,
    "start_time": "2024-10-21T10:51:22.136Z"
   },
   {
    "duration": 8,
    "start_time": "2024-10-21T10:51:32.706Z"
   },
   {
    "duration": 12,
    "start_time": "2024-10-21T10:51:53.550Z"
   },
   {
    "duration": 7,
    "start_time": "2024-10-21T10:51:56.917Z"
   },
   {
    "duration": 6,
    "start_time": "2024-10-21T10:55:09.231Z"
   },
   {
    "duration": 6,
    "start_time": "2024-10-21T10:55:33.309Z"
   },
   {
    "duration": 5,
    "start_time": "2024-10-21T10:58:37.263Z"
   },
   {
    "duration": 5,
    "start_time": "2024-10-21T10:58:41.489Z"
   },
   {
    "duration": 5,
    "start_time": "2024-10-21T10:59:08.344Z"
   },
   {
    "duration": 8,
    "start_time": "2024-10-21T10:59:26.814Z"
   },
   {
    "duration": 11,
    "start_time": "2024-10-21T11:00:04.677Z"
   },
   {
    "duration": 5,
    "start_time": "2024-10-21T11:00:21.552Z"
   },
   {
    "duration": 3,
    "start_time": "2024-10-21T11:00:24.046Z"
   },
   {
    "duration": 4,
    "start_time": "2024-10-21T11:00:27.369Z"
   },
   {
    "duration": 3,
    "start_time": "2024-10-21T11:03:01.669Z"
   },
   {
    "duration": 3,
    "start_time": "2024-10-21T11:03:12.779Z"
   },
   {
    "duration": 3,
    "start_time": "2024-10-21T11:03:29.442Z"
   },
   {
    "duration": 5,
    "start_time": "2024-10-21T11:03:37.012Z"
   },
   {
    "duration": 30,
    "start_time": "2024-10-21T11:04:51.506Z"
   },
   {
    "duration": 696,
    "start_time": "2024-10-21T11:06:53.161Z"
   },
   {
    "duration": 49,
    "start_time": "2024-10-21T11:07:11.212Z"
   },
   {
    "duration": 6,
    "start_time": "2024-10-21T11:13:19.777Z"
   },
   {
    "duration": 5,
    "start_time": "2024-10-21T11:13:22.256Z"
   },
   {
    "duration": 4,
    "start_time": "2024-10-21T11:14:10.528Z"
   },
   {
    "duration": 5,
    "start_time": "2024-10-21T11:15:05.580Z"
   },
   {
    "duration": 5,
    "start_time": "2024-10-21T11:15:18.373Z"
   },
   {
    "duration": 3,
    "start_time": "2024-10-21T11:16:02.689Z"
   },
   {
    "duration": 4,
    "start_time": "2024-10-21T11:16:04.965Z"
   },
   {
    "duration": 5,
    "start_time": "2024-10-21T11:16:10.848Z"
   },
   {
    "duration": 4,
    "start_time": "2024-10-21T11:16:30.417Z"
   },
   {
    "duration": 4,
    "start_time": "2024-10-21T11:16:33.502Z"
   },
   {
    "duration": 12,
    "start_time": "2024-10-21T11:16:35.854Z"
   },
   {
    "duration": 3,
    "start_time": "2024-10-21T11:16:54.894Z"
   },
   {
    "duration": 3,
    "start_time": "2024-10-21T11:17:00.812Z"
   },
   {
    "duration": 3,
    "start_time": "2024-10-21T11:17:03.172Z"
   },
   {
    "duration": 5,
    "start_time": "2024-10-21T11:17:09.254Z"
   },
   {
    "duration": 5,
    "start_time": "2024-10-21T11:17:11.365Z"
   },
   {
    "duration": 5,
    "start_time": "2024-10-21T11:17:16.634Z"
   },
   {
    "duration": 803,
    "start_time": "2024-10-21T11:17:20.934Z"
   },
   {
    "duration": 3,
    "start_time": "2024-10-21T11:18:28.074Z"
   },
   {
    "duration": 148,
    "start_time": "2024-10-21T11:19:10.964Z"
   },
   {
    "duration": 4,
    "start_time": "2024-10-21T11:19:21.645Z"
   },
   {
    "duration": 3,
    "start_time": "2024-10-21T11:19:43.411Z"
   },
   {
    "duration": 12,
    "start_time": "2024-10-21T11:19:57.680Z"
   },
   {
    "duration": 6,
    "start_time": "2024-10-21T11:20:31.548Z"
   },
   {
    "duration": 150,
    "start_time": "2024-10-21T11:21:07.107Z"
   },
   {
    "duration": 145,
    "start_time": "2024-10-21T11:22:00.695Z"
   },
   {
    "duration": 144,
    "start_time": "2024-10-21T11:22:13.653Z"
   },
   {
    "duration": 4,
    "start_time": "2024-10-21T11:24:36.611Z"
   },
   {
    "duration": 5,
    "start_time": "2024-10-21T11:25:01.419Z"
   },
   {
    "duration": 143,
    "start_time": "2024-10-21T11:25:30.291Z"
   },
   {
    "duration": 5,
    "start_time": "2024-10-21T11:28:03.992Z"
   },
   {
    "duration": 6,
    "start_time": "2024-10-21T11:28:17.605Z"
   },
   {
    "duration": 8,
    "start_time": "2024-10-21T11:30:18.106Z"
   },
   {
    "duration": 9,
    "start_time": "2024-10-21T11:30:23.564Z"
   },
   {
    "duration": 8,
    "start_time": "2024-10-21T11:30:48.991Z"
   },
   {
    "duration": 7,
    "start_time": "2024-10-21T11:31:39.580Z"
   },
   {
    "duration": 6,
    "start_time": "2024-10-21T11:32:34.867Z"
   },
   {
    "duration": 3,
    "start_time": "2024-10-21T11:38:52.994Z"
   },
   {
    "duration": 4,
    "start_time": "2024-10-21T11:39:21.767Z"
   },
   {
    "duration": 10,
    "start_time": "2024-10-21T11:40:03.963Z"
   },
   {
    "duration": 5,
    "start_time": "2024-10-21T11:40:16.822Z"
   },
   {
    "duration": 5,
    "start_time": "2024-10-21T11:40:35.996Z"
   },
   {
    "duration": 8,
    "start_time": "2024-10-21T11:40:44.799Z"
   },
   {
    "duration": 6,
    "start_time": "2024-10-21T11:40:56.993Z"
   },
   {
    "duration": 5,
    "start_time": "2024-10-21T11:41:00.851Z"
   },
   {
    "duration": 10,
    "start_time": "2024-10-21T11:41:05.291Z"
   },
   {
    "duration": 3,
    "start_time": "2024-10-21T11:41:21.717Z"
   },
   {
    "duration": 4,
    "start_time": "2024-10-21T11:41:23.617Z"
   },
   {
    "duration": 4,
    "start_time": "2024-10-21T11:41:26.033Z"
   },
   {
    "duration": 3,
    "start_time": "2024-10-21T11:41:42.790Z"
   },
   {
    "duration": 5,
    "start_time": "2024-10-21T11:41:44.911Z"
   },
   {
    "duration": 4,
    "start_time": "2024-10-21T11:41:48.273Z"
   },
   {
    "duration": 4,
    "start_time": "2024-10-21T11:41:53.160Z"
   },
   {
    "duration": 3,
    "start_time": "2024-10-21T11:41:56.737Z"
   },
   {
    "duration": 12,
    "start_time": "2024-10-21T11:41:58.845Z"
   },
   {
    "duration": 3,
    "start_time": "2024-10-21T11:42:10.542Z"
   },
   {
    "duration": 4,
    "start_time": "2024-10-21T11:42:12.756Z"
   },
   {
    "duration": 5,
    "start_time": "2024-10-21T11:42:17.722Z"
   },
   {
    "duration": 5,
    "start_time": "2024-10-21T11:42:20.868Z"
   },
   {
    "duration": 149,
    "start_time": "2024-10-21T11:42:25.009Z"
   },
   {
    "duration": 143,
    "start_time": "2024-10-21T11:42:36.300Z"
   },
   {
    "duration": 146,
    "start_time": "2024-10-21T11:42:40.339Z"
   },
   {
    "duration": 7,
    "start_time": "2024-10-21T11:42:51.536Z"
   },
   {
    "duration": 11,
    "start_time": "2024-10-21T11:42:54.008Z"
   },
   {
    "duration": 18,
    "start_time": "2024-10-21T11:43:02.307Z"
   },
   {
    "duration": 6,
    "start_time": "2024-10-21T11:43:11.393Z"
   },
   {
    "duration": 216,
    "start_time": "2024-10-21T11:43:19.935Z"
   },
   {
    "duration": 14,
    "start_time": "2024-10-21T11:43:26.488Z"
   },
   {
    "duration": 16,
    "start_time": "2024-10-21T11:43:32.769Z"
   },
   {
    "duration": 3,
    "start_time": "2024-10-21T11:43:52.182Z"
   },
   {
    "duration": 24,
    "start_time": "2024-10-21T11:43:55.714Z"
   },
   {
    "duration": 11,
    "start_time": "2024-10-21T11:43:59.852Z"
   },
   {
    "duration": 10,
    "start_time": "2024-10-21T11:44:09.308Z"
   },
   {
    "duration": 3,
    "start_time": "2024-10-21T11:44:29.565Z"
   },
   {
    "duration": 11,
    "start_time": "2024-10-21T11:44:31.857Z"
   },
   {
    "duration": 5,
    "start_time": "2024-10-21T11:44:48.790Z"
   },
   {
    "duration": 6,
    "start_time": "2024-10-21T11:45:08.226Z"
   },
   {
    "duration": 8,
    "start_time": "2024-10-21T11:45:20.200Z"
   },
   {
    "duration": 6,
    "start_time": "2024-10-21T11:45:32.566Z"
   },
   {
    "duration": 5,
    "start_time": "2024-10-21T11:45:52.232Z"
   },
   {
    "duration": 14,
    "start_time": "2024-10-21T11:46:04.147Z"
   },
   {
    "duration": 3,
    "start_time": "2024-10-21T11:46:50.781Z"
   },
   {
    "duration": 55,
    "start_time": "2024-10-21T11:47:02.714Z"
   },
   {
    "duration": 5,
    "start_time": "2024-10-21T11:47:31.746Z"
   },
   {
    "duration": 4,
    "start_time": "2024-10-21T11:47:37.271Z"
   },
   {
    "duration": 4,
    "start_time": "2024-10-21T11:48:15.166Z"
   },
   {
    "duration": 5,
    "start_time": "2024-10-21T11:48:18.042Z"
   },
   {
    "duration": 17,
    "start_time": "2024-10-21T11:48:57.847Z"
   },
   {
    "duration": 46,
    "start_time": "2024-10-21T11:49:12.027Z"
   },
   {
    "duration": 5,
    "start_time": "2024-10-21T11:49:39.325Z"
   },
   {
    "duration": 47,
    "start_time": "2024-10-21T11:49:44.562Z"
   },
   {
    "duration": 6,
    "start_time": "2024-10-21T11:50:13.563Z"
   },
   {
    "duration": 4,
    "start_time": "2024-10-21T11:50:16.513Z"
   },
   {
    "duration": 4,
    "start_time": "2024-10-21T11:50:26.331Z"
   },
   {
    "duration": 4,
    "start_time": "2024-10-21T11:51:02.738Z"
   },
   {
    "duration": 5,
    "start_time": "2024-10-21T11:51:06.489Z"
   },
   {
    "duration": 6,
    "start_time": "2024-10-21T11:51:50.211Z"
   },
   {
    "duration": 146,
    "start_time": "2024-10-21T11:52:45.222Z"
   },
   {
    "duration": 3,
    "start_time": "2024-10-21T11:53:44.721Z"
   },
   {
    "duration": 466,
    "start_time": "2024-10-21T11:53:57.717Z"
   },
   {
    "duration": 5,
    "start_time": "2024-10-21T11:54:03.361Z"
   },
   {
    "duration": 143,
    "start_time": "2024-10-21T11:54:09.819Z"
   },
   {
    "duration": 144,
    "start_time": "2024-10-21T11:54:11.712Z"
   },
   {
    "duration": 145,
    "start_time": "2024-10-21T11:54:25.741Z"
   },
   {
    "duration": 142,
    "start_time": "2024-10-21T11:55:13.865Z"
   },
   {
    "duration": 143,
    "start_time": "2024-10-21T11:55:24.153Z"
   },
   {
    "duration": 143,
    "start_time": "2024-10-21T11:56:13.419Z"
   },
   {
    "duration": 145,
    "start_time": "2024-10-21T11:56:18.999Z"
   },
   {
    "duration": 143,
    "start_time": "2024-10-21T11:58:28.955Z"
   },
   {
    "duration": 142,
    "start_time": "2024-10-21T11:58:31.934Z"
   },
   {
    "duration": 3,
    "start_time": "2024-10-21T12:07:03.659Z"
   },
   {
    "duration": 144,
    "start_time": "2024-10-21T12:08:30.864Z"
   },
   {
    "duration": 6,
    "start_time": "2024-10-21T12:09:19.696Z"
   },
   {
    "duration": 154,
    "start_time": "2024-10-21T12:09:24.999Z"
   },
   {
    "duration": 3,
    "start_time": "2024-10-21T12:10:53.251Z"
   },
   {
    "duration": 23,
    "start_time": "2024-10-21T12:10:57.107Z"
   },
   {
    "duration": 12,
    "start_time": "2024-10-21T12:11:00.259Z"
   },
   {
    "duration": 11,
    "start_time": "2024-10-21T12:11:07.400Z"
   },
   {
    "duration": 3,
    "start_time": "2024-10-21T12:11:20.681Z"
   },
   {
    "duration": 10,
    "start_time": "2024-10-21T12:11:24.325Z"
   },
   {
    "duration": 5,
    "start_time": "2024-10-21T12:11:41.819Z"
   },
   {
    "duration": 4,
    "start_time": "2024-10-21T12:13:28.882Z"
   },
   {
    "duration": 6,
    "start_time": "2024-10-21T12:13:38.221Z"
   },
   {
    "duration": 7,
    "start_time": "2024-10-21T12:13:42.104Z"
   },
   {
    "duration": 8,
    "start_time": "2024-10-21T12:14:04.039Z"
   },
   {
    "duration": 7,
    "start_time": "2024-10-21T12:14:26.653Z"
   },
   {
    "duration": 6,
    "start_time": "2024-10-21T12:14:52.792Z"
   },
   {
    "duration": 4,
    "start_time": "2024-10-21T12:15:31.354Z"
   },
   {
    "duration": 47,
    "start_time": "2024-10-21T12:15:56.968Z"
   },
   {
    "duration": 6,
    "start_time": "2024-10-21T12:17:03.702Z"
   },
   {
    "duration": 6,
    "start_time": "2024-10-21T12:17:09.169Z"
   },
   {
    "duration": 12,
    "start_time": "2024-10-21T12:17:14.715Z"
   },
   {
    "duration": 4,
    "start_time": "2024-10-21T12:17:29.176Z"
   },
   {
    "duration": 47,
    "start_time": "2024-10-21T12:17:31.517Z"
   },
   {
    "duration": 9,
    "start_time": "2024-10-21T12:18:58.386Z"
   },
   {
    "duration": 11,
    "start_time": "2024-10-21T12:19:04.475Z"
   },
   {
    "duration": 4,
    "start_time": "2024-10-21T12:19:32.153Z"
   },
   {
    "duration": 16,
    "start_time": "2024-10-21T12:19:43.382Z"
   },
   {
    "duration": 6,
    "start_time": "2024-10-21T12:19:49.112Z"
   },
   {
    "duration": 6,
    "start_time": "2024-10-21T12:19:53.941Z"
   },
   {
    "duration": 4,
    "start_time": "2024-10-21T12:19:57.946Z"
   },
   {
    "duration": 5,
    "start_time": "2024-10-21T12:19:59.863Z"
   },
   {
    "duration": 4,
    "start_time": "2024-10-21T12:20:07.046Z"
   },
   {
    "duration": 4,
    "start_time": "2024-10-21T12:20:10.865Z"
   },
   {
    "duration": 12,
    "start_time": "2024-10-21T12:20:12.645Z"
   },
   {
    "duration": 5,
    "start_time": "2024-10-21T12:20:28.824Z"
   },
   {
    "duration": 7,
    "start_time": "2024-10-21T12:20:32.906Z"
   },
   {
    "duration": 140,
    "start_time": "2024-10-21T12:20:40.982Z"
   },
   {
    "duration": 7,
    "start_time": "2024-10-21T12:20:53.258Z"
   },
   {
    "duration": 11,
    "start_time": "2024-10-21T12:20:55.140Z"
   },
   {
    "duration": 17,
    "start_time": "2024-10-21T12:21:00.768Z"
   },
   {
    "duration": 5,
    "start_time": "2024-10-21T12:21:33.695Z"
   },
   {
    "duration": 18,
    "start_time": "2024-10-21T12:22:36.102Z"
   },
   {
    "duration": 17,
    "start_time": "2024-10-21T12:22:51.422Z"
   },
   {
    "duration": 11,
    "start_time": "2024-10-21T12:23:58.648Z"
   },
   {
    "duration": 17,
    "start_time": "2024-10-21T12:24:02.316Z"
   },
   {
    "duration": 17,
    "start_time": "2024-10-21T12:24:34.250Z"
   },
   {
    "duration": 18,
    "start_time": "2024-10-21T12:24:51.927Z"
   },
   {
    "duration": 17,
    "start_time": "2024-10-21T12:25:06.421Z"
   },
   {
    "duration": 19,
    "start_time": "2024-10-21T12:25:15.268Z"
   },
   {
    "duration": 7,
    "start_time": "2024-10-21T12:25:29.867Z"
   },
   {
    "duration": 9,
    "start_time": "2024-10-21T12:25:51.920Z"
   },
   {
    "duration": 11,
    "start_time": "2024-10-21T12:25:59.037Z"
   },
   {
    "duration": 18,
    "start_time": "2024-10-21T12:26:28.478Z"
   },
   {
    "duration": 191,
    "start_time": "2024-10-21T12:27:15.421Z"
   },
   {
    "duration": 6,
    "start_time": "2024-10-21T12:27:23.461Z"
   },
   {
    "duration": 306,
    "start_time": "2024-10-21T12:27:32.565Z"
   },
   {
    "duration": 67,
    "start_time": "2024-10-21T12:28:28.088Z"
   },
   {
    "duration": 44,
    "start_time": "2024-10-21T12:29:28.624Z"
   },
   {
    "duration": 46,
    "start_time": "2024-10-21T12:29:54.707Z"
   },
   {
    "duration": 42,
    "start_time": "2024-10-21T12:30:26.784Z"
   },
   {
    "duration": 50,
    "start_time": "2024-10-21T12:33:54.051Z"
   },
   {
    "duration": 46,
    "start_time": "2024-10-21T12:34:05.588Z"
   },
   {
    "duration": 42,
    "start_time": "2024-10-21T12:34:16.839Z"
   },
   {
    "duration": 43,
    "start_time": "2024-10-21T12:35:04.962Z"
   },
   {
    "duration": 45,
    "start_time": "2024-10-21T12:37:35.940Z"
   },
   {
    "duration": 12,
    "start_time": "2024-10-21T12:38:55.953Z"
   },
   {
    "duration": 11,
    "start_time": "2024-10-21T12:38:59.456Z"
   },
   {
    "duration": 11,
    "start_time": "2024-10-21T12:39:16.555Z"
   },
   {
    "duration": 11,
    "start_time": "2024-10-21T12:39:34.508Z"
   },
   {
    "duration": 4,
    "start_time": "2024-10-21T12:39:45.997Z"
   },
   {
    "duration": 44,
    "start_time": "2024-10-21T12:40:01.529Z"
   },
   {
    "duration": 3,
    "start_time": "2024-10-21T12:40:22.949Z"
   },
   {
    "duration": 22,
    "start_time": "2024-10-21T12:40:22.954Z"
   },
   {
    "duration": 3,
    "start_time": "2024-10-21T12:40:22.978Z"
   },
   {
    "duration": 10,
    "start_time": "2024-10-21T12:40:22.983Z"
   },
   {
    "duration": 10,
    "start_time": "2024-10-21T12:40:22.995Z"
   },
   {
    "duration": 3,
    "start_time": "2024-10-21T12:40:23.007Z"
   },
   {
    "duration": 12,
    "start_time": "2024-10-21T12:40:23.012Z"
   },
   {
    "duration": 5,
    "start_time": "2024-10-21T12:40:23.025Z"
   },
   {
    "duration": 5,
    "start_time": "2024-10-21T12:40:23.031Z"
   },
   {
    "duration": 3,
    "start_time": "2024-10-21T12:40:23.038Z"
   },
   {
    "duration": 6,
    "start_time": "2024-10-21T12:40:23.044Z"
   },
   {
    "duration": 4,
    "start_time": "2024-10-21T12:40:23.051Z"
   },
   {
    "duration": 49,
    "start_time": "2024-10-21T12:40:23.057Z"
   },
   {
    "duration": 11,
    "start_time": "2024-10-21T12:40:23.108Z"
   },
   {
    "duration": 10,
    "start_time": "2024-10-21T12:40:23.121Z"
   },
   {
    "duration": 2,
    "start_time": "2024-10-21T12:40:23.133Z"
   },
   {
    "duration": 5,
    "start_time": "2024-10-21T12:40:23.136Z"
   },
   {
    "duration": 14,
    "start_time": "2024-10-21T12:40:23.143Z"
   },
   {
    "duration": 5,
    "start_time": "2024-10-21T12:40:23.159Z"
   },
   {
    "duration": 43,
    "start_time": "2024-10-21T12:40:23.165Z"
   },
   {
    "duration": 3,
    "start_time": "2024-10-21T12:40:23.210Z"
   },
   {
    "duration": 5,
    "start_time": "2024-10-21T12:40:23.215Z"
   },
   {
    "duration": 4,
    "start_time": "2024-10-21T12:40:23.221Z"
   },
   {
    "duration": 4,
    "start_time": "2024-10-21T12:40:23.227Z"
   },
   {
    "duration": 11,
    "start_time": "2024-10-21T12:40:23.235Z"
   },
   {
    "duration": 5,
    "start_time": "2024-10-21T12:40:23.248Z"
   },
   {
    "duration": 6,
    "start_time": "2024-10-21T12:40:23.254Z"
   },
   {
    "duration": 181,
    "start_time": "2024-10-21T12:40:23.261Z"
   },
   {
    "duration": 2,
    "start_time": "2024-10-21T12:40:23.444Z"
   },
   {
    "duration": 9,
    "start_time": "2024-10-21T12:40:23.448Z"
   },
   {
    "duration": 10,
    "start_time": "2024-10-21T12:40:23.458Z"
   },
   {
    "duration": 187,
    "start_time": "2024-10-21T12:40:23.471Z"
   },
   {
    "duration": 9,
    "start_time": "2024-10-21T12:40:28.971Z"
   },
   {
    "duration": 11,
    "start_time": "2024-10-21T12:40:32.641Z"
   },
   {
    "duration": 177,
    "start_time": "2024-10-21T12:40:36.463Z"
   },
   {
    "duration": 6,
    "start_time": "2024-10-21T12:40:50.853Z"
   },
   {
    "duration": 41,
    "start_time": "2024-10-21T12:41:01.551Z"
   },
   {
    "duration": 41,
    "start_time": "2024-10-21T12:42:08.266Z"
   },
   {
    "duration": 42,
    "start_time": "2024-10-21T12:43:17.563Z"
   },
   {
    "duration": 40,
    "start_time": "2024-10-21T12:43:25.540Z"
   },
   {
    "duration": 5,
    "start_time": "2024-10-21T12:43:58.204Z"
   },
   {
    "duration": 38,
    "start_time": "2024-10-21T12:44:07.125Z"
   },
   {
    "duration": 4,
    "start_time": "2024-10-21T12:44:48.440Z"
   },
   {
    "duration": 41,
    "start_time": "2024-10-21T12:45:47.361Z"
   },
   {
    "duration": 4,
    "start_time": "2024-10-21T12:46:03.181Z"
   },
   {
    "duration": 3,
    "start_time": "2024-10-21T12:46:18.379Z"
   },
   {
    "duration": 21,
    "start_time": "2024-10-21T12:46:21.085Z"
   },
   {
    "duration": 10,
    "start_time": "2024-10-21T12:46:23.175Z"
   },
   {
    "duration": 10,
    "start_time": "2024-10-21T12:46:26.510Z"
   },
   {
    "duration": 4,
    "start_time": "2024-10-21T12:46:30.443Z"
   },
   {
    "duration": 10,
    "start_time": "2024-10-21T12:46:33.391Z"
   },
   {
    "duration": 5,
    "start_time": "2024-10-21T12:46:38.261Z"
   },
   {
    "duration": 6,
    "start_time": "2024-10-21T12:46:44.199Z"
   },
   {
    "duration": 8,
    "start_time": "2024-10-21T12:46:50.117Z"
   },
   {
    "duration": 6,
    "start_time": "2024-10-21T12:46:56.670Z"
   },
   {
    "duration": 9,
    "start_time": "2024-10-21T12:47:01.542Z"
   },
   {
    "duration": 5,
    "start_time": "2024-10-21T12:47:06.496Z"
   },
   {
    "duration": 4,
    "start_time": "2024-10-21T12:47:09.364Z"
   },
   {
    "duration": 12,
    "start_time": "2024-10-21T12:47:14.964Z"
   },
   {
    "duration": 5,
    "start_time": "2024-10-21T12:47:24.870Z"
   },
   {
    "duration": 16,
    "start_time": "2024-10-21T12:47:31.367Z"
   },
   {
    "duration": 6,
    "start_time": "2024-10-21T12:47:37.501Z"
   },
   {
    "duration": 7,
    "start_time": "2024-10-21T12:47:42.286Z"
   },
   {
    "duration": 7,
    "start_time": "2024-10-21T12:47:44.728Z"
   },
   {
    "duration": 4,
    "start_time": "2024-10-21T12:47:47.438Z"
   },
   {
    "duration": 4,
    "start_time": "2024-10-21T12:48:02.823Z"
   },
   {
    "duration": 5,
    "start_time": "2024-10-21T12:48:06.358Z"
   },
   {
    "duration": 11,
    "start_time": "2024-10-21T12:48:13.696Z"
   },
   {
    "duration": 5,
    "start_time": "2024-10-21T12:48:20.758Z"
   },
   {
    "duration": 5,
    "start_time": "2024-10-21T12:48:26.227Z"
   },
   {
    "duration": 141,
    "start_time": "2024-10-21T12:48:28.654Z"
   },
   {
    "duration": 8,
    "start_time": "2024-10-21T12:48:33.882Z"
   },
   {
    "duration": 10,
    "start_time": "2024-10-21T12:48:37.185Z"
   },
   {
    "duration": 155,
    "start_time": "2024-10-21T12:48:50.877Z"
   },
   {
    "duration": 7,
    "start_time": "2024-10-21T12:48:56.497Z"
   },
   {
    "duration": 37,
    "start_time": "2024-10-21T12:49:08.640Z"
   },
   {
    "duration": 5,
    "start_time": "2024-10-21T12:50:49.656Z"
   },
   {
    "duration": 3,
    "start_time": "2024-10-21T12:51:13.003Z"
   },
   {
    "duration": 3,
    "start_time": "2024-10-21T12:51:22.110Z"
   },
   {
    "duration": 47,
    "start_time": "2024-10-21T12:51:48.765Z"
   },
   {
    "duration": 44,
    "start_time": "2024-10-21T12:51:58.417Z"
   },
   {
    "duration": 4,
    "start_time": "2024-10-21T12:52:06.099Z"
   },
   {
    "duration": 5,
    "start_time": "2024-10-21T12:52:29.641Z"
   },
   {
    "duration": 4,
    "start_time": "2024-10-21T12:52:34.670Z"
   },
   {
    "duration": 5,
    "start_time": "2024-10-21T12:52:37.515Z"
   },
   {
    "duration": 5,
    "start_time": "2024-10-21T12:53:01.973Z"
   },
   {
    "duration": 41,
    "start_time": "2024-10-21T12:53:11.822Z"
   },
   {
    "duration": 11,
    "start_time": "2024-10-21T12:53:44.011Z"
   },
   {
    "duration": 11,
    "start_time": "2024-10-21T12:54:01.509Z"
   },
   {
    "duration": 41,
    "start_time": "2024-10-21T12:54:10.761Z"
   },
   {
    "duration": 43,
    "start_time": "2024-10-21T12:55:08.829Z"
   },
   {
    "duration": 15,
    "start_time": "2024-10-21T12:57:09.690Z"
   },
   {
    "duration": 12,
    "start_time": "2024-10-21T12:57:27.180Z"
   },
   {
    "duration": 13,
    "start_time": "2024-10-21T12:57:40.568Z"
   },
   {
    "duration": 44,
    "start_time": "2024-10-21T12:57:51.060Z"
   },
   {
    "duration": 3,
    "start_time": "2024-10-21T12:57:59.006Z"
   },
   {
    "duration": 18,
    "start_time": "2024-10-21T12:58:13.115Z"
   },
   {
    "duration": 39,
    "start_time": "2024-10-21T12:58:18.957Z"
   },
   {
    "duration": 47,
    "start_time": "2024-10-21T12:58:25.241Z"
   },
   {
    "duration": 15,
    "start_time": "2024-10-21T12:58:27.866Z"
   },
   {
    "duration": 50,
    "start_time": "2024-10-21T12:58:31.617Z"
   },
   {
    "duration": 40,
    "start_time": "2024-10-21T12:58:37.189Z"
   },
   {
    "duration": 40,
    "start_time": "2024-10-21T12:59:27.781Z"
   },
   {
    "duration": 16,
    "start_time": "2024-10-21T12:59:36.335Z"
   },
   {
    "duration": 2,
    "start_time": "2024-10-21T12:59:39.978Z"
   },
   {
    "duration": 24,
    "start_time": "2024-10-21T12:59:39.984Z"
   },
   {
    "duration": 2,
    "start_time": "2024-10-21T12:59:40.010Z"
   },
   {
    "duration": 12,
    "start_time": "2024-10-21T12:59:40.013Z"
   },
   {
    "duration": 10,
    "start_time": "2024-10-21T12:59:40.026Z"
   },
   {
    "duration": 3,
    "start_time": "2024-10-21T12:59:40.039Z"
   },
   {
    "duration": 10,
    "start_time": "2024-10-21T12:59:40.044Z"
   },
   {
    "duration": 6,
    "start_time": "2024-10-21T12:59:40.055Z"
   },
   {
    "duration": 44,
    "start_time": "2024-10-21T12:59:40.064Z"
   },
   {
    "duration": 2,
    "start_time": "2024-10-21T12:59:40.110Z"
   },
   {
    "duration": 6,
    "start_time": "2024-10-21T12:59:40.114Z"
   },
   {
    "duration": 4,
    "start_time": "2024-10-21T12:59:40.122Z"
   },
   {
    "duration": 6,
    "start_time": "2024-10-21T12:59:40.127Z"
   },
   {
    "duration": 9,
    "start_time": "2024-10-21T12:59:40.135Z"
   },
   {
    "duration": 10,
    "start_time": "2024-10-21T12:59:40.148Z"
   },
   {
    "duration": 2,
    "start_time": "2024-10-21T12:59:40.159Z"
   },
   {
    "duration": 45,
    "start_time": "2024-10-21T12:59:40.163Z"
   },
   {
    "duration": 15,
    "start_time": "2024-10-21T12:59:40.210Z"
   },
   {
    "duration": 5,
    "start_time": "2024-10-21T12:59:40.227Z"
   },
   {
    "duration": 5,
    "start_time": "2024-10-21T12:59:40.234Z"
   },
   {
    "duration": 3,
    "start_time": "2024-10-21T12:59:40.241Z"
   },
   {
    "duration": 5,
    "start_time": "2024-10-21T12:59:40.246Z"
   },
   {
    "duration": 4,
    "start_time": "2024-10-21T12:59:40.252Z"
   },
   {
    "duration": 4,
    "start_time": "2024-10-21T12:59:40.258Z"
   },
   {
    "duration": 10,
    "start_time": "2024-10-21T12:59:40.305Z"
   },
   {
    "duration": 4,
    "start_time": "2024-10-21T12:59:40.317Z"
   },
   {
    "duration": 6,
    "start_time": "2024-10-21T12:59:40.323Z"
   },
   {
    "duration": 161,
    "start_time": "2024-10-21T12:59:40.330Z"
   },
   {
    "duration": 7,
    "start_time": "2024-10-21T12:59:40.492Z"
   },
   {
    "duration": 201,
    "start_time": "2024-10-21T12:59:40.500Z"
   },
   {
    "duration": 6,
    "start_time": "2024-10-21T12:59:40.703Z"
   },
   {
    "duration": 7,
    "start_time": "2024-10-21T12:59:40.711Z"
   },
   {
    "duration": 2,
    "start_time": "2024-10-21T12:59:40.720Z"
   },
   {
    "duration": 2,
    "start_time": "2024-10-21T12:59:40.724Z"
   },
   {
    "duration": 40,
    "start_time": "2024-10-21T12:59:40.728Z"
   },
   {
    "duration": 0,
    "start_time": "2024-10-21T12:59:40.770Z"
   },
   {
    "duration": 0,
    "start_time": "2024-10-21T12:59:40.771Z"
   },
   {
    "duration": 0,
    "start_time": "2024-10-21T12:59:40.773Z"
   },
   {
    "duration": 0,
    "start_time": "2024-10-21T12:59:40.773Z"
   },
   {
    "duration": 0,
    "start_time": "2024-10-21T12:59:40.774Z"
   },
   {
    "duration": 0,
    "start_time": "2024-10-21T12:59:40.805Z"
   },
   {
    "duration": 0,
    "start_time": "2024-10-21T12:59:40.806Z"
   },
   {
    "duration": 0,
    "start_time": "2024-10-21T12:59:40.807Z"
   },
   {
    "duration": 0,
    "start_time": "2024-10-21T12:59:40.809Z"
   },
   {
    "duration": 0,
    "start_time": "2024-10-21T12:59:40.811Z"
   },
   {
    "duration": 0,
    "start_time": "2024-10-21T12:59:40.812Z"
   },
   {
    "duration": 0,
    "start_time": "2024-10-21T12:59:40.813Z"
   },
   {
    "duration": 0,
    "start_time": "2024-10-21T12:59:40.815Z"
   },
   {
    "duration": 0,
    "start_time": "2024-10-21T12:59:40.816Z"
   },
   {
    "duration": 0,
    "start_time": "2024-10-21T12:59:40.818Z"
   },
   {
    "duration": 0,
    "start_time": "2024-10-21T12:59:40.819Z"
   },
   {
    "duration": 0,
    "start_time": "2024-10-21T12:59:40.821Z"
   },
   {
    "duration": 0,
    "start_time": "2024-10-21T12:59:40.822Z"
   },
   {
    "duration": 0,
    "start_time": "2024-10-21T12:59:40.824Z"
   },
   {
    "duration": 0,
    "start_time": "2024-10-21T12:59:40.825Z"
   },
   {
    "duration": 0,
    "start_time": "2024-10-21T12:59:40.826Z"
   },
   {
    "duration": 0,
    "start_time": "2024-10-21T12:59:40.828Z"
   },
   {
    "duration": 13,
    "start_time": "2024-10-21T13:05:26.991Z"
   },
   {
    "duration": 49,
    "start_time": "2024-10-21T13:05:39.619Z"
   },
   {
    "duration": 15,
    "start_time": "2024-10-21T13:06:01.874Z"
   },
   {
    "duration": 45,
    "start_time": "2024-10-21T13:06:29.794Z"
   },
   {
    "duration": 42,
    "start_time": "2024-10-21T13:07:32.816Z"
   },
   {
    "duration": 14,
    "start_time": "2024-10-21T13:07:43.957Z"
   },
   {
    "duration": 13,
    "start_time": "2024-10-21T13:08:08.010Z"
   },
   {
    "duration": 13,
    "start_time": "2024-10-21T13:08:20.851Z"
   },
   {
    "duration": 47,
    "start_time": "2024-10-21T13:08:51.314Z"
   },
   {
    "duration": 49,
    "start_time": "2024-10-21T13:09:47.104Z"
   },
   {
    "duration": 48,
    "start_time": "2024-10-21T13:10:09.950Z"
   },
   {
    "duration": 14,
    "start_time": "2024-10-21T13:12:11.689Z"
   },
   {
    "duration": 11,
    "start_time": "2024-10-21T13:12:22.664Z"
   },
   {
    "duration": 49,
    "start_time": "2024-10-21T13:13:06.621Z"
   },
   {
    "duration": 50,
    "start_time": "2024-10-21T13:13:26.921Z"
   },
   {
    "duration": 49,
    "start_time": "2024-10-21T13:13:34.934Z"
   },
   {
    "duration": 2176,
    "start_time": "2024-10-21T16:01:44.334Z"
   },
   {
    "duration": 35,
    "start_time": "2024-10-21T16:01:46.512Z"
   },
   {
    "duration": 2,
    "start_time": "2024-10-21T16:01:46.548Z"
   },
   {
    "duration": 12,
    "start_time": "2024-10-21T16:01:46.552Z"
   },
   {
    "duration": 14,
    "start_time": "2024-10-21T16:01:46.566Z"
   },
   {
    "duration": 3,
    "start_time": "2024-10-21T16:01:46.582Z"
   },
   {
    "duration": 11,
    "start_time": "2024-10-21T16:01:46.587Z"
   },
   {
    "duration": 33,
    "start_time": "2024-10-21T16:01:46.599Z"
   },
   {
    "duration": 6,
    "start_time": "2024-10-21T16:01:46.634Z"
   },
   {
    "duration": 2,
    "start_time": "2024-10-21T16:01:46.643Z"
   },
   {
    "duration": 6,
    "start_time": "2024-10-21T16:01:46.647Z"
   },
   {
    "duration": 3,
    "start_time": "2024-10-21T16:01:46.655Z"
   },
   {
    "duration": 6,
    "start_time": "2024-10-21T16:01:46.660Z"
   },
   {
    "duration": 9,
    "start_time": "2024-10-21T16:01:46.667Z"
   },
   {
    "duration": 54,
    "start_time": "2024-10-21T16:01:46.677Z"
   },
   {
    "duration": 2,
    "start_time": "2024-10-21T16:01:46.733Z"
   },
   {
    "duration": 4,
    "start_time": "2024-10-21T16:01:46.737Z"
   },
   {
    "duration": 16,
    "start_time": "2024-10-21T16:01:46.743Z"
   },
   {
    "duration": 6,
    "start_time": "2024-10-21T16:01:46.761Z"
   },
   {
    "duration": 6,
    "start_time": "2024-10-21T16:01:46.768Z"
   },
   {
    "duration": 4,
    "start_time": "2024-10-21T16:01:46.776Z"
   },
   {
    "duration": 4,
    "start_time": "2024-10-21T16:01:46.781Z"
   },
   {
    "duration": 44,
    "start_time": "2024-10-21T16:01:46.787Z"
   },
   {
    "duration": 3,
    "start_time": "2024-10-21T16:01:46.833Z"
   },
   {
    "duration": 11,
    "start_time": "2024-10-21T16:01:46.838Z"
   },
   {
    "duration": 4,
    "start_time": "2024-10-21T16:01:46.851Z"
   },
   {
    "duration": 6,
    "start_time": "2024-10-21T16:01:46.856Z"
   },
   {
    "duration": 176,
    "start_time": "2024-10-21T16:01:46.866Z"
   },
   {
    "duration": 7,
    "start_time": "2024-10-21T16:01:47.043Z"
   },
   {
    "duration": 220,
    "start_time": "2024-10-21T16:01:47.052Z"
   },
   {
    "duration": 7,
    "start_time": "2024-10-21T16:01:47.274Z"
   },
   {
    "duration": 6,
    "start_time": "2024-10-21T16:01:47.283Z"
   },
   {
    "duration": 2,
    "start_time": "2024-10-21T16:01:47.291Z"
   },
   {
    "duration": 2,
    "start_time": "2024-10-21T16:01:47.295Z"
   },
   {
    "duration": 451,
    "start_time": "2024-10-21T16:01:47.299Z"
   },
   {
    "duration": 0,
    "start_time": "2024-10-21T16:01:47.752Z"
   },
   {
    "duration": 0,
    "start_time": "2024-10-21T16:01:47.753Z"
   },
   {
    "duration": 0,
    "start_time": "2024-10-21T16:01:47.754Z"
   },
   {
    "duration": 0,
    "start_time": "2024-10-21T16:01:47.755Z"
   },
   {
    "duration": 0,
    "start_time": "2024-10-21T16:01:47.757Z"
   },
   {
    "duration": 0,
    "start_time": "2024-10-21T16:01:47.759Z"
   },
   {
    "duration": 0,
    "start_time": "2024-10-21T16:01:47.760Z"
   },
   {
    "duration": 0,
    "start_time": "2024-10-21T16:01:47.762Z"
   },
   {
    "duration": 0,
    "start_time": "2024-10-21T16:01:47.763Z"
   },
   {
    "duration": 0,
    "start_time": "2024-10-21T16:01:47.765Z"
   },
   {
    "duration": 0,
    "start_time": "2024-10-21T16:01:47.766Z"
   },
   {
    "duration": 0,
    "start_time": "2024-10-21T16:01:47.768Z"
   },
   {
    "duration": 0,
    "start_time": "2024-10-21T16:01:47.769Z"
   },
   {
    "duration": 0,
    "start_time": "2024-10-21T16:01:47.771Z"
   },
   {
    "duration": 0,
    "start_time": "2024-10-21T16:01:47.772Z"
   },
   {
    "duration": 0,
    "start_time": "2024-10-21T16:01:47.774Z"
   },
   {
    "duration": 0,
    "start_time": "2024-10-21T16:01:47.775Z"
   },
   {
    "duration": 0,
    "start_time": "2024-10-21T16:01:47.777Z"
   },
   {
    "duration": 0,
    "start_time": "2024-10-21T16:01:47.778Z"
   },
   {
    "duration": 0,
    "start_time": "2024-10-21T16:01:47.779Z"
   },
   {
    "duration": 0,
    "start_time": "2024-10-21T16:01:47.781Z"
   },
   {
    "duration": 5,
    "start_time": "2024-10-21T16:02:58.907Z"
   },
   {
    "duration": 5,
    "start_time": "2024-10-21T16:03:14.720Z"
   },
   {
    "duration": 3,
    "start_time": "2024-10-21T16:03:19.196Z"
   },
   {
    "duration": 5,
    "start_time": "2024-10-21T16:04:27.765Z"
   },
   {
    "duration": 40,
    "start_time": "2024-10-21T16:05:34.472Z"
   },
   {
    "duration": 4,
    "start_time": "2024-10-21T16:05:34.815Z"
   },
   {
    "duration": 2,
    "start_time": "2024-10-21T16:05:34.957Z"
   },
   {
    "duration": 215,
    "start_time": "2024-10-21T16:05:35.363Z"
   },
   {
    "duration": 0,
    "start_time": "2024-10-21T16:05:35.580Z"
   },
   {
    "duration": 49,
    "start_time": "2024-10-21T16:05:35.790Z"
   },
   {
    "duration": 205,
    "start_time": "2024-10-21T16:05:36.446Z"
   },
   {
    "duration": 0,
    "start_time": "2024-10-21T16:05:36.653Z"
   },
   {
    "duration": 2,
    "start_time": "2024-10-21T16:05:36.821Z"
   },
   {
    "duration": 15,
    "start_time": "2024-10-21T16:05:37.137Z"
   },
   {
    "duration": 13,
    "start_time": "2024-10-21T16:05:37.309Z"
   },
   {
    "duration": 13,
    "start_time": "2024-10-21T16:05:37.491Z"
   },
   {
    "duration": 22,
    "start_time": "2024-10-21T16:05:37.653Z"
   },
   {
    "duration": 14,
    "start_time": "2024-10-21T16:05:37.819Z"
   },
   {
    "duration": 2,
    "start_time": "2024-10-21T16:05:38.144Z"
   },
   {
    "duration": 2,
    "start_time": "2024-10-21T16:05:38.413Z"
   },
   {
    "duration": 462,
    "start_time": "2024-10-21T16:05:38.539Z"
   },
   {
    "duration": 81,
    "start_time": "2024-10-21T16:05:39.003Z"
   },
   {
    "duration": 160,
    "start_time": "2024-10-21T22:02:27.893Z"
   },
   {
    "duration": 11,
    "start_time": "2024-10-21T22:02:39.371Z"
   },
   {
    "duration": 12,
    "start_time": "2024-10-21T22:03:07.729Z"
   },
   {
    "duration": 2340,
    "start_time": "2024-10-21T22:03:12.687Z"
   },
   {
    "duration": 36,
    "start_time": "2024-10-21T22:03:15.031Z"
   },
   {
    "duration": 2,
    "start_time": "2024-10-21T22:03:15.069Z"
   },
   {
    "duration": 11,
    "start_time": "2024-10-21T22:03:15.073Z"
   },
   {
    "duration": 12,
    "start_time": "2024-10-21T22:03:15.086Z"
   },
   {
    "duration": 3,
    "start_time": "2024-10-21T22:03:15.100Z"
   },
   {
    "duration": 11,
    "start_time": "2024-10-21T22:03:15.105Z"
   },
   {
    "duration": 4,
    "start_time": "2024-10-21T22:03:15.118Z"
   },
   {
    "duration": 5,
    "start_time": "2024-10-21T22:03:15.124Z"
   },
   {
    "duration": 3,
    "start_time": "2024-10-21T22:03:15.132Z"
   },
   {
    "duration": 6,
    "start_time": "2024-10-21T22:03:15.136Z"
   },
   {
    "duration": 43,
    "start_time": "2024-10-21T22:03:15.144Z"
   },
   {
    "duration": 6,
    "start_time": "2024-10-21T22:03:15.189Z"
   },
   {
    "duration": 8,
    "start_time": "2024-10-21T22:03:15.197Z"
   },
   {
    "duration": 11,
    "start_time": "2024-10-21T22:03:15.206Z"
   },
   {
    "duration": 2,
    "start_time": "2024-10-21T22:03:15.218Z"
   },
   {
    "duration": 4,
    "start_time": "2024-10-21T22:03:15.222Z"
   },
   {
    "duration": 16,
    "start_time": "2024-10-21T22:03:15.228Z"
   },
   {
    "duration": 6,
    "start_time": "2024-10-21T22:03:24.619Z"
   },
   {
    "duration": 6,
    "start_time": "2024-10-21T22:03:47.967Z"
   },
   {
    "duration": 12,
    "start_time": "2024-10-21T22:03:57.614Z"
   },
   {
    "duration": 3,
    "start_time": "2024-10-21T22:04:02.177Z"
   },
   {
    "duration": 5,
    "start_time": "2024-10-21T22:04:04.433Z"
   },
   {
    "duration": 4,
    "start_time": "2024-10-21T22:11:51.114Z"
   },
   {
    "duration": 5,
    "start_time": "2024-10-21T22:11:54.753Z"
   },
   {
    "duration": 11,
    "start_time": "2024-10-21T22:11:57.662Z"
   },
   {
    "duration": 6,
    "start_time": "2024-10-21T22:12:02.758Z"
   },
   {
    "duration": 8,
    "start_time": "2024-10-21T22:12:16.426Z"
   },
   {
    "duration": 42,
    "start_time": "2024-10-21T22:12:21.522Z"
   },
   {
    "duration": 11,
    "start_time": "2024-10-21T22:17:39.352Z"
   },
   {
    "duration": 10,
    "start_time": "2024-10-21T22:22:35.372Z"
   },
   {
    "duration": 9,
    "start_time": "2024-10-21T22:24:06.120Z"
   },
   {
    "duration": 9,
    "start_time": "2024-10-21T22:24:22.385Z"
   },
   {
    "duration": 429,
    "start_time": "2024-10-21T22:24:43.052Z"
   },
   {
    "duration": 114,
    "start_time": "2024-10-21T22:24:50.657Z"
   },
   {
    "duration": 4,
    "start_time": "2024-10-21T22:24:56.185Z"
   },
   {
    "duration": 162,
    "start_time": "2024-10-21T22:24:59.084Z"
   },
   {
    "duration": 8,
    "start_time": "2024-10-21T22:25:06.527Z"
   },
   {
    "duration": 6,
    "start_time": "2024-10-21T22:25:13.037Z"
   },
   {
    "duration": 6,
    "start_time": "2024-10-21T22:25:18.137Z"
   },
   {
    "duration": 6,
    "start_time": "2024-10-21T22:25:21.746Z"
   },
   {
    "duration": 5,
    "start_time": "2024-10-21T22:25:26.208Z"
   },
   {
    "duration": 6,
    "start_time": "2024-10-21T22:25:29.988Z"
   },
   {
    "duration": 393,
    "start_time": "2024-10-21T22:25:37.985Z"
   },
   {
    "duration": 17,
    "start_time": "2024-10-21T22:25:42.029Z"
   },
   {
    "duration": 2156,
    "start_time": "2024-10-22T11:51:00.437Z"
   },
   {
    "duration": 36,
    "start_time": "2024-10-22T11:51:02.596Z"
   },
   {
    "duration": 2,
    "start_time": "2024-10-22T11:51:02.634Z"
   },
   {
    "duration": 12,
    "start_time": "2024-10-22T11:51:02.639Z"
   },
   {
    "duration": 13,
    "start_time": "2024-10-22T11:51:02.653Z"
   },
   {
    "duration": 3,
    "start_time": "2024-10-22T11:51:02.668Z"
   },
   {
    "duration": 35,
    "start_time": "2024-10-22T11:51:02.673Z"
   },
   {
    "duration": 4,
    "start_time": "2024-10-22T11:51:02.710Z"
   },
   {
    "duration": 5,
    "start_time": "2024-10-22T11:51:02.716Z"
   },
   {
    "duration": 1,
    "start_time": "2024-10-22T11:51:02.725Z"
   },
   {
    "duration": 6,
    "start_time": "2024-10-22T11:51:02.728Z"
   },
   {
    "duration": 4,
    "start_time": "2024-10-22T11:51:02.735Z"
   },
   {
    "duration": 6,
    "start_time": "2024-10-22T11:51:02.740Z"
   },
   {
    "duration": 9,
    "start_time": "2024-10-22T11:51:02.748Z"
   },
   {
    "duration": 50,
    "start_time": "2024-10-22T11:51:02.759Z"
   },
   {
    "duration": 2,
    "start_time": "2024-10-22T11:51:02.811Z"
   },
   {
    "duration": 5,
    "start_time": "2024-10-22T11:51:02.815Z"
   },
   {
    "duration": 16,
    "start_time": "2024-10-22T11:51:02.822Z"
   },
   {
    "duration": 5,
    "start_time": "2024-10-22T11:51:02.839Z"
   },
   {
    "duration": 4,
    "start_time": "2024-10-22T11:51:02.846Z"
   },
   {
    "duration": 4,
    "start_time": "2024-10-22T11:51:02.851Z"
   },
   {
    "duration": 12,
    "start_time": "2024-10-22T11:51:02.857Z"
   },
   {
    "duration": 6,
    "start_time": "2024-10-22T11:51:02.910Z"
   },
   {
    "duration": 8,
    "start_time": "2024-10-22T11:51:02.919Z"
   },
   {
    "duration": 167,
    "start_time": "2024-10-22T11:51:02.929Z"
   },
   {
    "duration": 13,
    "start_time": "2024-10-22T11:51:03.098Z"
   },
   {
    "duration": 200,
    "start_time": "2024-10-22T11:51:03.113Z"
   },
   {
    "duration": 10,
    "start_time": "2024-10-22T11:51:03.319Z"
   },
   {
    "duration": 3,
    "start_time": "2024-10-22T11:51:03.331Z"
   },
   {
    "duration": 2,
    "start_time": "2024-10-22T11:51:03.336Z"
   },
   {
    "duration": 8,
    "start_time": "2024-10-22T11:51:03.340Z"
   },
   {
    "duration": 3,
    "start_time": "2024-10-22T11:51:03.350Z"
   },
   {
    "duration": 416,
    "start_time": "2024-10-22T11:51:03.354Z"
   },
   {
    "duration": 2,
    "start_time": "2024-10-22T11:51:03.772Z"
   },
   {
    "duration": 133,
    "start_time": "2024-10-22T11:51:03.776Z"
   },
   {
    "duration": 4,
    "start_time": "2024-10-22T11:51:03.911Z"
   },
   {
    "duration": 172,
    "start_time": "2024-10-22T11:51:03.916Z"
   },
   {
    "duration": 3,
    "start_time": "2024-10-22T11:51:04.090Z"
   },
   {
    "duration": 18,
    "start_time": "2024-10-22T11:51:04.095Z"
   },
   {
    "duration": 6,
    "start_time": "2024-10-22T11:51:04.115Z"
   },
   {
    "duration": 4,
    "start_time": "2024-10-22T11:51:04.123Z"
   },
   {
    "duration": 4,
    "start_time": "2024-10-22T11:51:04.129Z"
   },
   {
    "duration": 5,
    "start_time": "2024-10-22T11:51:04.135Z"
   },
   {
    "duration": 3,
    "start_time": "2024-10-22T11:51:04.142Z"
   },
   {
    "duration": 4,
    "start_time": "2024-10-22T11:51:04.146Z"
   },
   {
    "duration": 395,
    "start_time": "2024-10-22T11:51:04.151Z"
   },
   {
    "duration": 12,
    "start_time": "2024-10-22T11:51:04.548Z"
   },
   {
    "duration": 5,
    "start_time": "2024-10-22T11:51:04.562Z"
   },
   {
    "duration": 4,
    "start_time": "2024-10-22T11:51:04.569Z"
   },
   {
    "duration": 5,
    "start_time": "2024-10-22T11:51:04.576Z"
   },
   {
    "duration": 6,
    "start_time": "2024-10-22T11:51:04.608Z"
   },
   {
    "duration": 5,
    "start_time": "2024-10-22T11:58:07.552Z"
   },
   {
    "duration": 548,
    "start_time": "2024-10-22T11:58:45.476Z"
   },
   {
    "duration": 5,
    "start_time": "2024-10-22T11:59:45.556Z"
   },
   {
    "duration": 8,
    "start_time": "2024-10-22T12:00:04.348Z"
   },
   {
    "duration": 8,
    "start_time": "2024-10-22T12:00:11.680Z"
   },
   {
    "duration": 836,
    "start_time": "2024-10-22T22:42:54.728Z"
   },
   {
    "duration": 19,
    "start_time": "2024-10-22T22:43:10.717Z"
   },
   {
    "duration": 19,
    "start_time": "2024-10-22T22:43:12.677Z"
   },
   {
    "duration": 18,
    "start_time": "2024-10-22T22:43:15.092Z"
   },
   {
    "duration": 15,
    "start_time": "2024-10-22T22:43:17.450Z"
   },
   {
    "duration": 14,
    "start_time": "2024-10-22T22:44:26.604Z"
   },
   {
    "duration": 12,
    "start_time": "2024-10-22T22:45:22.978Z"
   },
   {
    "duration": 1877,
    "start_time": "2024-10-22T22:45:33.712Z"
   },
   {
    "duration": 32,
    "start_time": "2024-10-22T22:45:35.591Z"
   },
   {
    "duration": 2,
    "start_time": "2024-10-22T22:45:35.625Z"
   },
   {
    "duration": 10,
    "start_time": "2024-10-22T22:45:35.630Z"
   },
   {
    "duration": 11,
    "start_time": "2024-10-22T22:45:35.642Z"
   },
   {
    "duration": 3,
    "start_time": "2024-10-22T22:45:35.655Z"
   },
   {
    "duration": 10,
    "start_time": "2024-10-22T22:45:35.660Z"
   },
   {
    "duration": 35,
    "start_time": "2024-10-22T22:45:35.671Z"
   },
   {
    "duration": 5,
    "start_time": "2024-10-22T22:45:35.708Z"
   },
   {
    "duration": 3,
    "start_time": "2024-10-22T22:45:35.715Z"
   },
   {
    "duration": 6,
    "start_time": "2024-10-22T22:45:35.719Z"
   },
   {
    "duration": 3,
    "start_time": "2024-10-22T22:45:35.727Z"
   },
   {
    "duration": 6,
    "start_time": "2024-10-22T22:45:35.731Z"
   },
   {
    "duration": 7,
    "start_time": "2024-10-22T22:45:35.739Z"
   },
   {
    "duration": 9,
    "start_time": "2024-10-22T22:45:35.748Z"
   },
   {
    "duration": 2,
    "start_time": "2024-10-22T22:45:35.759Z"
   },
   {
    "duration": 45,
    "start_time": "2024-10-22T22:45:35.762Z"
   },
   {
    "duration": 16,
    "start_time": "2024-10-22T22:45:35.809Z"
   },
   {
    "duration": 5,
    "start_time": "2024-10-22T22:45:35.827Z"
   },
   {
    "duration": 4,
    "start_time": "2024-10-22T22:45:35.833Z"
   },
   {
    "duration": 4,
    "start_time": "2024-10-22T22:45:35.839Z"
   },
   {
    "duration": 11,
    "start_time": "2024-10-22T22:45:35.844Z"
   },
   {
    "duration": 4,
    "start_time": "2024-10-22T22:45:35.857Z"
   },
   {
    "duration": 42,
    "start_time": "2024-10-22T22:45:35.863Z"
   },
   {
    "duration": 151,
    "start_time": "2024-10-22T22:45:35.907Z"
   },
   {
    "duration": 7,
    "start_time": "2024-10-22T22:45:36.059Z"
   },
   {
    "duration": 206,
    "start_time": "2024-10-22T22:45:36.068Z"
   },
   {
    "duration": 9,
    "start_time": "2024-10-22T22:45:36.278Z"
   },
   {
    "duration": 2,
    "start_time": "2024-10-22T22:45:36.289Z"
   },
   {
    "duration": 3,
    "start_time": "2024-10-22T22:45:36.292Z"
   },
   {
    "duration": 9,
    "start_time": "2024-10-22T22:45:36.296Z"
   },
   {
    "duration": 2,
    "start_time": "2024-10-22T22:45:36.307Z"
   },
   {
    "duration": 365,
    "start_time": "2024-10-22T22:45:36.311Z"
   },
   {
    "duration": 2,
    "start_time": "2024-10-22T22:45:36.678Z"
   },
   {
    "duration": 126,
    "start_time": "2024-10-22T22:45:36.682Z"
   },
   {
    "duration": 4,
    "start_time": "2024-10-22T22:45:36.810Z"
   },
   {
    "duration": 233,
    "start_time": "2024-10-22T22:45:36.816Z"
   },
   {
    "duration": 2,
    "start_time": "2024-10-22T22:45:37.051Z"
   },
   {
    "duration": 6,
    "start_time": "2024-10-22T22:45:37.055Z"
   },
   {
    "duration": 6,
    "start_time": "2024-10-22T22:45:37.063Z"
   },
   {
    "duration": 4,
    "start_time": "2024-10-22T22:45:37.070Z"
   },
   {
    "duration": 30,
    "start_time": "2024-10-22T22:45:37.076Z"
   },
   {
    "duration": 6,
    "start_time": "2024-10-22T22:45:37.107Z"
   },
   {
    "duration": 3,
    "start_time": "2024-10-22T22:45:37.114Z"
   },
   {
    "duration": 3,
    "start_time": "2024-10-22T22:45:37.119Z"
   },
   {
    "duration": 4,
    "start_time": "2024-10-22T22:45:37.123Z"
   },
   {
    "duration": 11,
    "start_time": "2024-10-22T22:45:37.128Z"
   },
   {
    "duration": 7,
    "start_time": "2024-10-22T22:45:37.141Z"
   },
   {
    "duration": 4,
    "start_time": "2024-10-22T22:45:37.150Z"
   },
   {
    "duration": 5,
    "start_time": "2024-10-22T22:45:39.903Z"
   }
  ],
  "kernelspec": {
   "display_name": "Python 3 (ipykernel)",
   "language": "python",
   "name": "python3"
  },
  "language_info": {
   "codemirror_mode": {
    "name": "ipython",
    "version": 3
   },
   "file_extension": ".py",
   "mimetype": "text/x-python",
   "name": "python",
   "nbconvert_exporter": "python",
   "pygments_lexer": "ipython3",
   "version": "3.9.19"
  },
  "toc": {
   "base_numbering": 1,
   "nav_menu": {
    "height": "30px",
    "width": "160px"
   },
   "number_sections": true,
   "sideBar": true,
   "skip_h1_title": true,
   "title_cell": "Table of Contents",
   "title_sidebar": "Contents",
   "toc_cell": false,
   "toc_position": {},
   "toc_section_display": true,
   "toc_window_display": false
  }
 },
 "nbformat": 4,
 "nbformat_minor": 2
}
